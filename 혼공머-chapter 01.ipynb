{
 "cells": [
  {
   "cell_type": "code",
   "execution_count": 3,
   "id": "e6bfe672",
   "metadata": {},
   "outputs": [],
   "source": [
    "# 도미 데이터\n",
    "bream_length = [25.4, 26.3, 26.5, 29.0, 29.0, 29.7, 29.7, 30.0, 30.0, 30.7, 31.0, 31.0, \n",
    "                31.5, 32.0, 32.0, 32.0, 33.0, 33.0, 33.5, 33.5, 34.0, 34.0, 34.5, 35.0, \n",
    "                35.0, 35.0, 35.0, 36.0, 36.0, 37.0, 38.5, 38.5, 39.5, 41.0, 41.0]\n",
    "bream_weight = [242.0, 290.0, 340.0, 363.0, 430.0, 450.0, 500.0, 390.0, 450.0, 500.0, 475.0, 500.0, \n",
    "                500.0, 340.0, 600.0, 600.0, 700.0, 700.0, 610.0, 650.0, 575.0, 685.0, 620.0, 680.0, \n",
    "                700.0, 725.0, 720.0, 714.0, 850.0, 1000.0, 920.0, 955.0, 925.0, 975.0, 950.0]"
   ]
  },
  {
   "cell_type": "code",
   "execution_count": 4,
   "id": "7112cab9",
   "metadata": {},
   "outputs": [],
   "source": [
    "import matplotlib.pyplot as plt"
   ]
  },
  {
   "cell_type": "code",
   "execution_count": 6,
   "id": "ac3a2469",
   "metadata": {},
   "outputs": [
    {
     "data": {
      "image/png": "[encoded data removed]",
      "text/plain": [
       "<Figure size 432x288 with 1 Axes>"
      ]
     },
     "metadata": {
      "needs_background": "light"
     },
     "output_type": "display_data"
    }
   ],
   "source": [
    "plt.scatter(bream_length,bream_weight) # 산점도. x축은 길이, y축은 무게\n",
    "plt.xlabel('length') # x 축은 length라고 명시\n",
    "plt.ylabel('weight') # y 축은 weight라고 명시\n",
    "plt.show()\n"
   ]
  },
  {
   "cell_type": "code",
   "execution_count": 7,
   "id": "aa172aa0",
   "metadata": {},
   "outputs": [],
   "source": [
    "# 빙어 데이터\n",
    "smelt_length = [9.8, 10.5, 10.6, 11.0, 11.2, 11.3, 11.8, 11.8, 12.0, 12.2, 12.4, 13.0, 14.3, 15.0]\n",
    "smelt_weight = [6.7, 7.5, 7.0, 9.7, 9.8, 8.7, 10.0, 9.9, 9.8, 12.2, 13.4, 12.2, 19.7, 19.9]"
   ]
  },
  {
   "cell_type": "code",
   "execution_count": 8,
   "id": "65f924cc",
   "metadata": {},
   "outputs": [
    {
     "data": {
      "image/png": "[encoded data removed]",
      "text/plain": [
       "<Figure size 432x288 with 1 Axes>"
      ]
     },
     "metadata": {
      "needs_background": "light"
     },
     "output_type": "display_data"
    }
   ],
   "source": [
    "plt.scatter(bream_length,bream_weight) # 산점도. x축은 길이, y축은 무게\n",
    "plt.scatter(smelt_length, smelt_weight) # 산점도. x축은 길이, y축은 무게. \n",
    "plt.xlabel('length') # x 축은 length라고 명시\n",
    "plt.ylabel('weight') # y 축은 weight라고 명시\n",
    "plt.show() # 도미와 빙어 데이터가 색으로 구분되어 나타남. x축은 길이 데이터. y축은 무게 데이터"
   ]
  },
  {
   "cell_type": "code",
   "execution_count": 17,
   "id": "27731103",
   "metadata": {},
   "outputs": [
    {
     "data": {
      "text/plain": [
       "[[25.4, 242.0],\n",
       " [26.3, 290.0],\n",
       " [26.5, 340.0],\n",
       " [29.0, 363.0],\n",
       " [29.0, 430.0],\n",
       " [29.7, 450.0],\n",
       " [29.7, 500.0],\n",
       " [30.0, 390.0],\n",
       " [30.0, 450.0],\n",
       " [30.7, 500.0],\n",
       " [31.0, 475.0],\n",
       " [31.0, 500.0],\n",
       " [31.5, 500.0],\n",
       " [32.0, 340.0],\n",
       " [32.0, 600.0],\n",
       " [32.0, 600.0],\n",
       " [33.0, 700.0],\n",
       " [33.0, 700.0],\n",
       " [33.5, 610.0],\n",
       " [33.5, 650.0],\n",
       " [34.0, 575.0],\n",
       " [34.0, 685.0],\n",
       " [34.5, 620.0],\n",
       " [35.0, 680.0],\n",
       " [35.0, 700.0],\n",
       " [35.0, 725.0],\n",
       " [35.0, 720.0],\n",
       " [36.0, 714.0],\n",
       " [36.0, 850.0],\n",
       " [37.0, 1000.0],\n",
       " [38.5, 920.0],\n",
       " [38.5, 955.0],\n",
       " [39.5, 925.0],\n",
       " [41.0, 975.0],\n",
       " [41.0, 950.0],\n",
       " [9.8, 6.7],\n",
       " [10.5, 7.5],\n",
       " [10.6, 7.0],\n",
       " [11.0, 9.7],\n",
       " [11.2, 9.8],\n",
       " [11.3, 8.7],\n",
       " [11.8, 10.0],\n",
       " [11.8, 9.9],\n",
       " [12.0, 9.8],\n",
       " [12.2, 12.2],\n",
       " [12.4, 13.4],\n",
       " [13.0, 12.2],\n",
       " [14.3, 19.7],\n",
       " [15.0, 19.9]]"
      ]
     },
     "execution_count": 17,
     "metadata": {},
     "output_type": "execute_result"
    }
   ],
   "source": [
    "# 물고기 데이터 합치기\n",
    "\n",
    "length = bream_length + smelt_length #리스트 합치기\n",
    "weight = bream_weight + smelt_weight #리스트 합치기\n",
    "fish_data = [[l,w] for l,w in zip(length, weight)] # 2차원 리스트\n",
    "fish_data"
   ]
  },
  {
   "cell_type": "code",
   "execution_count": 18,
   "id": "873f36e6",
   "metadata": {},
   "outputs": [
    {
     "data": {
      "text/plain": [
       "[1,\n",
       " 1,\n",
       " 1,\n",
       " 1,\n",
       " 1,\n",
       " 1,\n",
       " 1,\n",
       " 1,\n",
       " 1,\n",
       " 1,\n",
       " 1,\n",
       " 1,\n",
       " 1,\n",
       " 1,\n",
       " 1,\n",
       " 1,\n",
       " 1,\n",
       " 1,\n",
       " 1,\n",
       " 1,\n",
       " 1,\n",
       " 1,\n",
       " 1,\n",
       " 1,\n",
       " 1,\n",
       " 1,\n",
       " 1,\n",
       " 1,\n",
       " 1,\n",
       " 1,\n",
       " 1,\n",
       " 1,\n",
       " 1,\n",
       " 1,\n",
       " 1,\n",
       " 0,\n",
       " 0,\n",
       " 0,\n",
       " 0,\n",
       " 0,\n",
       " 0,\n",
       " 0,\n",
       " 0,\n",
       " 0,\n",
       " 0,\n",
       " 0,\n",
       " 0,\n",
       " 0,\n",
       " 0]"
      ]
     },
     "execution_count": 18,
     "metadata": {},
     "output_type": "execute_result"
    }
   ],
   "source": [
    "fish_target = [1]*35 + [0]*14 \n",
    "fish_target\n",
    "#머신러닝에서 2개를 구분하는 경우 찾으려는 대상을 1, 그외에는 0. \n",
    "# 여기서는 찾으려는 대상을 도미로 정함. 도미, 빙어 순으로 나열되었으므로, 1이 먼저, 그 다음 0."
   ]
  },
  {
   "cell_type": "code",
   "execution_count": 15,
   "id": "91912f2f",
   "metadata": {},
   "outputs": [],
   "source": [
    "from sklearn.neighbors import KNeighborsClassifier #사이킷런 패키지에서 k-최근접 이웃 알고리즘 구현 클래스 임포트"
   ]
  },
  {
   "cell_type": "code",
   "execution_count": 16,
   "id": "ec9ce5c5",
   "metadata": {},
   "outputs": [
    {
     "data": {
      "text/plain": [
       "1.0"
      ]
     },
     "execution_count": 16,
     "metadata": {},
     "output_type": "execute_result"
    }
   ],
   "source": [
    "kn = KNeighborsClassifier() # 임포트한 클래스의 객체를 만듦\n",
    "kn.fit(fish_data, fish_target) # 주어진 데이터로 알고리즘을 훈련\n",
    "kn.score(fish_data, fish_target) # 모델 평가. 1은 모든 데이터 정확히 맞혔다는 것을 의미"
   ]
  },
  {
   "cell_type": "code",
   "execution_count": 19,
   "id": "9e29f22d",
   "metadata": {},
   "outputs": [],
   "source": [
    "# 위에 1.0이 출력된 것을 볼 수 있음. 이를 정확도라고 함. \n",
    "# 우리는 도미와 빙어를 완전히 분류해 놓고, 도미를 1로 설정해 비교했기 때문에 정확도가 1이 나옴."
   ]
  },
  {
   "cell_type": "code",
   "execution_count": 20,
   "id": "300a0ac8",
   "metadata": {},
   "outputs": [
    {
     "data": {
      "image/png": "[encoded data removed]",
      "text/plain": [
       "<Figure size 432x288 with 1 Axes>"
      ]
     },
     "metadata": {
      "needs_background": "light"
     },
     "output_type": "display_data"
    }
   ],
   "source": [
    "plt.scatter(bream_length,bream_weight) # 산점도. x축은 길이, y축은 무게\n",
    "plt.scatter(smelt_length, smelt_weight) # 산점도. x축은 길이, y축은 무게. \n",
    "plt.xlabel('length') # x 축은 length라고 명시\n",
    "plt.ylabel('weight') # y 축은 weight라고 명시\n",
    "plt.show() # 도미와 빙어 데이터가 색으로 구분되어 나타남. x축은 길이 데이터. y축은 무게 데이터"
   ]
  },
  {
   "cell_type": "code",
   "execution_count": 21,
   "id": "42f6c068",
   "metadata": {},
   "outputs": [
    {
     "data": {
      "text/plain": [
       "array([1])"
      ]
     },
     "execution_count": 21,
     "metadata": {},
     "output_type": "execute_result"
    }
   ],
   "source": [
    "kn.predict([[35,800]]) #길이 35, 무게 800인 데이터는 도미의 데이터일까, 빙어의 데이터일까를 예측\n",
    "# 도미 데이터 이므로 1 출력"
   ]
  },
  {
   "cell_type": "code",
   "execution_count": 25,
   "id": "98cb38ac",
   "metadata": {},
   "outputs": [
    {
     "name": "stdout",
     "output_type": "stream",
     "text": [
      "[[  25.4  242. ]\n",
      " [  26.3  290. ]\n",
      " [  26.5  340. ]\n",
      " [  29.   363. ]\n",
      " [  29.   430. ]\n",
      " [  29.7  450. ]\n",
      " [  29.7  500. ]\n",
      " [  30.   390. ]\n",
      " [  30.   450. ]\n",
      " [  30.7  500. ]\n",
      " [  31.   475. ]\n",
      " [  31.   500. ]\n",
      " [  31.5  500. ]\n",
      " [  32.   340. ]\n",
      " [  32.   600. ]\n",
      " [  32.   600. ]\n",
      " [  33.   700. ]\n",
      " [  33.   700. ]\n",
      " [  33.5  610. ]\n",
      " [  33.5  650. ]\n",
      " [  34.   575. ]\n",
      " [  34.   685. ]\n",
      " [  34.5  620. ]\n",
      " [  35.   680. ]\n",
      " [  35.   700. ]\n",
      " [  35.   725. ]\n",
      " [  35.   720. ]\n",
      " [  36.   714. ]\n",
      " [  36.   850. ]\n",
      " [  37.  1000. ]\n",
      " [  38.5  920. ]\n",
      " [  38.5  955. ]\n",
      " [  39.5  925. ]\n",
      " [  41.   975. ]\n",
      " [  41.   950. ]\n",
      " [   9.8    6.7]\n",
      " [  10.5    7.5]\n",
      " [  10.6    7. ]\n",
      " [  11.     9.7]\n",
      " [  11.2    9.8]\n",
      " [  11.3    8.7]\n",
      " [  11.8   10. ]\n",
      " [  11.8    9.9]\n",
      " [  12.     9.8]\n",
      " [  12.2   12.2]\n",
      " [  12.4   13.4]\n",
      " [  13.    12.2]\n",
      " [  14.3   19.7]\n",
      " [  15.    19.9]]\n"
     ]
    }
   ],
   "source": [
    "print(kn._fit_X) #fit_X 속성에 fish_data"
   ]
  },
  {
   "cell_type": "code",
   "execution_count": 27,
   "id": "5d1634e9",
   "metadata": {},
   "outputs": [
    {
     "name": "stdout",
     "output_type": "stream",
     "text": [
      "[1 1 1 1 1 1 1 1 1 1 1 1 1 1 1 1 1 1 1 1 1 1 1 1 1 1 1 1 1 1 1 1 1 1 1 0 0\n",
      " 0 0 0 0 0 0 0 0 0 0 0 0]\n"
     ]
    }
   ],
   "source": [
    "print(kn._y) # _y속성에 fish_target"
   ]
  },
  {
   "cell_type": "code",
   "execution_count": 51,
   "id": "ad020e9a",
   "metadata": {},
   "outputs": [
    {
     "data": {
      "text/plain": [
       "0.7142857142857143"
      ]
     },
     "execution_count": 51,
     "metadata": {},
     "output_type": "execute_result"
    }
   ],
   "source": [
    "# 가장 가까운 데이터 원하는 갯수만큼 참고하기\n",
    "kn49 = KNeighborsClassifier(n_neighbors=49) #참고 데이터(가장 가까운 데이터)를 49개로 한 kn49 모델. \n",
    "kn49.fit(fish_data, fish_target) #훈련\n",
    "kn49.score(fish_data, fish_target) # 정확도 평가"
   ]
  },
  {
   "cell_type": "code",
   "execution_count": 39,
   "id": "69740513",
   "metadata": {},
   "outputs": [
    {
     "name": "stdout",
     "output_type": "stream",
     "text": [
      "0.7142857142857143\n"
     ]
    }
   ],
   "source": [
    "# 위의 정확도는 35/49와 같다\n",
    "print(35/49)"
   ]
  },
  {
   "cell_type": "code",
   "execution_count": 42,
   "id": "6ccf6187",
   "metadata": {},
   "outputs": [],
   "source": [
    "# kn49.score() 다음에 print 써도 두 번 출력 안됨. 두 값 모두 출력 하려면 print도 두 개 쓰거나 위에서 처럼 코드 셀을 따로 작성한다.\n"
   ]
  },
  {
   "cell_type": "code",
   "execution_count": 43,
   "id": "11b7d971",
   "metadata": {},
   "outputs": [
    {
     "name": "stdout",
     "output_type": "stream",
     "text": [
      "18 0.9795918367346939\n"
     ]
    }
   ],
   "source": [
    "# n_neighbors의 값을 바꾸어 가며 정확도가 1 밑으로 내려가기 시작하는 값을 찾아보자\n",
    "kn = KNeighborsClassifier()\n",
    "kn.fit(fish_data,fish_target)\n",
    "\n",
    "for n in range(5,50): # 5이상 49이하\n",
    "    kn.n_neighbors = n #5부터 49까지 반복 대입\n",
    "    score = kn.score(fish_data,fish_target)\n",
    "    if score<1: # 정확도가 1보다 낮은 시점에\n",
    "        print(n,score) # n과 정확도 출력 후\n",
    "        break # 탈출\n",
    "# n_neighbors = 18 일 때부터, 정확도가 1 밑으로 내려간다.\n",
    "# 5<=n_neighbors<=17 일 때는 정확도가 1 "
   ]
  },
  {
   "cell_type": "code",
   "execution_count": null,
   "id": "2a74d9da",
   "metadata": {},
   "outputs": [],
   "source": []
  }
 ],
 "metadata": {
  "kernelspec": {
   "display_name": "Python 3 (ipykernel)",
   "language": "python",
   "name": "python3"
  },
  "language_info": {
   "codemirror_mode": {
    "name": "ipython",
    "version": 3
   },
   "file_extension": ".py",
   "mimetype": "text/x-python",
   "name": "python",
   "nbconvert_exporter": "python",
   "pygments_lexer": "ipython3",
   "version": "3.9.12"
  }
 },
 "nbformat": 4,
 "nbformat_minor": 5
}
