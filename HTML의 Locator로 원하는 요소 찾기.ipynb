{
 "cells": [
  {
   "cell_type": "code",
   "execution_count": 1,
   "id": "6f7de830-f915-4b7f-8cf9-bee0e2444cce",
   "metadata": {},
   "outputs": [],
   "source": [
    "# 스크래핑에 필요한 라이브러리 불러오기\n",
    "\n",
    "import requests\n",
    "from bs4 import BeautifulSoup\n"
   ]
  },
  {
   "cell_type": "code",
   "execution_count": 3,
   "id": "fdbcaf36-611b-4d12-9798-d92ce2c3d04f",
   "metadata": {},
   "outputs": [],
   "source": [
    "res = requests.get(\"http://example.python-scraping.com/\")\n",
    "soup = BeautifulSoup(res.text, \"html.parser\")"
   ]
  },
  {
   "cell_type": "code",
   "execution_count": 4,
   "id": "e405c061-c613-47eb-a3c7-27a5d06fbd6d",
   "metadata": {},
   "outputs": [
    {
     "data": {
      "text/plain": [
       "<div class=\"navbar navbar-inverse\">\n",
       "<div class=\"flash\"></div>\n",
       "<div class=\"navbar-inner\">\n",
       "<div class=\"container\">\n",
       "<!-- the next tag is necessary for bootstrap menus, do not remove -->\n",
       "<button class=\"btn btn-navbar\" data-target=\".nav-collapse\" data-toggle=\"collapse\" style=\"display:none;\" type=\"button\">\n",
       "<span class=\"icon-bar\"></span>\n",
       "<span class=\"icon-bar\"></span>\n",
       "<span class=\"icon-bar\"></span>\n",
       "</button>\n",
       "<ul class=\"nav pull-right\" id=\"navbar\"><li class=\"dropdown\"><a class=\"dropdown-toggle\" data-toggle=\"dropdown\" href=\"#\" rel=\"nofollow\">Log In</a><ul class=\"dropdown-menu\"><li><a href=\"/places/default/user/register?_next=/places/default/index\" rel=\"nofollow\"><i class=\"icon icon-user glyphicon glyphicon-user\"></i> Sign Up</a></li><li class=\"divider\"></li><li><a href=\"/places/default/user/login?_next=/places/default/index\" rel=\"nofollow\"><i class=\"icon icon-off glyphicon glyphicon-off\"></i> Log In</a></li></ul></li></ul>\n",
       "<div class=\"nav\">\n",
       "<ul class=\"nav\"><li class=\"web2py-menu-first\"><a href=\"/places/default/index\">Home</a></li><li class=\"web2py-menu-last\"><a href=\"/places/default/search\">Search</a></li></ul>\n",
       "</div><!--/.nav-collapse -->\n",
       "</div>\n",
       "</div>\n",
       "</div>"
      ]
     },
     "execution_count": 4,
     "metadata": {},
     "output_type": "execute_result"
    }
   ],
   "source": [
    "#id 없이 div 태그를 찾아보자\n",
    "\n",
    "soup.find(\"div\")"
   ]
  },
  {
   "cell_type": "code",
   "execution_count": 5,
   "id": "72f1f426-b431-42a3-b397-50dc4fc4333b",
   "metadata": {},
   "outputs": [
    {
     "data": {
      "text/plain": [
       "<div id=\"results\">\n",
       "<table><tr><td><div><a href=\"/places/default/view/Afghanistan-1\"><img src=\"/places/static/images/flags/af.png\"/> Afghanistan</a></div></td><td><div><a href=\"/places/default/view/Aland-Islands-2\"><img src=\"/places/static/images/flags/ax.png\"/> Aland Islands</a></div></td></tr><tr><td><div><a href=\"/places/default/view/Albania-3\"><img src=\"/places/static/images/flags/al.png\"/> Albania</a></div></td><td><div><a href=\"/places/default/view/Algeria-4\"><img src=\"/places/static/images/flags/dz.png\"/> Algeria</a></div></td></tr><tr><td><div><a href=\"/places/default/view/American-Samoa-5\"><img src=\"/places/static/images/flags/as.png\"/> American Samoa</a></div></td><td><div><a href=\"/places/default/view/Andorra-6\"><img src=\"/places/static/images/flags/ad.png\"/> Andorra</a></div></td></tr><tr><td><div><a href=\"/places/default/view/Angola-7\"><img src=\"/places/static/images/flags/ao.png\"/> Angola</a></div></td><td><div><a href=\"/places/default/view/Anguilla-8\"><img src=\"/places/static/images/flags/ai.png\"/> Anguilla</a></div></td></tr><tr><td><div><a href=\"/places/default/view/Antarctica-9\"><img src=\"/places/static/images/flags/aq.png\"/> Antarctica</a></div></td><td><div><a href=\"/places/default/view/Antigua-and-Barbuda-10\"><img src=\"/places/static/images/flags/ag.png\"/> Antigua and Barbuda</a></div></td></tr></table>\n",
       "</div>"
      ]
     },
     "execution_count": 5,
     "metadata": {},
     "output_type": "execute_result"
    }
   ],
   "source": [
    "# id가 results인 태그를 찾아보자\n",
    "soup.find(\"div\", id=\"results\")"
   ]
  },
  {
   "cell_type": "code",
   "execution_count": 6,
   "id": "b7130815-a50d-4f02-ab9c-28fd1b4db32a",
   "metadata": {},
   "outputs": [],
   "source": [
    "# class가 \"page-header\"인 div태그 찾기\n",
    "find_result = soup.find(\"div\", \"page-header\") #파라미터 이름을 굳이 지정 안해도 됨."
   ]
  },
  {
   "cell_type": "code",
   "execution_count": 7,
   "id": "50112ed3-c801-4888-962d-f18a228b3d93",
   "metadata": {},
   "outputs": [
    {
     "data": {
      "text/plain": [
       "<div class=\"page-header\">\n",
       "<h1>\n",
       "                    Example web scraping website\n",
       "                    <small></small>\n",
       "</h1>\n",
       "</div>"
      ]
     },
     "execution_count": 7,
     "metadata": {},
     "output_type": "execute_result"
    }
   ],
   "source": [
    "find_result"
   ]
  },
  {
   "cell_type": "code",
   "execution_count": 21,
   "id": "45b2a78b-bef8-4012-91b3-e3f2587c57d2",
   "metadata": {},
   "outputs": [
    {
     "data": {
      "text/plain": [
       "'Example web scraping website'"
      ]
     },
     "execution_count": 21,
     "metadata": {},
     "output_type": "execute_result"
    }
   ],
   "source": [
    "find_result.h1.text.strip()"
   ]
  },
  {
   "cell_type": "code",
   "execution_count": 20,
   "id": "a68b5269-4386-4462-917f-6fa133e2778d",
   "metadata": {},
   "outputs": [
    {
     "data": {
      "text/plain": [
       "'나 는 행 복 합 니 다.'"
      ]
     },
     "execution_count": 20,
     "metadata": {},
     "output_type": "execute_result"
    }
   ],
   "source": []
  },
  {
   "cell_type": "code",
   "execution_count": null,
   "id": "3d483694-2ac2-45b7-af40-0478d581ea6d",
   "metadata": {},
   "outputs": [],
   "source": []
  }
 ],
 "metadata": {
  "kernelspec": {
   "display_name": "Python 3 (ipykernel)",
   "language": "python",
   "name": "python3"
  },
  "language_info": {
   "codemirror_mode": {
    "name": "ipython",
    "version": 3
   },
   "file_extension": ".py",
   "mimetype": "text/x-python",
   "name": "python",
   "nbconvert_exporter": "python",
   "pygments_lexer": "ipython3",
   "version": "3.9.12"
  }
 },
 "nbformat": 4,
 "nbformat_minor": 5
}
