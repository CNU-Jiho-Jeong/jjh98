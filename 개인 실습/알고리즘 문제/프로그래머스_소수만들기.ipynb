{
  "nbformat": 4,
  "nbformat_minor": 0,
  "metadata": {
    "colab": {
      "provenance": []
    },
    "kernelspec": {
      "name": "python3",
      "display_name": "Python 3"
    },
    "language_info": {
      "name": "python"
    }
  },
  "cells": [
    {
      "cell_type": "markdown",
      "source": [
        "주어진 숫자 중 3개의 수를 더했을 때 소수가 되는 경우의 개수를 구하려고 합니다. 숫자들이 들어있는 배열 nums가 매개변수로 주어질 때, nums에 있는 숫자들 중 서로 다른 3개를 골라 더했을 때 소수가 되는 경우의 개수를 return 하도록 solution 함수를 완성해주세요.\n",
        "- nums에 들어있는 숫자의 개수는 3개 이상 50개 이하입니다.\n",
        "- nums의 각 원소는 1 이상 1,000 이하의 자연수이며, 중복된 숫자가 들어있지 않습니다."
      ],
      "metadata": {
        "id": "F8eSypXB3rKn"
      }
    },
    {
      "cell_type": "code",
      "source": [
        "from itertools import *\n",
        "\n",
        "def solution(nums):        \n",
        "    answer = 0\n",
        "    sum = 0\n",
        "    A = list(combinations(nums,3)) #조합 사용. 그리고 리스트화. 각 조합이 리스트의 요소가 됨.\n",
        "    for i in range(len(A)):\n",
        "        for k in range(3):\n",
        "            sum = sum + A[i][k]\n",
        "        for n in range(2,sum): \n",
        "            if (sum % n) == 0:\n",
        "                break              #소수가 아닌게 판명되면 반복문 빠져나와 다른 경우의 수 탐색\n",
        "            elif (sum % n) !=0:\n",
        "                if(n==sum-1): #소수임이 판명되면,\n",
        "                    answer = answer + 1 # 경우의 수가 하나 증가한다.\n",
        "                    break\n",
        "                continue #소수임을 판별하려면 1과 본인을 제외한 모든 수로 나누어 보아야 하므로 끝날 때 까지 진행\n",
        "        sum = 0\n",
        "        \n",
        "    return answer"
      ],
      "metadata": {
        "id": "qNm7X9AP3wMN"
      },
      "execution_count": null,
      "outputs": []
    },
    {
      "cell_type": "markdown",
      "source": [
        "- 우선 일일히 모든 경우의 수를 쓸 순 없다고 생각하여 itertools 에서 *를 import 해왔다.\n",
        "이를 통해 순열과 조합을 쓸 수 있고, 나는 여기서 조합을 썼다. 그리고 이중 for문을 통해, 각 조합에 포함된 세 수들을 모두 더하고, 이 합이 소수가 아닌지를 판별했다. 소수가 아니면 소수 판별 반복문에서 탈출시켰고, 소수임을 확인하기 위해서는 2부터 본인-1 까지 나누어 봐야 했으므로 이는 continue로 계속 진행시켰다. 본인-1의 수로도 나누어 떨어지지 않는다면, 그떄가 소수이므로 이 경우에는 경우의 수를 1 추가 시키고 break를 걸었다. 새로운 조합을 시도하기 전에는 sum을 초기화 시켰다.\n"
      ],
      "metadata": {
        "id": "u41KlW0N3yNP"
      }
    },
    {
      "cell_type": "code",
      "source": [],
      "metadata": {
        "id": "YswHqJHg30vF"
      },
      "execution_count": null,
      "outputs": []
    }
  ]
}