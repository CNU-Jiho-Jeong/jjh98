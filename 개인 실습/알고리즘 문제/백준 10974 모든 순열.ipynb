{
 "cells": [
  {
   "cell_type": "code",
   "execution_count": 1,
   "id": "11640823",
   "metadata": {},
   "outputs": [
    {
     "name": "stdout",
     "output_type": "stream",
     "text": [
      "3\n",
      "1 2 3\n",
      "1 3 2\n",
      "2 1 3\n",
      "2 3 1\n",
      "3 1 2\n",
      "3 2 1\n"
     ]
    }
   ],
   "source": [
    "N = int(input())\n",
    "import itertools\n",
    "nums = []\n",
    "for i in range(1, N+1):\n",
    "    nums.append(str(i))\n",
    "\n",
    "li = list(map(' '.join, itertools.permutations(nums))) \n",
    "# map(함수, 리스트 or 튜플): 리스트나 튜플의 요소를 지정된 함수로 처리\n",
    "\n",
    "for i in range(len(li)):\n",
    "    print(li[i])"
   ]
  },
  {
   "cell_type": "markdown",
   "id": "0550110d",
   "metadata": {},
   "source": [
    "### 1. itertools의 순열을 활용하였다. itertools.permutation을 이용하면 반복문 없이도 순열을 구할 수 있다. \n",
    "### 2. map함수와 join을 통해 순열을 공백 한칸을 기준으로 합쳤고, 이를 list함수로 터뜨렸다. \n",
    "### 3. 그 후 리스트의 요소들을 차례차례 출력하였다\n",
    "\n",
    "### 4. 자료구조로 리스트를 활용하였고, '모든 순열'이라는 것에서 힌트를 얻어 itertools의 permutation을 그대로 가져다 썼다. 공간복잡도는 32884KB, 시간복잡도는 O(n)(전체 데이터를 확인하므로)\n",
    "\n",
    "### 5. O(1) < O(logn) < O(n) < O(nlogn) < O(n^2) < O(2^n) < O(n!)"
   ]
  },
  {
   "cell_type": "code",
   "execution_count": null,
   "id": "3f6029de",
   "metadata": {},
   "outputs": [],
   "source": []
  }
 ],
 "metadata": {
  "kernelspec": {
   "display_name": "Python 3 (ipykernel)",
   "language": "python",
   "name": "python3"
  },
  "language_info": {
   "codemirror_mode": {
    "name": "ipython",
    "version": 3
   },
   "file_extension": ".py",
   "mimetype": "text/x-python",
   "name": "python",
   "nbconvert_exporter": "python",
   "pygments_lexer": "ipython3",
   "version": "3.9.12"
  }
 },
 "nbformat": 4,
 "nbformat_minor": 5
}
