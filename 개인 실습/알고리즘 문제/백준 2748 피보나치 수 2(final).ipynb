{
 "cells": [
  {
   "cell_type": "code",
   "execution_count": 1,
   "id": "2a48b10b",
   "metadata": {},
   "outputs": [
    {
     "name": "stdout",
     "output_type": "stream",
     "text": [
      "3\n",
      "2\n"
     ]
    }
   ],
   "source": [
    "n = int(input())\n",
    "\n",
    "a = 0\n",
    "b = 1\n",
    "if n <0:\n",
    "    print(-1)\n",
    "elif n == 0: \n",
    "    print(0)\n",
    "elif n == 1:\n",
    "    print(1)\n",
    "else:\n",
    "    for i in range(1, n):\n",
    "        a, b = b, b + a\n",
    "    print(b)"
   ]
  },
  {
   "cell_type": "markdown",
   "id": "fb392f42",
   "metadata": {},
   "source": [
    "## 풀이방법\n",
    "### (1) 문제번호: 2748 피보나치 수 2\n",
    "### (2) 사용한 자료구조: 튜플\n",
    "### (3) 문제의 실마리: n-2 번째 항과 n-1 번째 항의 합이 n번째 항\n",
    "### (4) 시간복잡도: O(2^n) \n",
    "### (5) 공간복잡도: 30840 KB"
   ]
  },
  {
   "cell_type": "code",
   "execution_count": null,
   "id": "0f0f087c",
   "metadata": {},
   "outputs": [],
   "source": []
  }
 ],
 "metadata": {
  "kernelspec": {
   "display_name": "Python 3 (ipykernel)",
   "language": "python",
   "name": "python3"
  },
  "language_info": {
   "codemirror_mode": {
    "name": "ipython",
    "version": 3
   },
   "file_extension": ".py",
   "mimetype": "text/x-python",
   "name": "python",
   "nbconvert_exporter": "python",
   "pygments_lexer": "ipython3",
   "version": "3.9.12"
  }
 },
 "nbformat": 4,
 "nbformat_minor": 5
}
