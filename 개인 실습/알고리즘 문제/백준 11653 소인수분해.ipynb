{
 "cells": [
  {
   "cell_type": "code",
   "execution_count": 3,
   "id": "2c784f9c",
   "metadata": {},
   "outputs": [
    {
     "name": "stdout",
     "output_type": "stream",
     "text": [
      "1\n",
      "\n"
     ]
    }
   ],
   "source": [
    "N = int(input())\n",
    "a = 2\n",
    "if N == 1:\n",
    "    print(\"\")\n",
    "else:\n",
    "    while a <=N:\n",
    "        if N%a == 0:\n",
    "            print(a)\n",
    "            N = N // a\n",
    "        else:\n",
    "            a +=1"
   ]
  },
  {
   "cell_type": "markdown",
   "id": "517557f3",
   "metadata": {},
   "source": [
    "### 1. N이 1인 경우, 그리고 그렇지 않은 경우로 구분하였다.\n",
    "### 2. 알고리즘: 선형시간 알고리즘\n",
    "### 3. 소인수 분해시 나누어떨어지는 수만 나타낸다는 점에서 힌트를 얻었다. \n",
    "### 4. 시간 복잡도: O(n) (전부 검사하므로)\n",
    "### 5. 공간 복잡도: 30840KB"
   ]
  },
  {
   "cell_type": "code",
   "execution_count": null,
   "id": "39d24e68",
   "metadata": {},
   "outputs": [],
   "source": []
  }
 ],
 "metadata": {
  "kernelspec": {
   "display_name": "Python 3 (ipykernel)",
   "language": "python",
   "name": "python3"
  },
  "language_info": {
   "codemirror_mode": {
    "name": "ipython",
    "version": 3
   },
   "file_extension": ".py",
   "mimetype": "text/x-python",
   "name": "python",
   "nbconvert_exporter": "python",
   "pygments_lexer": "ipython3",
   "version": "3.9.12"
  }
 },
 "nbformat": 4,
 "nbformat_minor": 5
}
