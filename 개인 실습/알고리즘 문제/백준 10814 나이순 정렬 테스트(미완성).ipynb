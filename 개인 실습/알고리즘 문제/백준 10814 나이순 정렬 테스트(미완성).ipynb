{
 "cells": [
  {
   "cell_type": "code",
   "execution_count": 18,
   "id": "0a3c4aee",
   "metadata": {},
   "outputs": [
    {
     "name": "stdout",
     "output_type": "stream",
     "text": [
      "3\n",
      "21 J\n",
      "21 D\n",
      "20 S\n",
      "20 S\n",
      "21 J\n",
      "21 D\n"
     ]
    }
   ],
   "source": [
    "from heapq import *\n",
    "\n",
    "N = int(input())\n",
    "li = []\n",
    "li_1 = []\n",
    "\n",
    "for i in range(N):\n",
    "    li.append(input())\n",
    "    li_1.append(int(li[i].split()[0]))\n",
    "\n",
    "li_2 = li_1[:]\n",
    "heapify(li_1)\n",
    "\n",
    "while(len(li_1)>0):\n",
    "    a = heappop(li_1)\n",
    "    print(li[li_2.index(a)])\n",
    "    li.pop(li_2.index(a))\n",
    "\n",
    "            \n",
    "        \n",
    "    \n",
    "    \n",
    "\n",
    "\n",
    "    "
   ]
  },
  {
   "cell_type": "code",
   "execution_count": null,
   "id": "3eb460c5",
   "metadata": {},
   "outputs": [],
   "source": []
  }
 ],
 "metadata": {
  "kernelspec": {
   "display_name": "Python 3 (ipykernel)",
   "language": "python",
   "name": "python3"
  },
  "language_info": {
   "codemirror_mode": {
    "name": "ipython",
    "version": 3
   },
   "file_extension": ".py",
   "mimetype": "text/x-python",
   "name": "python",
   "nbconvert_exporter": "python",
   "pygments_lexer": "ipython3",
   "version": "3.9.12"
  }
 },
 "nbformat": 4,
 "nbformat_minor": 5
}
