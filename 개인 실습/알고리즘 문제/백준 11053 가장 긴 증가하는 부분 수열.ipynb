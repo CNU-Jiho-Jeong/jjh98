{
 "cells": [
  {
   "cell_type": "code",
   "execution_count": 5,
   "id": "789ed2b5",
   "metadata": {},
   "outputs": [
    {
     "name": "stdout",
     "output_type": "stream",
     "text": [
      "6\n",
      "10 20 10 30 20 50\n",
      "4\n"
     ]
    }
   ],
   "source": [
    "# 여러 줄 입력이 아니므로 굳이 sys.stdin.readline을 사용하지 않았다. \n",
    "\n",
    "n = int(input())\n",
    "li = list(map(int, input().split())) # map으로 정수화 시켜준 후, 리스트화 (리스트가 하나만 생성된다. 두 개 생성되지 않으니 주의!!!!)\n",
    "dp = [0]*n # 주어진 수열의 길이를 가진 0으로 이루어진 리스트를 만든다. \n",
    "\n",
    "for i in range(n):\n",
    "    for j in range(i):\n",
    "        if li[i]>li[j] and dp[i]<dp[j]: # 밑에 풀이를 참고한다.\n",
    "            dp[i]=dp[j] # 밑에 풀이를 참고한다.\n",
    "    dp[i] += 1 # 자기자신도 고려해주어야 한다.\n",
    "print(max(dp)) # dp의 최댓값이 결국 가장 긴 증가하는 부분 수열의 '길이' 이다."
   ]
  },
  {
   "cell_type": "markdown",
   "id": "c5ea67b1",
   "metadata": {},
   "source": [
    "# Dynamic Programming (dp, 동적 계획법)\n",
    "\n",
    "- **최적화 이론**의 한 기술\n",
    "- 특정 범위까지의 값을 구하기 위해서 **그것과 다른 범위까지의 값을 이용하여 효율적**으로 값을 구하는 알고리즘 설계 기법\n",
    "- 분할 정복 알고리즘과 비슷\n",
    "- 주어진 문제를 나눈다. 나눌 때 **부분 문제를 최대한 많이 이용**하도록 나눈 다음, 주어진 **부분 문제의 정답을 한 번만 계산하고 저장**해둔 뒤 **다시 한 번 이 부분 문제를 이용할 때는 저장해둔 정답을 바로 산출하여 이용함으로써 속도를 향상**시킨다."
   ]
  },
  {
   "cell_type": "markdown",
   "id": "f9104519",
   "metadata": {},
   "source": [
    "# 문제 풀이\n",
    "\n",
    "### 1. list(map(int, input().split())) -> 리스트가 하나만 생성된다([]). 두 개([[]])가 생성되지 않으니 주의!\n",
    "### 2. [요소] * 정수 => 정수 길이를 가진 '요소'로 이루어진 리스트를 얻을 수 있다. 이 문제에서는 주어진 수열의 길이와 똑같도록 하였다.\n",
    "### 3. 주어진 수열에서, 현재 위치(i)의 원소가 전에 있는(j) 원소보다 큰 지 확인한다. 그리고 새로 만든 리스트(dp)에서, 전에 있는(j) 요소가 현재 위치(i)의  요소보다 큰지 확인한다\n",
    "(우선 문제에서 요구하는 것은 '증가'하는 수열이므로,  주어진 수열에서 현재 위치의 원소가 전에 있는 원소보다 큰 경우를 파악해야 할 것이다. 그리고 주어진 수열에서 현재 위치의 원소가 전에 있는 원소보다 크다면, **dp에서는 전에 있는 요소가 현재 위치의 요소보다 절대로 클수가 없다.** **주어진 수열에서 현재 위치의 원소가 전에 있는 원소보다 크다는 말은, 현재 위치의 원소보다 작은 원소의 개수는 '최소한' 전에 있는 원소보다 작은 원소의 개수만큼은 되기 때문이다.)**   \n",
    "\n",
    "=> 그렇기 때문에 if문에서 'dp[i]=dp[j]' 를 해주는 것이다. (**최소한 전에 있는 원소보다 작은 원소의 개수만큼은 되기 때문이다.**) \n",
    "### 4. 또한 dp의 현재 위치의 요소에 1을 마지막으로 더해준다. (자기자신도 포함해주기 때문이다)"
   ]
  },
  {
   "cell_type": "markdown",
   "id": "1439de11",
   "metadata": {},
   "source": [
    "# 중요 포인트\n",
    "\n",
    "## 1. 시간 복잡도: 이중 for 문이므로 시간 복잡도는 O(N^2)이다. (하지만 실제론 이보다 짧을 것이다. j의 range 는 n이 아닌 i이므로)\n",
    "## 2. dp에서 전에 있는 요소 값을 미리 계산해 두고, 이 값을 이용해 빠르게 연산을 이루어낸다. 미리 계산해둔 값들이므로, 아무리 반복 계산할게 많아져도 괜찮다. 저장해둔 답을 바로 산출하여 이용하기 때문에 속도가 충분히 빠르다\n",
    "---\n",
    "---\n",
    "\n"
   ]
  },
  {
   "cell_type": "code",
   "execution_count": 1,
   "id": "e757a8ca",
   "metadata": {},
   "outputs": [
    {
     "name": "stdout",
     "output_type": "stream",
     "text": [
      "6\n",
      "10 20 10 30 20 50\n",
      "4\n"
     ]
    }
   ],
   "source": [
    "# 다른 풀이\n",
    "n = int(input())\n",
    "li = list(map(int, input().split())) \n",
    "dp = [0]*n \n",
    "\n",
    "for i in range(n):\n",
    "    for j in range(i):\n",
    "        if li[i]>li[j] and dp[i]<dp[j]: \n",
    "            dp[i] += 1 # 달라진 부분\n",
    "    dp[i] += 1 \n",
    "print(max(dp)) "
   ]
  },
  {
   "cell_type": "markdown",
   "id": "2a4cbf97",
   "metadata": {},
   "source": [
    "## => dp[i]=dp[j] 를 dp[i] += 1로 바꾸어도 상관은 없다. 단, 걸리는 시간은 dp[i] += 1을 이용할 때 보다(152ms)  dp[i]=dp[j] 를 이용할 때가(148ms) 더 짧다. "
   ]
  },
  {
   "cell_type": "code",
   "execution_count": null,
   "id": "1422535b",
   "metadata": {},
   "outputs": [],
   "source": []
  }
 ],
 "metadata": {
  "kernelspec": {
   "display_name": "Python 3 (ipykernel)",
   "language": "python",
   "name": "python3"
  },
  "language_info": {
   "codemirror_mode": {
    "name": "ipython",
    "version": 3
   },
   "file_extension": ".py",
   "mimetype": "text/x-python",
   "name": "python",
   "nbconvert_exporter": "python",
   "pygments_lexer": "ipython3",
   "version": "3.9.12"
  }
 },
 "nbformat": 4,
 "nbformat_minor": 5
}
