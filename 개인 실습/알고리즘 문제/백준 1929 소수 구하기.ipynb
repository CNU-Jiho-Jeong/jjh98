{
 "cells": [
  {
   "cell_type": "code",
   "execution_count": 1,
   "id": "2c784f9c",
   "metadata": {},
   "outputs": [
    {
     "name": "stdout",
     "output_type": "stream",
     "text": [
      "3 4\n",
      "3\n"
     ]
    }
   ],
   "source": [
    "m, n = map(int, input().split()) \n",
    "# 두 개의 인자를 입력 받아 정수로 집어넣는 방법\n",
    "# (map과 split의 활용. 입력 받은 두 문자를 쪼개 리스트화 한 후, 그 리스트의 요소들을 map함수와 int 인자를 통해 각각 정수화하여 m,n에 대입)\n",
    "\n",
    "def isprime(m, n):\n",
    "  n += 1                            # for문 사용을 위한 n += 1\n",
    "  prime = [True] * n                # n개의 [True]가 있는 리스트 생성\n",
    "  for i in range(2, int(n**0.5)+1): # n의 제곱근까지만 검사\n",
    "    if prime[i]:                    # prime[i]가 True일때\n",
    "      for j in range(2*i, n, i):    # prime 내 i의 배수들을 False로 변환\n",
    "        prime[j] = False\n",
    "\n",
    "  for i in range(m, n):\n",
    "    if i > 1 and prime[i] == True:  # 1 이상이면서 남은 소수들을 출력\n",
    "      print(i)\n",
    "\n",
    "isprime(m, n)"
   ]
  },
  {
   "cell_type": "markdown",
   "id": "5a6ea48a",
   "metadata": {},
   "source": [
    "### 알고리즘: 에라토스테네스의 체(일정 범위내 수열에서 배수들을 제거해 소수만 남기기)\n",
    "### 공간복잡도: 38512KB\n",
    "### 자료구조로 리스트를 활용\n"
   ]
  },
  {
   "cell_type": "code",
   "execution_count": null,
   "id": "c25cba26",
   "metadata": {},
   "outputs": [],
   "source": []
  }
 ],
 "metadata": {
  "kernelspec": {
   "display_name": "Python 3 (ipykernel)",
   "language": "python",
   "name": "python3"
  },
  "language_info": {
   "codemirror_mode": {
    "name": "ipython",
    "version": 3
   },
   "file_extension": ".py",
   "mimetype": "text/x-python",
   "name": "python",
   "nbconvert_exporter": "python",
   "pygments_lexer": "ipython3",
   "version": "3.9.12"
  }
 },
 "nbformat": 4,
 "nbformat_minor": 5
}
