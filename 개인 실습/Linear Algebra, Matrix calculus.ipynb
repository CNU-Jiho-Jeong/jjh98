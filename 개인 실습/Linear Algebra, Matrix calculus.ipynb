{
 "cells": [
  {
   "cell_type": "markdown",
   "id": "b19d5106",
   "metadata": {},
   "source": [
    "# 왜 선형대수를 알아야 하는가\n",
    "\n",
    " ## Deep learning 을 이해하기 위해서는 선형대수+행렬미분+확률의 탄탄한 기초가 필요하다\n",
    " \n",
    " ## 목표: 선형대수와 행렬미분의 기초를 배우고 간단한 머신러닝 알고리즘을 유도해보자"
   ]
  },
  {
   "cell_type": "markdown",
   "id": "a59cde64",
   "metadata": {},
   "source": [
    "."
   ]
  },
  {
   "cell_type": "markdown",
   "id": "870d215f",
   "metadata": {},
   "source": [
    "**python에서의 벡터, 행렬 표현방법**"
   ]
  },
  {
   "cell_type": "code",
   "execution_count": 1,
   "id": "cb355488",
   "metadata": {},
   "outputs": [
    {
     "data": {
      "text/plain": [
       "[10.5, 5.2, 3.25, 7.0]"
      ]
     },
     "execution_count": 1,
     "metadata": {},
     "output_type": "execute_result"
    }
   ],
   "source": [
    "[10.5, 5.2, 3.25, 7.0]"
   ]
  },
  {
   "cell_type": "code",
   "execution_count": 2,
   "id": "4460a026",
   "metadata": {},
   "outputs": [],
   "source": [
    "import numpy as np\n",
    "x = np.array([10.5,5.2,3.25])"
   ]
  },
  {
   "cell_type": "code",
   "execution_count": 3,
   "id": "76d6f626",
   "metadata": {},
   "outputs": [
    {
     "data": {
      "text/plain": [
       "(3,)"
      ]
     },
     "execution_count": 3,
     "metadata": {},
     "output_type": "execute_result"
    }
   ],
   "source": [
    "x.shape"
   ]
  },
  {
   "cell_type": "code",
   "execution_count": 4,
   "id": "263f69d8",
   "metadata": {},
   "outputs": [
    {
     "data": {
      "text/plain": [
       "3.25"
      ]
     },
     "execution_count": 4,
     "metadata": {},
     "output_type": "execute_result"
    }
   ],
   "source": [
    "x[2]"
   ]
  },
  {
   "cell_type": "code",
   "execution_count": 5,
   "id": "f029779e",
   "metadata": {},
   "outputs": [
    {
     "data": {
      "text/plain": [
       "(3, 1)"
      ]
     },
     "execution_count": 5,
     "metadata": {},
     "output_type": "execute_result"
    }
   ],
   "source": [
    "np.expand_dims(x, axis=1).shape # 열 추가\n",
    "# expand_dims: 차원 추가\n"
   ]
  },
  {
   "cell_type": "code",
   "execution_count": 6,
   "id": "34b4f930",
   "metadata": {},
   "outputs": [
    {
     "data": {
      "text/plain": [
       "32"
      ]
     },
     "execution_count": 6,
     "metadata": {},
     "output_type": "execute_result"
    }
   ],
   "source": [
    "x = np.array([1,2,3])\n",
    "y = np.array([4,5,6])\n",
    "x.dot(y)"
   ]
  },
  {
   "cell_type": "code",
   "execution_count": 7,
   "id": "07e8841e",
   "metadata": {},
   "outputs": [
    {
     "data": {
      "text/plain": [
       "32"
      ]
     },
     "execution_count": 7,
     "metadata": {},
     "output_type": "execute_result"
    }
   ],
   "source": [
    "y.dot(x) #벡터 곱 교환법칙 성립"
   ]
  },
  {
   "cell_type": "code",
   "execution_count": 8,
   "id": "0b169888",
   "metadata": {},
   "outputs": [
    {
     "data": {
      "text/plain": [
       "((3, 1), (1, 3))"
      ]
     },
     "execution_count": 8,
     "metadata": {},
     "output_type": "execute_result"
    }
   ],
   "source": [
    "x = np.expand_dims(x, axis=1) # 행렬로 만들어주기 (열 추가)\n",
    "y = np.expand_dims(y, axis=0) # 행렬로 만들어주기 (행 추가)\n",
    "x.shape, y.shape"
   ]
  },
  {
   "cell_type": "code",
   "execution_count": 9,
   "id": "4ba8a51d",
   "metadata": {},
   "outputs": [
    {
     "data": {
      "text/plain": [
       "array([[ 4,  5,  6],\n",
       "       [ 8, 10, 12],\n",
       "       [12, 15, 18]])"
      ]
     },
     "execution_count": 9,
     "metadata": {},
     "output_type": "execute_result"
    }
   ],
   "source": [
    "np.matmul(x,y) # 행렬의 곱에서는 일반적으로 matmul을 사용"
   ]
  },
  {
   "cell_type": "code",
   "execution_count": 10,
   "id": "5cdf9c01",
   "metadata": {},
   "outputs": [
    {
     "data": {
      "text/plain": [
       "array([[1., 1., 1., 1.]])"
      ]
     },
     "execution_count": 10,
     "metadata": {},
     "output_type": "execute_result"
    }
   ],
   "source": [
    "ones = np.ones([1,4]) # 원소들이 모두 1\n",
    "ones"
   ]
  },
  {
   "cell_type": "code",
   "execution_count": 11,
   "id": "c3047f48",
   "metadata": {},
   "outputs": [
    {
     "data": {
      "text/plain": [
       "array([[4, 0, 0],\n",
       "       [0, 5, 0],\n",
       "       [0, 0, 6]])"
      ]
     },
     "execution_count": 11,
     "metadata": {},
     "output_type": "execute_result"
    }
   ],
   "source": [
    "np.diag([4,5,6]) # 대각행렬 만들기"
   ]
  },
  {
   "cell_type": "markdown",
   "id": "b3034fb1",
   "metadata": {},
   "source": [
    "diag 함수에 행렬을 전달하면 주대각선 값들을 얻을 수 있음"
   ]
  },
  {
   "cell_type": "code",
   "execution_count": 12,
   "id": "34c02d72",
   "metadata": {},
   "outputs": [
    {
     "data": {
      "text/plain": [
       "array([1, 5, 9])"
      ]
     },
     "execution_count": 12,
     "metadata": {},
     "output_type": "execute_result"
    }
   ],
   "source": [
    "D = np.array([\n",
    "    [1,2,3],\n",
    "    [4,5,6],\n",
    "    [7,8,9],\n",
    "])\n",
    "np.diag(D) # 주대각선 값들을 얻을 수 있음"
   ]
  },
  {
   "cell_type": "markdown",
   "id": "2245ee89",
   "metadata": {},
   "source": [
    "eye함수를 사용하면 원하는 크기의 단위행렬 생성 가능"
   ]
  },
  {
   "cell_type": "code",
   "execution_count": 13,
   "id": "7c23a70d",
   "metadata": {},
   "outputs": [
    {
     "data": {
      "text/plain": [
       "array([[1., 0., 0.],\n",
       "       [0., 1., 0.],\n",
       "       [0., 0., 1.]])"
      ]
     },
     "execution_count": 13,
     "metadata": {},
     "output_type": "execute_result"
    }
   ],
   "source": [
    "np.eye(3)"
   ]
  },
  {
   "cell_type": "markdown",
   "id": "877d001e",
   "metadata": {},
   "source": [
    "넘파이의 T속성을 사용해서 전치행렬을 구할 수 있음."
   ]
  },
  {
   "cell_type": "code",
   "execution_count": 14,
   "id": "e2b1187b",
   "metadata": {},
   "outputs": [],
   "source": [
    "A = np.array([\n",
    "    [1,2,3],\n",
    "    [4,5,6]\n",
    "])"
   ]
  },
  {
   "cell_type": "code",
   "execution_count": 15,
   "id": "1ab1f39b",
   "metadata": {},
   "outputs": [
    {
     "data": {
      "text/plain": [
       "array([[1, 4],\n",
       "       [2, 5],\n",
       "       [3, 6]])"
      ]
     },
     "execution_count": 15,
     "metadata": {},
     "output_type": "execute_result"
    }
   ],
   "source": [
    "A.T #Transpose"
   ]
  },
  {
   "cell_type": "code",
   "execution_count": 16,
   "id": "f47407df",
   "metadata": {},
   "outputs": [
    {
     "data": {
      "text/plain": [
       "array([[1, 2, 3],\n",
       "       [4, 5, 6]])"
      ]
     },
     "execution_count": 16,
     "metadata": {},
     "output_type": "execute_result"
    }
   ],
   "source": [
    "A.T.T # 원래의 행렬"
   ]
  },
  {
   "cell_type": "markdown",
   "id": "2924c9b0",
   "metadata": {},
   "source": [
    "행렬의 대각합은 np.trace(행렬이름) 으로 구할 수 있음"
   ]
  },
  {
   "cell_type": "code",
   "execution_count": 17,
   "id": "97a9a5bd",
   "metadata": {},
   "outputs": [
    {
     "data": {
      "text/plain": [
       "123"
      ]
     },
     "execution_count": 17,
     "metadata": {},
     "output_type": "execute_result"
    }
   ],
   "source": [
    "A = np.array([\n",
    "    [100,200,300],\n",
    "    [10,20,30],\n",
    "    [1,2,3],\n",
    "])\n",
    "np.trace(A)"
   ]
  },
  {
   "cell_type": "markdown",
   "id": "b9e2434e",
   "metadata": {},
   "source": [
    "벡터의 norm "
   ]
  },
  {
   "cell_type": "code",
   "execution_count": 19,
   "id": "f5c0854f",
   "metadata": {},
   "outputs": [
    {
     "data": {
      "text/plain": [
       "5.0"
      ]
     },
     "execution_count": 19,
     "metadata": {},
     "output_type": "execute_result"
    }
   ],
   "source": [
    "import numpy.linalg as LA # 선형수학 불러오기\n",
    "LA.norm(np.array([3,4])) # 선형수학의 norm사용"
   ]
  },
  {
   "cell_type": "markdown",
   "id": "03dd5a3c",
   "metadata": {},
   "source": [
    "벡터의 rank"
   ]
  },
  {
   "cell_type": "code",
   "execution_count": 21,
   "id": "86ff7c1e",
   "metadata": {},
   "outputs": [
    {
     "data": {
      "text/plain": [
       "1"
      ]
     },
     "execution_count": 21,
     "metadata": {},
     "output_type": "execute_result"
    }
   ],
   "source": [
    "LA.matrix_rank(A) # matrix_rank() 함수는 배열의 행렬 순위를 반환한다"
   ]
  },
  {
   "cell_type": "markdown",
   "id": "39de5d8b",
   "metadata": {},
   "source": [
    "numpy.linalg 모듈의 det함수를 사용하면 행렬식을 쉽게 구할 수 있다"
   ]
  },
  {
   "cell_type": "code",
   "execution_count": 22,
   "id": "4e972a78",
   "metadata": {},
   "outputs": [
    {
     "data": {
      "text/plain": [
       "2.5658541216885238e-46"
      ]
     },
     "execution_count": 22,
     "metadata": {},
     "output_type": "execute_result"
    }
   ],
   "source": [
    "LA.det(A) #linalg을 LA로 import 해온 상태"
   ]
  },
  {
   "cell_type": "raw",
   "id": "f5bfbd51",
   "metadata": {},
   "source": [
    "고유값, 고유벡터 "
   ]
  },
  {
   "cell_type": "code",
   "execution_count": 23,
   "id": "b8c8300c",
   "metadata": {},
   "outputs": [
    {
     "data": {
      "text/plain": [
       "(array([1.23000000e+02, 1.04073179e-14, 1.69021067e-16]),\n",
       " array([[ 0.99498793, -0.89862233, -0.24632167],\n",
       "        [ 0.09949879,  0.43866564, -0.76651171],\n",
       "        [ 0.00994988,  0.00709702,  0.59311503]]))"
      ]
     },
     "execution_count": 23,
     "metadata": {},
     "output_type": "execute_result"
    }
   ],
   "source": [
    "eigenvalues, eigenvectors = LA.eig(A) #eig 함수: 고유값과 고유벡터를 반환함\n",
    "eigenvalues, eigenvectors"
   ]
  },
  {
   "cell_type": "code",
   "execution_count": null,
   "id": "4bf2673d",
   "metadata": {},
   "outputs": [],
   "source": []
  }
 ],
 "metadata": {
  "kernelspec": {
   "display_name": "Python 3 (ipykernel)",
   "language": "python",
   "name": "python3"
  },
  "language_info": {
   "codemirror_mode": {
    "name": "ipython",
    "version": 3
   },
   "file_extension": ".py",
   "mimetype": "text/x-python",
   "name": "python",
   "nbconvert_exporter": "python",
   "pygments_lexer": "ipython3",
   "version": "3.9.12"
  }
 },
 "nbformat": 4,
 "nbformat_minor": 5
}
