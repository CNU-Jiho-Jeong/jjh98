{
 "cells": [
  {
   "cell_type": "code",
   "execution_count": 5,
   "id": "d4a21f26",
   "metadata": {},
   "outputs": [
    {
     "name": "stdout",
     "output_type": "stream",
     "text": [
      "5\n",
      "ABC*+DE/-\n",
      "1\n",
      "2\n",
      "3\n",
      "4\n",
      "5\n",
      "6.20\n"
     ]
    }
   ],
   "source": [
    "N = int(input()) # 피연산자 개수 지정\n",
    "li = list(input()) # 후위 표기식을 터뜨려 리스트화 한 후, map을 활용해 리스트 요소들 문자화\n",
    "stack = [] # num의 요소들을 집어넣음\n",
    "nums = [] # 피연산자에 해당하는 값들(알파벳 순서대로)\n",
    "\n",
    "for i in range(N): \n",
    "    nums.append(int(input())) # 피연산자에 해당하는 값들을 입력해넣음\n",
    "\n",
    "for i in li:\n",
    "    if i.isalpha(): # isalpha() : 알파벳인지 아닌지 확인하는 함수\n",
    "        index = ord(i) - ord(\"A\") # ord(문자): 해당문자의 유니코드 정수 반환 / i가 A면 index는 0, B 면 index는 1, C면 2......=> index를 통해 A,B,C 순서로 해당 값들을 지정할 수 있음\n",
    "        stack.append(nums[index]) # => index를 통해 A,B,C 순서로 해당 값들을 지정할 수 있음(stack 에 차례대로 넣음)\n",
    "    \n",
    "    else:\n",
    "        \n",
    "        b = stack.pop() # pop에 인자를 전달해주지 않으면 맨 뒤에 요소를 추출한다. 그래서 a 보다 b 먼저 정의.\n",
    "        a = stack.pop()\n",
    "     # i가 문자가 아닌 연산기호인 경우, 연산기호에 따라 앞에서 뽑아낸 요소들을 계산하여 stack에넣음   \n",
    "        if i == \"+\": \n",
    "            stack.append(a+b) \n",
    "        elif i == \"-\":\n",
    "            stack.append(a-b)\n",
    "        \n",
    "        elif i == \"*\":\n",
    "            stack.append(a*b)\n",
    "            \n",
    "        elif i == \"/\":\n",
    "            stack.append(a/b)\n",
    "    # 연산된 요소는 다른 요소와 연산됨. 최종적으로 하나의 값만이 남게 됨.\n",
    "print(\"%.2f\" %stack[0]) # 실수이면서 소숫점 둘째 자리까지 출력해야 하므로 \"%.2f\"를 사용하였다. \n",
    "\n",
    "# print(len(stack))"
   ]
  },
  {
   "cell_type": "markdown",
   "id": "869e6c68",
   "metadata": {},
   "source": [
    "# - 자료구조: 리스트 활용\n",
    "# - 시간복잡도: O(n) (1부터 n까지 전부 돔) \n",
    "# - 공간복잡도: 30840KB"
   ]
  },
  {
   "cell_type": "markdown",
   "id": "d9dae522",
   "metadata": {},
   "source": [
    "# 1. 셋째 줄부터 N+2번째 줄까지는 각 피연산자에 대응하는 값을 입력해야 하므로, nums라는 빈 리스트를 만든 후, 입력한 값이 이 리스트에 들어가도록 하였다.\n",
    "\n",
    "# 2. isalpha() 함수: . 앞의 문자가 알파벳인지 아닌지를 확인하는 함수이다. 만약 i.isalpha()가 True 라면, 즉, 알파벳이 맞다면 stack 리스트에다가 알파벳에 할당된 값을 집어넣도록 하였다.\n",
    "\n",
    "# 3. ord(문자) : 해당문자의 유니코드 정수를 반환해준다. 예를 들어 A를 넣으면 65를 반환한다. \n",
    "# ord(i) - ord(\"A\") 와 같이 표현한 이유는, 이렇게 하면 인덱스로 활용할 수 있기 때문이다. 만약 i가 A라면 이는 0이 될것이고,  이것은 인덱스 값이 0이라고 활용할 수 있다. 마침 우리는 nums에 알파벳 순서대로 각 문자에 해당하는 값들을 넣어놓았으므로, 0인 인덱스 값을 사용하면 A 문자에 해당하는 값을 nums에서 빼올 수 있는 것이다. B, C, D.....도 마찬가지\n",
    "\n",
    "# 4. 문자가 아닌 연산기호가 있을 경우, stack에 들어가있는 두 개의 숫자(뒤에서부터)를 뽑아내어 연산을 하고 다시 그 값을 stack에 넣는다. 그리고 그 값은 다시 연산에 참여할 것이다.\n",
    "\n",
    "# 5. 연산기호는 앞에 피연산자가 2개는 나와야 나올 수 있으므로, 즉 연산을 할 때에는 stack에 적어도 두 개의 숫자는 포함되어 있으므로, stack에서 두 개의 숫자를 뽑아내는 것은 문제가 없을 것이다. \n",
    "\n",
    "# 6. \"%.2f\" %stack[0] : 실수+소수점 둘째자리까지.\n",
    "\n",
    "\n",
    "# 7. 이 문제에서 가장 중요한 것이 ord(i) - ord(\"A\") 인 것 같다. 해당 문자에 할당된 유니코드의 정수를 활용하여 인덱스를 지정해줄 수 있는 것이 이 문제의 포인트"
   ]
  }
 ],
 "metadata": {
  "kernelspec": {
   "display_name": "Python 3 (ipykernel)",
   "language": "python",
   "name": "python3"
  },
  "language_info": {
   "codemirror_mode": {
    "name": "ipython",
    "version": 3
   },
   "file_extension": ".py",
   "mimetype": "text/x-python",
   "name": "python",
   "nbconvert_exporter": "python",
   "pygments_lexer": "ipython3",
   "version": "3.9.12"
  }
 },
 "nbformat": 4,
 "nbformat_minor": 5
}
