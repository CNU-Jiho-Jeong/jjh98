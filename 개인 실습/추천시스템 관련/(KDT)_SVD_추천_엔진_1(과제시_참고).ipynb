{
  "nbformat": 4,
  "nbformat_minor": 0,
  "metadata": {
    "colab": {
      "provenance": [],
      "collapsed_sections": []
    },
    "kernelspec": {
      "name": "python3",
      "display_name": "Python 3"
    }
  },
  "cells": [
    {
      "cell_type": "markdown",
      "metadata": {
        "id": "roEuxynyeM0l"
      },
      "source": [
        "surprise 모듈을 설치"
      ]
    },
    {
      "cell_type": "code",
      "metadata": {
        "id": "4Ep7L0e2ldgY",
        "colab": {
          "base_uri": "https://localhost:8080/"
        },
        "outputId": "9448fd16-7259-439d-f9da-73acedbe0ff8"
      },
      "source": [
        "!pip install surprise"
      ],
      "execution_count": null,
      "outputs": [
        {
          "output_type": "stream",
          "name": "stdout",
          "text": [
            "Looking in indexes: https://pypi.org/simple, https://us-python.pkg.dev/colab-wheels/public/simple/\n",
            "Collecting surprise\n",
            "  Downloading surprise-0.1-py2.py3-none-any.whl (1.8 kB)\n",
            "Collecting scikit-surprise\n",
            "  Downloading scikit-surprise-1.1.1.tar.gz (11.8 MB)\n",
            "\u001b[K     |████████████████████████████████| 11.8 MB 4.2 MB/s \n",
            "\u001b[?25hRequirement already satisfied: joblib>=0.11 in /usr/local/lib/python3.7/dist-packages (from scikit-surprise->surprise) (1.1.0)\n",
            "Requirement already satisfied: numpy>=1.11.2 in /usr/local/lib/python3.7/dist-packages (from scikit-surprise->surprise) (1.21.6)\n",
            "Requirement already satisfied: scipy>=1.0.0 in /usr/local/lib/python3.7/dist-packages (from scikit-surprise->surprise) (1.7.3)\n",
            "Requirement already satisfied: six>=1.10.0 in /usr/local/lib/python3.7/dist-packages (from scikit-surprise->surprise) (1.15.0)\n",
            "Building wheels for collected packages: scikit-surprise\n",
            "  Building wheel for scikit-surprise (setup.py) ... \u001b[?25l\u001b[?25hdone\n",
            "  Created wheel for scikit-surprise: filename=scikit_surprise-1.1.1-cp37-cp37m-linux_x86_64.whl size=1633979 sha256=67d185bf4cddc2884d8258bccd59456847e6ad78f0fb980a91c92c91561998cf\n",
            "  Stored in directory: /root/.cache/pip/wheels/76/44/74/b498c42be47b2406bd27994e16c5188e337c657025ab400c1c\n",
            "Successfully built scikit-surprise\n",
            "Installing collected packages: scikit-surprise, surprise\n",
            "Successfully installed scikit-surprise-1.1.1 surprise-0.1\n"
          ]
        }
      ]
    },
    {
      "cell_type": "code",
      "metadata": {
        "id": "AUirw_6Uzb6o",
        "colab": {
          "base_uri": "https://localhost:8080/"
        },
        "outputId": "c94f3d9d-6afe-49f5-af22-a2f481dbb032"
      },
      "source": [
        "!wget \"https://grepp-reco-test.s3.ap-northeast-2.amazonaws.com/movielens/movies.csv\"\n",
        "!wget \"https://grepp-reco-test.s3.ap-northeast-2.amazonaws.com/movielens/ratings.csv\""
      ],
      "execution_count": null,
      "outputs": [
        {
          "output_type": "stream",
          "name": "stdout",
          "text": [
            "--2022-09-02 03:53:27--  https://grepp-reco-test.s3.ap-northeast-2.amazonaws.com/movielens/movies.csv\n",
            "Resolving grepp-reco-test.s3.ap-northeast-2.amazonaws.com (grepp-reco-test.s3.ap-northeast-2.amazonaws.com)... 52.219.56.140\n",
            "Connecting to grepp-reco-test.s3.ap-northeast-2.amazonaws.com (grepp-reco-test.s3.ap-northeast-2.amazonaws.com)|52.219.56.140|:443... connected.\n",
            "HTTP request sent, awaiting response... 200 OK\n",
            "Length: 458390 (448K) [text/csv]\n",
            "Saving to: ‘movies.csv’\n",
            "\n",
            "movies.csv          100%[===================>] 447.65K   585KB/s    in 0.8s    \n",
            "\n",
            "2022-09-02 03:53:28 (585 KB/s) - ‘movies.csv’ saved [458390/458390]\n",
            "\n",
            "--2022-09-02 03:53:28--  https://grepp-reco-test.s3.ap-northeast-2.amazonaws.com/movielens/ratings.csv\n",
            "Resolving grepp-reco-test.s3.ap-northeast-2.amazonaws.com (grepp-reco-test.s3.ap-northeast-2.amazonaws.com)... 52.219.56.140\n",
            "Connecting to grepp-reco-test.s3.ap-northeast-2.amazonaws.com (grepp-reco-test.s3.ap-northeast-2.amazonaws.com)|52.219.56.140|:443... connected.\n",
            "HTTP request sent, awaiting response... 200 OK\n",
            "Length: 2438266 (2.3M) [text/csv]\n",
            "Saving to: ‘ratings.csv’\n",
            "\n",
            "ratings.csv         100%[===================>]   2.33M  1.77MB/s    in 1.3s    \n",
            "\n",
            "2022-09-02 03:53:31 (1.77 MB/s) - ‘ratings.csv’ saved [2438266/2438266]\n",
            "\n"
          ]
        }
      ]
    },
    {
      "cell_type": "markdown",
      "metadata": {
        "id": "9ZQfxxifzG6k"
      },
      "source": [
        "# 데이터 로딩\n"
      ]
    },
    {
      "cell_type": "code",
      "metadata": {
        "id": "e4jdjZN254pO"
      },
      "source": [
        "import numpy as np\n",
        "import pandas as pd"
      ],
      "execution_count": null,
      "outputs": []
    },
    {
      "cell_type": "code",
      "metadata": {
        "id": "X9m_UFiBnx6m"
      },
      "source": [
        "movies = pd.read_csv(\"movies.csv\")\n",
        "ratings = pd.read_csv(\"ratings.csv\")"
      ],
      "execution_count": null,
      "outputs": []
    },
    {
      "cell_type": "code",
      "metadata": {
        "id": "kym07ydsoou8",
        "colab": {
          "base_uri": "https://localhost:8080/",
          "height": 206
        },
        "outputId": "2cb8322c-c0bf-4c07-af4f-e747fda2251d"
      },
      "source": [
        "movies.head()"
      ],
      "execution_count": null,
      "outputs": [
        {
          "output_type": "execute_result",
          "data": {
            "text/plain": [
              "   movieId                               title  \\\n",
              "0        1                    Toy Story (1995)   \n",
              "1        2                      Jumanji (1995)   \n",
              "2        3             Grumpier Old Men (1995)   \n",
              "3        4            Waiting to Exhale (1995)   \n",
              "4        5  Father of the Bride Part II (1995)   \n",
              "\n",
              "                                        genres  \n",
              "0  Adventure|Animation|Children|Comedy|Fantasy  \n",
              "1                   Adventure|Children|Fantasy  \n",
              "2                               Comedy|Romance  \n",
              "3                         Comedy|Drama|Romance  \n",
              "4                                       Comedy  "
            ],
            "text/html": [
              "\n",
              "  <div id=\"df-70bd60f6-6d14-499d-86eb-7c79fd9717ed\">\n",
              "    <div class=\"colab-df-container\">\n",
              "      <div>\n",
              "<style scoped>\n",
              "    .dataframe tbody tr th:only-of-type {\n",
              "        vertical-align: middle;\n",
              "    }\n",
              "\n",
              "    .dataframe tbody tr th {\n",
              "        vertical-align: top;\n",
              "    }\n",
              "\n",
              "    .dataframe thead th {\n",
              "        text-align: right;\n",
              "    }\n",
              "</style>\n",
              "<table border=\"1\" class=\"dataframe\">\n",
              "  <thead>\n",
              "    <tr style=\"text-align: right;\">\n",
              "      <th></th>\n",
              "      <th>movieId</th>\n",
              "      <th>title</th>\n",
              "      <th>genres</th>\n",
              "    </tr>\n",
              "  </thead>\n",
              "  <tbody>\n",
              "    <tr>\n",
              "      <th>0</th>\n",
              "      <td>1</td>\n",
              "      <td>Toy Story (1995)</td>\n",
              "      <td>Adventure|Animation|Children|Comedy|Fantasy</td>\n",
              "    </tr>\n",
              "    <tr>\n",
              "      <th>1</th>\n",
              "      <td>2</td>\n",
              "      <td>Jumanji (1995)</td>\n",
              "      <td>Adventure|Children|Fantasy</td>\n",
              "    </tr>\n",
              "    <tr>\n",
              "      <th>2</th>\n",
              "      <td>3</td>\n",
              "      <td>Grumpier Old Men (1995)</td>\n",
              "      <td>Comedy|Romance</td>\n",
              "    </tr>\n",
              "    <tr>\n",
              "      <th>3</th>\n",
              "      <td>4</td>\n",
              "      <td>Waiting to Exhale (1995)</td>\n",
              "      <td>Comedy|Drama|Romance</td>\n",
              "    </tr>\n",
              "    <tr>\n",
              "      <th>4</th>\n",
              "      <td>5</td>\n",
              "      <td>Father of the Bride Part II (1995)</td>\n",
              "      <td>Comedy</td>\n",
              "    </tr>\n",
              "  </tbody>\n",
              "</table>\n",
              "</div>\n",
              "      <button class=\"colab-df-convert\" onclick=\"convertToInteractive('df-70bd60f6-6d14-499d-86eb-7c79fd9717ed')\"\n",
              "              title=\"Convert this dataframe to an interactive table.\"\n",
              "              style=\"display:none;\">\n",
              "        \n",
              "  <svg xmlns=\"http://www.w3.org/2000/svg\" height=\"24px\"viewBox=\"0 0 24 24\"\n",
              "       width=\"24px\">\n",
              "    <path d=\"M0 0h24v24H0V0z\" fill=\"none\"/>\n",
              "    <path d=\"M18.56 5.44l.94 2.06.94-2.06 2.06-.94-2.06-.94-.94-2.06-.94 2.06-2.06.94zm-11 1L8.5 8.5l.94-2.06 2.06-.94-2.06-.94L8.5 2.5l-.94 2.06-2.06.94zm10 10l.94 2.06.94-2.06 2.06-.94-2.06-.94-.94-2.06-.94 2.06-2.06.94z\"/><path d=\"M17.41 7.96l-1.37-1.37c-.4-.4-.92-.59-1.43-.59-.52 0-1.04.2-1.43.59L10.3 9.45l-7.72 7.72c-.78.78-.78 2.05 0 2.83L4 21.41c.39.39.9.59 1.41.59.51 0 1.02-.2 1.41-.59l7.78-7.78 2.81-2.81c.8-.78.8-2.07 0-2.86zM5.41 20L4 18.59l7.72-7.72 1.47 1.35L5.41 20z\"/>\n",
              "  </svg>\n",
              "      </button>\n",
              "      \n",
              "  <style>\n",
              "    .colab-df-container {\n",
              "      display:flex;\n",
              "      flex-wrap:wrap;\n",
              "      gap: 12px;\n",
              "    }\n",
              "\n",
              "    .colab-df-convert {\n",
              "      background-color: #E8F0FE;\n",
              "      border: none;\n",
              "      border-radius: 50%;\n",
              "      cursor: pointer;\n",
              "      display: none;\n",
              "      fill: #1967D2;\n",
              "      height: 32px;\n",
              "      padding: 0 0 0 0;\n",
              "      width: 32px;\n",
              "    }\n",
              "\n",
              "    .colab-df-convert:hover {\n",
              "      background-color: #E2EBFA;\n",
              "      box-shadow: 0px 1px 2px rgba(60, 64, 67, 0.3), 0px 1px 3px 1px rgba(60, 64, 67, 0.15);\n",
              "      fill: #174EA6;\n",
              "    }\n",
              "\n",
              "    [theme=dark] .colab-df-convert {\n",
              "      background-color: #3B4455;\n",
              "      fill: #D2E3FC;\n",
              "    }\n",
              "\n",
              "    [theme=dark] .colab-df-convert:hover {\n",
              "      background-color: #434B5C;\n",
              "      box-shadow: 0px 1px 3px 1px rgba(0, 0, 0, 0.15);\n",
              "      filter: drop-shadow(0px 1px 2px rgba(0, 0, 0, 0.3));\n",
              "      fill: #FFFFFF;\n",
              "    }\n",
              "  </style>\n",
              "\n",
              "      <script>\n",
              "        const buttonEl =\n",
              "          document.querySelector('#df-70bd60f6-6d14-499d-86eb-7c79fd9717ed button.colab-df-convert');\n",
              "        buttonEl.style.display =\n",
              "          google.colab.kernel.accessAllowed ? 'block' : 'none';\n",
              "\n",
              "        async function convertToInteractive(key) {\n",
              "          const element = document.querySelector('#df-70bd60f6-6d14-499d-86eb-7c79fd9717ed');\n",
              "          const dataTable =\n",
              "            await google.colab.kernel.invokeFunction('convertToInteractive',\n",
              "                                                     [key], {});\n",
              "          if (!dataTable) return;\n",
              "\n",
              "          const docLinkHtml = 'Like what you see? Visit the ' +\n",
              "            '<a target=\"_blank\" href=https://colab.research.google.com/notebooks/data_table.ipynb>data table notebook</a>'\n",
              "            + ' to learn more about interactive tables.';\n",
              "          element.innerHTML = '';\n",
              "          dataTable['output_type'] = 'display_data';\n",
              "          await google.colab.output.renderOutput(dataTable, element);\n",
              "          const docLink = document.createElement('div');\n",
              "          docLink.innerHTML = docLinkHtml;\n",
              "          element.appendChild(docLink);\n",
              "        }\n",
              "      </script>\n",
              "    </div>\n",
              "  </div>\n",
              "  "
            ]
          },
          "metadata": {},
          "execution_count": 5
        }
      ]
    },
    {
      "cell_type": "code",
      "metadata": {
        "id": "K82Avgs3pHAe",
        "colab": {
          "base_uri": "https://localhost:8080/",
          "height": 206
        },
        "outputId": "86631f73-2621-400a-b2d0-e88eaf474404"
      },
      "source": [
        "ratings.head() "
      ],
      "execution_count": null,
      "outputs": [
        {
          "output_type": "execute_result",
          "data": {
            "text/plain": [
              "   userId  movieId  rating   timestamp\n",
              "0       1       31     2.5  1260759144\n",
              "1       1     1029     3.0  1260759179\n",
              "2       1     1061     3.0  1260759182\n",
              "3       1     1129     2.0  1260759185\n",
              "4       1     1172     4.0  1260759205"
            ],
            "text/html": [
              "\n",
              "  <div id=\"df-5c93da3d-2b58-4d8e-99cd-c6eee6ceb5dd\">\n",
              "    <div class=\"colab-df-container\">\n",
              "      <div>\n",
              "<style scoped>\n",
              "    .dataframe tbody tr th:only-of-type {\n",
              "        vertical-align: middle;\n",
              "    }\n",
              "\n",
              "    .dataframe tbody tr th {\n",
              "        vertical-align: top;\n",
              "    }\n",
              "\n",
              "    .dataframe thead th {\n",
              "        text-align: right;\n",
              "    }\n",
              "</style>\n",
              "<table border=\"1\" class=\"dataframe\">\n",
              "  <thead>\n",
              "    <tr style=\"text-align: right;\">\n",
              "      <th></th>\n",
              "      <th>userId</th>\n",
              "      <th>movieId</th>\n",
              "      <th>rating</th>\n",
              "      <th>timestamp</th>\n",
              "    </tr>\n",
              "  </thead>\n",
              "  <tbody>\n",
              "    <tr>\n",
              "      <th>0</th>\n",
              "      <td>1</td>\n",
              "      <td>31</td>\n",
              "      <td>2.5</td>\n",
              "      <td>1260759144</td>\n",
              "    </tr>\n",
              "    <tr>\n",
              "      <th>1</th>\n",
              "      <td>1</td>\n",
              "      <td>1029</td>\n",
              "      <td>3.0</td>\n",
              "      <td>1260759179</td>\n",
              "    </tr>\n",
              "    <tr>\n",
              "      <th>2</th>\n",
              "      <td>1</td>\n",
              "      <td>1061</td>\n",
              "      <td>3.0</td>\n",
              "      <td>1260759182</td>\n",
              "    </tr>\n",
              "    <tr>\n",
              "      <th>3</th>\n",
              "      <td>1</td>\n",
              "      <td>1129</td>\n",
              "      <td>2.0</td>\n",
              "      <td>1260759185</td>\n",
              "    </tr>\n",
              "    <tr>\n",
              "      <th>4</th>\n",
              "      <td>1</td>\n",
              "      <td>1172</td>\n",
              "      <td>4.0</td>\n",
              "      <td>1260759205</td>\n",
              "    </tr>\n",
              "  </tbody>\n",
              "</table>\n",
              "</div>\n",
              "      <button class=\"colab-df-convert\" onclick=\"convertToInteractive('df-5c93da3d-2b58-4d8e-99cd-c6eee6ceb5dd')\"\n",
              "              title=\"Convert this dataframe to an interactive table.\"\n",
              "              style=\"display:none;\">\n",
              "        \n",
              "  <svg xmlns=\"http://www.w3.org/2000/svg\" height=\"24px\"viewBox=\"0 0 24 24\"\n",
              "       width=\"24px\">\n",
              "    <path d=\"M0 0h24v24H0V0z\" fill=\"none\"/>\n",
              "    <path d=\"M18.56 5.44l.94 2.06.94-2.06 2.06-.94-2.06-.94-.94-2.06-.94 2.06-2.06.94zm-11 1L8.5 8.5l.94-2.06 2.06-.94-2.06-.94L8.5 2.5l-.94 2.06-2.06.94zm10 10l.94 2.06.94-2.06 2.06-.94-2.06-.94-.94-2.06-.94 2.06-2.06.94z\"/><path d=\"M17.41 7.96l-1.37-1.37c-.4-.4-.92-.59-1.43-.59-.52 0-1.04.2-1.43.59L10.3 9.45l-7.72 7.72c-.78.78-.78 2.05 0 2.83L4 21.41c.39.39.9.59 1.41.59.51 0 1.02-.2 1.41-.59l7.78-7.78 2.81-2.81c.8-.78.8-2.07 0-2.86zM5.41 20L4 18.59l7.72-7.72 1.47 1.35L5.41 20z\"/>\n",
              "  </svg>\n",
              "      </button>\n",
              "      \n",
              "  <style>\n",
              "    .colab-df-container {\n",
              "      display:flex;\n",
              "      flex-wrap:wrap;\n",
              "      gap: 12px;\n",
              "    }\n",
              "\n",
              "    .colab-df-convert {\n",
              "      background-color: #E8F0FE;\n",
              "      border: none;\n",
              "      border-radius: 50%;\n",
              "      cursor: pointer;\n",
              "      display: none;\n",
              "      fill: #1967D2;\n",
              "      height: 32px;\n",
              "      padding: 0 0 0 0;\n",
              "      width: 32px;\n",
              "    }\n",
              "\n",
              "    .colab-df-convert:hover {\n",
              "      background-color: #E2EBFA;\n",
              "      box-shadow: 0px 1px 2px rgba(60, 64, 67, 0.3), 0px 1px 3px 1px rgba(60, 64, 67, 0.15);\n",
              "      fill: #174EA6;\n",
              "    }\n",
              "\n",
              "    [theme=dark] .colab-df-convert {\n",
              "      background-color: #3B4455;\n",
              "      fill: #D2E3FC;\n",
              "    }\n",
              "\n",
              "    [theme=dark] .colab-df-convert:hover {\n",
              "      background-color: #434B5C;\n",
              "      box-shadow: 0px 1px 3px 1px rgba(0, 0, 0, 0.15);\n",
              "      filter: drop-shadow(0px 1px 2px rgba(0, 0, 0, 0.3));\n",
              "      fill: #FFFFFF;\n",
              "    }\n",
              "  </style>\n",
              "\n",
              "      <script>\n",
              "        const buttonEl =\n",
              "          document.querySelector('#df-5c93da3d-2b58-4d8e-99cd-c6eee6ceb5dd button.colab-df-convert');\n",
              "        buttonEl.style.display =\n",
              "          google.colab.kernel.accessAllowed ? 'block' : 'none';\n",
              "\n",
              "        async function convertToInteractive(key) {\n",
              "          const element = document.querySelector('#df-5c93da3d-2b58-4d8e-99cd-c6eee6ceb5dd');\n",
              "          const dataTable =\n",
              "            await google.colab.kernel.invokeFunction('convertToInteractive',\n",
              "                                                     [key], {});\n",
              "          if (!dataTable) return;\n",
              "\n",
              "          const docLinkHtml = 'Like what you see? Visit the ' +\n",
              "            '<a target=\"_blank\" href=https://colab.research.google.com/notebooks/data_table.ipynb>data table notebook</a>'\n",
              "            + ' to learn more about interactive tables.';\n",
              "          element.innerHTML = '';\n",
              "          dataTable['output_type'] = 'display_data';\n",
              "          await google.colab.output.renderOutput(dataTable, element);\n",
              "          const docLink = document.createElement('div');\n",
              "          docLink.innerHTML = docLinkHtml;\n",
              "          element.appendChild(docLink);\n",
              "        }\n",
              "      </script>\n",
              "    </div>\n",
              "  </div>\n",
              "  "
            ]
          },
          "metadata": {},
          "execution_count": 6
        }
      ]
    },
    {
      "cell_type": "code",
      "metadata": {
        "id": "blrDJa2N7GzT",
        "colab": {
          "base_uri": "https://localhost:8080/",
          "height": 267
        },
        "outputId": "3fc16c00-7b51-46dc-ba71-1997809a36ad"
      },
      "source": [
        "# ratings에 비어있는 셀들이 되게 많음 \n",
        "itemRatings = ratings.pivot_table(index=['userId'],columns=['movieId'],values='rating')\n",
        "itemRatings.head()"
      ],
      "execution_count": null,
      "outputs": [
        {
          "output_type": "execute_result",
          "data": {
            "text/plain": [
              "movieId  1       2       3       4       5       6       7       8       \\\n",
              "userId                                                                    \n",
              "1           NaN     NaN     NaN     NaN     NaN     NaN     NaN     NaN   \n",
              "2           NaN     NaN     NaN     NaN     NaN     NaN     NaN     NaN   \n",
              "3           NaN     NaN     NaN     NaN     NaN     NaN     NaN     NaN   \n",
              "4           NaN     NaN     NaN     NaN     NaN     NaN     NaN     NaN   \n",
              "5           NaN     NaN     4.0     NaN     NaN     NaN     NaN     NaN   \n",
              "\n",
              "movieId  9       10      ...  161084  161155  161594  161830  161918  161944  \\\n",
              "userId                   ...                                                   \n",
              "1           NaN     NaN  ...     NaN     NaN     NaN     NaN     NaN     NaN   \n",
              "2           NaN     4.0  ...     NaN     NaN     NaN     NaN     NaN     NaN   \n",
              "3           NaN     NaN  ...     NaN     NaN     NaN     NaN     NaN     NaN   \n",
              "4           NaN     4.0  ...     NaN     NaN     NaN     NaN     NaN     NaN   \n",
              "5           NaN     NaN  ...     NaN     NaN     NaN     NaN     NaN     NaN   \n",
              "\n",
              "movieId  162376  162542  162672  163949  \n",
              "userId                                   \n",
              "1           NaN     NaN     NaN     NaN  \n",
              "2           NaN     NaN     NaN     NaN  \n",
              "3           NaN     NaN     NaN     NaN  \n",
              "4           NaN     NaN     NaN     NaN  \n",
              "5           NaN     NaN     NaN     NaN  \n",
              "\n",
              "[5 rows x 9066 columns]"
            ],
            "text/html": [
              "\n",
              "  <div id=\"df-7c2e9738-8c92-43ed-a4e4-5f4160d03695\">\n",
              "    <div class=\"colab-df-container\">\n",
              "      <div>\n",
              "<style scoped>\n",
              "    .dataframe tbody tr th:only-of-type {\n",
              "        vertical-align: middle;\n",
              "    }\n",
              "\n",
              "    .dataframe tbody tr th {\n",
              "        vertical-align: top;\n",
              "    }\n",
              "\n",
              "    .dataframe thead th {\n",
              "        text-align: right;\n",
              "    }\n",
              "</style>\n",
              "<table border=\"1\" class=\"dataframe\">\n",
              "  <thead>\n",
              "    <tr style=\"text-align: right;\">\n",
              "      <th>movieId</th>\n",
              "      <th>1</th>\n",
              "      <th>2</th>\n",
              "      <th>3</th>\n",
              "      <th>4</th>\n",
              "      <th>5</th>\n",
              "      <th>6</th>\n",
              "      <th>7</th>\n",
              "      <th>8</th>\n",
              "      <th>9</th>\n",
              "      <th>10</th>\n",
              "      <th>...</th>\n",
              "      <th>161084</th>\n",
              "      <th>161155</th>\n",
              "      <th>161594</th>\n",
              "      <th>161830</th>\n",
              "      <th>161918</th>\n",
              "      <th>161944</th>\n",
              "      <th>162376</th>\n",
              "      <th>162542</th>\n",
              "      <th>162672</th>\n",
              "      <th>163949</th>\n",
              "    </tr>\n",
              "    <tr>\n",
              "      <th>userId</th>\n",
              "      <th></th>\n",
              "      <th></th>\n",
              "      <th></th>\n",
              "      <th></th>\n",
              "      <th></th>\n",
              "      <th></th>\n",
              "      <th></th>\n",
              "      <th></th>\n",
              "      <th></th>\n",
              "      <th></th>\n",
              "      <th></th>\n",
              "      <th></th>\n",
              "      <th></th>\n",
              "      <th></th>\n",
              "      <th></th>\n",
              "      <th></th>\n",
              "      <th></th>\n",
              "      <th></th>\n",
              "      <th></th>\n",
              "      <th></th>\n",
              "      <th></th>\n",
              "    </tr>\n",
              "  </thead>\n",
              "  <tbody>\n",
              "    <tr>\n",
              "      <th>1</th>\n",
              "      <td>NaN</td>\n",
              "      <td>NaN</td>\n",
              "      <td>NaN</td>\n",
              "      <td>NaN</td>\n",
              "      <td>NaN</td>\n",
              "      <td>NaN</td>\n",
              "      <td>NaN</td>\n",
              "      <td>NaN</td>\n",
              "      <td>NaN</td>\n",
              "      <td>NaN</td>\n",
              "      <td>...</td>\n",
              "      <td>NaN</td>\n",
              "      <td>NaN</td>\n",
              "      <td>NaN</td>\n",
              "      <td>NaN</td>\n",
              "      <td>NaN</td>\n",
              "      <td>NaN</td>\n",
              "      <td>NaN</td>\n",
              "      <td>NaN</td>\n",
              "      <td>NaN</td>\n",
              "      <td>NaN</td>\n",
              "    </tr>\n",
              "    <tr>\n",
              "      <th>2</th>\n",
              "      <td>NaN</td>\n",
              "      <td>NaN</td>\n",
              "      <td>NaN</td>\n",
              "      <td>NaN</td>\n",
              "      <td>NaN</td>\n",
              "      <td>NaN</td>\n",
              "      <td>NaN</td>\n",
              "      <td>NaN</td>\n",
              "      <td>NaN</td>\n",
              "      <td>4.0</td>\n",
              "      <td>...</td>\n",
              "      <td>NaN</td>\n",
              "      <td>NaN</td>\n",
              "      <td>NaN</td>\n",
              "      <td>NaN</td>\n",
              "      <td>NaN</td>\n",
              "      <td>NaN</td>\n",
              "      <td>NaN</td>\n",
              "      <td>NaN</td>\n",
              "      <td>NaN</td>\n",
              "      <td>NaN</td>\n",
              "    </tr>\n",
              "    <tr>\n",
              "      <th>3</th>\n",
              "      <td>NaN</td>\n",
              "      <td>NaN</td>\n",
              "      <td>NaN</td>\n",
              "      <td>NaN</td>\n",
              "      <td>NaN</td>\n",
              "      <td>NaN</td>\n",
              "      <td>NaN</td>\n",
              "      <td>NaN</td>\n",
              "      <td>NaN</td>\n",
              "      <td>NaN</td>\n",
              "      <td>...</td>\n",
              "      <td>NaN</td>\n",
              "      <td>NaN</td>\n",
              "      <td>NaN</td>\n",
              "      <td>NaN</td>\n",
              "      <td>NaN</td>\n",
              "      <td>NaN</td>\n",
              "      <td>NaN</td>\n",
              "      <td>NaN</td>\n",
              "      <td>NaN</td>\n",
              "      <td>NaN</td>\n",
              "    </tr>\n",
              "    <tr>\n",
              "      <th>4</th>\n",
              "      <td>NaN</td>\n",
              "      <td>NaN</td>\n",
              "      <td>NaN</td>\n",
              "      <td>NaN</td>\n",
              "      <td>NaN</td>\n",
              "      <td>NaN</td>\n",
              "      <td>NaN</td>\n",
              "      <td>NaN</td>\n",
              "      <td>NaN</td>\n",
              "      <td>4.0</td>\n",
              "      <td>...</td>\n",
              "      <td>NaN</td>\n",
              "      <td>NaN</td>\n",
              "      <td>NaN</td>\n",
              "      <td>NaN</td>\n",
              "      <td>NaN</td>\n",
              "      <td>NaN</td>\n",
              "      <td>NaN</td>\n",
              "      <td>NaN</td>\n",
              "      <td>NaN</td>\n",
              "      <td>NaN</td>\n",
              "    </tr>\n",
              "    <tr>\n",
              "      <th>5</th>\n",
              "      <td>NaN</td>\n",
              "      <td>NaN</td>\n",
              "      <td>4.0</td>\n",
              "      <td>NaN</td>\n",
              "      <td>NaN</td>\n",
              "      <td>NaN</td>\n",
              "      <td>NaN</td>\n",
              "      <td>NaN</td>\n",
              "      <td>NaN</td>\n",
              "      <td>NaN</td>\n",
              "      <td>...</td>\n",
              "      <td>NaN</td>\n",
              "      <td>NaN</td>\n",
              "      <td>NaN</td>\n",
              "      <td>NaN</td>\n",
              "      <td>NaN</td>\n",
              "      <td>NaN</td>\n",
              "      <td>NaN</td>\n",
              "      <td>NaN</td>\n",
              "      <td>NaN</td>\n",
              "      <td>NaN</td>\n",
              "    </tr>\n",
              "  </tbody>\n",
              "</table>\n",
              "<p>5 rows × 9066 columns</p>\n",
              "</div>\n",
              "      <button class=\"colab-df-convert\" onclick=\"convertToInteractive('df-7c2e9738-8c92-43ed-a4e4-5f4160d03695')\"\n",
              "              title=\"Convert this dataframe to an interactive table.\"\n",
              "              style=\"display:none;\">\n",
              "        \n",
              "  <svg xmlns=\"http://www.w3.org/2000/svg\" height=\"24px\"viewBox=\"0 0 24 24\"\n",
              "       width=\"24px\">\n",
              "    <path d=\"M0 0h24v24H0V0z\" fill=\"none\"/>\n",
              "    <path d=\"M18.56 5.44l.94 2.06.94-2.06 2.06-.94-2.06-.94-.94-2.06-.94 2.06-2.06.94zm-11 1L8.5 8.5l.94-2.06 2.06-.94-2.06-.94L8.5 2.5l-.94 2.06-2.06.94zm10 10l.94 2.06.94-2.06 2.06-.94-2.06-.94-.94-2.06-.94 2.06-2.06.94z\"/><path d=\"M17.41 7.96l-1.37-1.37c-.4-.4-.92-.59-1.43-.59-.52 0-1.04.2-1.43.59L10.3 9.45l-7.72 7.72c-.78.78-.78 2.05 0 2.83L4 21.41c.39.39.9.59 1.41.59.51 0 1.02-.2 1.41-.59l7.78-7.78 2.81-2.81c.8-.78.8-2.07 0-2.86zM5.41 20L4 18.59l7.72-7.72 1.47 1.35L5.41 20z\"/>\n",
              "  </svg>\n",
              "      </button>\n",
              "      \n",
              "  <style>\n",
              "    .colab-df-container {\n",
              "      display:flex;\n",
              "      flex-wrap:wrap;\n",
              "      gap: 12px;\n",
              "    }\n",
              "\n",
              "    .colab-df-convert {\n",
              "      background-color: #E8F0FE;\n",
              "      border: none;\n",
              "      border-radius: 50%;\n",
              "      cursor: pointer;\n",
              "      display: none;\n",
              "      fill: #1967D2;\n",
              "      height: 32px;\n",
              "      padding: 0 0 0 0;\n",
              "      width: 32px;\n",
              "    }\n",
              "\n",
              "    .colab-df-convert:hover {\n",
              "      background-color: #E2EBFA;\n",
              "      box-shadow: 0px 1px 2px rgba(60, 64, 67, 0.3), 0px 1px 3px 1px rgba(60, 64, 67, 0.15);\n",
              "      fill: #174EA6;\n",
              "    }\n",
              "\n",
              "    [theme=dark] .colab-df-convert {\n",
              "      background-color: #3B4455;\n",
              "      fill: #D2E3FC;\n",
              "    }\n",
              "\n",
              "    [theme=dark] .colab-df-convert:hover {\n",
              "      background-color: #434B5C;\n",
              "      box-shadow: 0px 1px 3px 1px rgba(0, 0, 0, 0.15);\n",
              "      filter: drop-shadow(0px 1px 2px rgba(0, 0, 0, 0.3));\n",
              "      fill: #FFFFFF;\n",
              "    }\n",
              "  </style>\n",
              "\n",
              "      <script>\n",
              "        const buttonEl =\n",
              "          document.querySelector('#df-7c2e9738-8c92-43ed-a4e4-5f4160d03695 button.colab-df-convert');\n",
              "        buttonEl.style.display =\n",
              "          google.colab.kernel.accessAllowed ? 'block' : 'none';\n",
              "\n",
              "        async function convertToInteractive(key) {\n",
              "          const element = document.querySelector('#df-7c2e9738-8c92-43ed-a4e4-5f4160d03695');\n",
              "          const dataTable =\n",
              "            await google.colab.kernel.invokeFunction('convertToInteractive',\n",
              "                                                     [key], {});\n",
              "          if (!dataTable) return;\n",
              "\n",
              "          const docLinkHtml = 'Like what you see? Visit the ' +\n",
              "            '<a target=\"_blank\" href=https://colab.research.google.com/notebooks/data_table.ipynb>data table notebook</a>'\n",
              "            + ' to learn more about interactive tables.';\n",
              "          element.innerHTML = '';\n",
              "          dataTable['output_type'] = 'display_data';\n",
              "          await google.colab.output.renderOutput(dataTable, element);\n",
              "          const docLink = document.createElement('div');\n",
              "          docLink.innerHTML = docLinkHtml;\n",
              "          element.appendChild(docLink);\n",
              "        }\n",
              "      </script>\n",
              "    </div>\n",
              "  </div>\n",
              "  "
            ]
          },
          "metadata": {},
          "execution_count": 7
        }
      ]
    },
    {
      "cell_type": "code",
      "metadata": {
        "id": "ZQqs1GQIpI2y"
      },
      "source": [
        "movie_ratings = pd.merge(movies, ratings, left_on='movieId', right_on='movieId')"
      ],
      "execution_count": null,
      "outputs": []
    },
    {
      "cell_type": "code",
      "metadata": {
        "id": "iXrDNF1UpWgF",
        "colab": {
          "base_uri": "https://localhost:8080/",
          "height": 206
        },
        "outputId": "163af73f-15c6-4d9e-93ea-24e2483697a9"
      },
      "source": [
        "movie_ratings.head()"
      ],
      "execution_count": null,
      "outputs": [
        {
          "output_type": "execute_result",
          "data": {
            "text/plain": [
              "   movieId             title                                       genres  \\\n",
              "0        1  Toy Story (1995)  Adventure|Animation|Children|Comedy|Fantasy   \n",
              "1        1  Toy Story (1995)  Adventure|Animation|Children|Comedy|Fantasy   \n",
              "2        1  Toy Story (1995)  Adventure|Animation|Children|Comedy|Fantasy   \n",
              "3        1  Toy Story (1995)  Adventure|Animation|Children|Comedy|Fantasy   \n",
              "4        1  Toy Story (1995)  Adventure|Animation|Children|Comedy|Fantasy   \n",
              "\n",
              "   userId  rating   timestamp  \n",
              "0       7     3.0   851866703  \n",
              "1       9     4.0   938629179  \n",
              "2      13     5.0  1331380058  \n",
              "3      15     2.0   997938310  \n",
              "4      19     3.0   855190091  "
            ],
            "text/html": [
              "\n",
              "  <div id=\"df-72347e78-2201-4362-aa75-e4ccb8a6586e\">\n",
              "    <div class=\"colab-df-container\">\n",
              "      <div>\n",
              "<style scoped>\n",
              "    .dataframe tbody tr th:only-of-type {\n",
              "        vertical-align: middle;\n",
              "    }\n",
              "\n",
              "    .dataframe tbody tr th {\n",
              "        vertical-align: top;\n",
              "    }\n",
              "\n",
              "    .dataframe thead th {\n",
              "        text-align: right;\n",
              "    }\n",
              "</style>\n",
              "<table border=\"1\" class=\"dataframe\">\n",
              "  <thead>\n",
              "    <tr style=\"text-align: right;\">\n",
              "      <th></th>\n",
              "      <th>movieId</th>\n",
              "      <th>title</th>\n",
              "      <th>genres</th>\n",
              "      <th>userId</th>\n",
              "      <th>rating</th>\n",
              "      <th>timestamp</th>\n",
              "    </tr>\n",
              "  </thead>\n",
              "  <tbody>\n",
              "    <tr>\n",
              "      <th>0</th>\n",
              "      <td>1</td>\n",
              "      <td>Toy Story (1995)</td>\n",
              "      <td>Adventure|Animation|Children|Comedy|Fantasy</td>\n",
              "      <td>7</td>\n",
              "      <td>3.0</td>\n",
              "      <td>851866703</td>\n",
              "    </tr>\n",
              "    <tr>\n",
              "      <th>1</th>\n",
              "      <td>1</td>\n",
              "      <td>Toy Story (1995)</td>\n",
              "      <td>Adventure|Animation|Children|Comedy|Fantasy</td>\n",
              "      <td>9</td>\n",
              "      <td>4.0</td>\n",
              "      <td>938629179</td>\n",
              "    </tr>\n",
              "    <tr>\n",
              "      <th>2</th>\n",
              "      <td>1</td>\n",
              "      <td>Toy Story (1995)</td>\n",
              "      <td>Adventure|Animation|Children|Comedy|Fantasy</td>\n",
              "      <td>13</td>\n",
              "      <td>5.0</td>\n",
              "      <td>1331380058</td>\n",
              "    </tr>\n",
              "    <tr>\n",
              "      <th>3</th>\n",
              "      <td>1</td>\n",
              "      <td>Toy Story (1995)</td>\n",
              "      <td>Adventure|Animation|Children|Comedy|Fantasy</td>\n",
              "      <td>15</td>\n",
              "      <td>2.0</td>\n",
              "      <td>997938310</td>\n",
              "    </tr>\n",
              "    <tr>\n",
              "      <th>4</th>\n",
              "      <td>1</td>\n",
              "      <td>Toy Story (1995)</td>\n",
              "      <td>Adventure|Animation|Children|Comedy|Fantasy</td>\n",
              "      <td>19</td>\n",
              "      <td>3.0</td>\n",
              "      <td>855190091</td>\n",
              "    </tr>\n",
              "  </tbody>\n",
              "</table>\n",
              "</div>\n",
              "      <button class=\"colab-df-convert\" onclick=\"convertToInteractive('df-72347e78-2201-4362-aa75-e4ccb8a6586e')\"\n",
              "              title=\"Convert this dataframe to an interactive table.\"\n",
              "              style=\"display:none;\">\n",
              "        \n",
              "  <svg xmlns=\"http://www.w3.org/2000/svg\" height=\"24px\"viewBox=\"0 0 24 24\"\n",
              "       width=\"24px\">\n",
              "    <path d=\"M0 0h24v24H0V0z\" fill=\"none\"/>\n",
              "    <path d=\"M18.56 5.44l.94 2.06.94-2.06 2.06-.94-2.06-.94-.94-2.06-.94 2.06-2.06.94zm-11 1L8.5 8.5l.94-2.06 2.06-.94-2.06-.94L8.5 2.5l-.94 2.06-2.06.94zm10 10l.94 2.06.94-2.06 2.06-.94-2.06-.94-.94-2.06-.94 2.06-2.06.94z\"/><path d=\"M17.41 7.96l-1.37-1.37c-.4-.4-.92-.59-1.43-.59-.52 0-1.04.2-1.43.59L10.3 9.45l-7.72 7.72c-.78.78-.78 2.05 0 2.83L4 21.41c.39.39.9.59 1.41.59.51 0 1.02-.2 1.41-.59l7.78-7.78 2.81-2.81c.8-.78.8-2.07 0-2.86zM5.41 20L4 18.59l7.72-7.72 1.47 1.35L5.41 20z\"/>\n",
              "  </svg>\n",
              "      </button>\n",
              "      \n",
              "  <style>\n",
              "    .colab-df-container {\n",
              "      display:flex;\n",
              "      flex-wrap:wrap;\n",
              "      gap: 12px;\n",
              "    }\n",
              "\n",
              "    .colab-df-convert {\n",
              "      background-color: #E8F0FE;\n",
              "      border: none;\n",
              "      border-radius: 50%;\n",
              "      cursor: pointer;\n",
              "      display: none;\n",
              "      fill: #1967D2;\n",
              "      height: 32px;\n",
              "      padding: 0 0 0 0;\n",
              "      width: 32px;\n",
              "    }\n",
              "\n",
              "    .colab-df-convert:hover {\n",
              "      background-color: #E2EBFA;\n",
              "      box-shadow: 0px 1px 2px rgba(60, 64, 67, 0.3), 0px 1px 3px 1px rgba(60, 64, 67, 0.15);\n",
              "      fill: #174EA6;\n",
              "    }\n",
              "\n",
              "    [theme=dark] .colab-df-convert {\n",
              "      background-color: #3B4455;\n",
              "      fill: #D2E3FC;\n",
              "    }\n",
              "\n",
              "    [theme=dark] .colab-df-convert:hover {\n",
              "      background-color: #434B5C;\n",
              "      box-shadow: 0px 1px 3px 1px rgba(0, 0, 0, 0.15);\n",
              "      filter: drop-shadow(0px 1px 2px rgba(0, 0, 0, 0.3));\n",
              "      fill: #FFFFFF;\n",
              "    }\n",
              "  </style>\n",
              "\n",
              "      <script>\n",
              "        const buttonEl =\n",
              "          document.querySelector('#df-72347e78-2201-4362-aa75-e4ccb8a6586e button.colab-df-convert');\n",
              "        buttonEl.style.display =\n",
              "          google.colab.kernel.accessAllowed ? 'block' : 'none';\n",
              "\n",
              "        async function convertToInteractive(key) {\n",
              "          const element = document.querySelector('#df-72347e78-2201-4362-aa75-e4ccb8a6586e');\n",
              "          const dataTable =\n",
              "            await google.colab.kernel.invokeFunction('convertToInteractive',\n",
              "                                                     [key], {});\n",
              "          if (!dataTable) return;\n",
              "\n",
              "          const docLinkHtml = 'Like what you see? Visit the ' +\n",
              "            '<a target=\"_blank\" href=https://colab.research.google.com/notebooks/data_table.ipynb>data table notebook</a>'\n",
              "            + ' to learn more about interactive tables.';\n",
              "          element.innerHTML = '';\n",
              "          dataTable['output_type'] = 'display_data';\n",
              "          await google.colab.output.renderOutput(dataTable, element);\n",
              "          const docLink = document.createElement('div');\n",
              "          docLink.innerHTML = docLinkHtml;\n",
              "          element.appendChild(docLink);\n",
              "        }\n",
              "      </script>\n",
              "    </div>\n",
              "  </div>\n",
              "  "
            ]
          },
          "metadata": {},
          "execution_count": 9
        }
      ]
    },
    {
      "cell_type": "code",
      "metadata": {
        "id": "udf_2XkOpZ2L",
        "colab": {
          "base_uri": "https://localhost:8080/"
        },
        "outputId": "2a75c385-97c5-4bc9-a36b-55842d364df9"
      },
      "source": [
        "movies.shape"
      ],
      "execution_count": null,
      "outputs": [
        {
          "output_type": "execute_result",
          "data": {
            "text/plain": [
              "(9125, 3)"
            ]
          },
          "metadata": {},
          "execution_count": 10
        }
      ]
    },
    {
      "cell_type": "code",
      "metadata": {
        "id": "90izVbp0pcO1",
        "colab": {
          "base_uri": "https://localhost:8080/"
        },
        "outputId": "49d8afd8-ab9c-47cc-f9cd-75de5787bcde"
      },
      "source": [
        "ratings.shape"
      ],
      "execution_count": null,
      "outputs": [
        {
          "output_type": "execute_result",
          "data": {
            "text/plain": [
              "(100004, 4)"
            ]
          },
          "metadata": {},
          "execution_count": 11
        }
      ]
    },
    {
      "cell_type": "code",
      "metadata": {
        "id": "l8j8KQfwpeL4",
        "colab": {
          "base_uri": "https://localhost:8080/"
        },
        "outputId": "acb9f9ab-5c8a-43ad-d7af-49fc06911a8d"
      },
      "source": [
        "movie_ratings.shape"
      ],
      "execution_count": null,
      "outputs": [
        {
          "output_type": "execute_result",
          "data": {
            "text/plain": [
              "(100004, 6)"
            ]
          },
          "metadata": {},
          "execution_count": 12
        }
      ]
    },
    {
      "cell_type": "code",
      "metadata": {
        "id": "ywKCC6ZqXl33"
      },
      "source": [
        "def getMovieName(movie_ratings, movieID):\n",
        "    return movie_ratings[movie_ratings[\"movieId\"] == movieID][[\"title\", \"genres\"]].values[0]\n",
        "\n",
        "def getMovieID(movie_ratings, movieName):\n",
        "    return movie_ratings[movie_ratings[\"title\"] == movieName][[\"movieId\", \"genres\"]].values[0]"
      ],
      "execution_count": null,
      "outputs": []
    },
    {
      "cell_type": "markdown",
      "metadata": {
        "id": "WHeH7DsyyxCa"
      },
      "source": [
        "## 영화 데이터를 surprise 모듈을 통해 로딩"
      ]
    },
    {
      "cell_type": "code",
      "metadata": {
        "id": "ZgtyCtMaw8Eq"
      },
      "source": [
        "from surprise import Dataset\n",
        "from surprise import Reader\n",
        "from collections import defaultdict\n",
        "\n",
        "reader = Reader(line_format='user item rating timestamp', sep=',', skip_lines=1) # 포맷 지정해주기 (처음에는 user, 그 다음에는 item, 그 다음에는 rating, 마지막에는 timestamp 가 나온다.)\n",
        "data = Dataset.load_from_file(\"ratings.csv\", reader=reader)"
      ],
      "execution_count": null,
      "outputs": []
    },
    {
      "cell_type": "markdown",
      "metadata": {
        "id": "BxOxFou52jQ4"
      },
      "source": [
        "![Screen Shot 2021-02-26 at 11.39.06 AM.png](data:image/png;base64,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)"
      ]
    },
    {
      "cell_type": "code",
      "metadata": {
        "id": "7SulaH4Qz42-"
      },
      "source": [
        "from surprise import SVD\n",
        "from surprise import NormalPredictor\n",
        "from surprise.model_selection import GridSearchCV\n",
        "\n",
        "# 하이퍼 파라미터 그리드 검색을 해서 최적의 파라미터를 찾는다\n",
        "# scikit-learn의 GridSearchCV와 아주 흡사\n",
        "# - n_factors: 축소 차원수 (앞 그림에서 시그마 행렬의 차원수 - r)\n",
        "# - n_epochs: 전체 데이터 셋을 훈련시키는 횟수\n",
        "# - lr_all: 학습률 \n",
        "\n",
        "param_grid = {\n",
        "  'n_epochs': [20, 30],\n",
        "  'lr_all': [0.005, 0.010], # 학습률(값이 적당해야 함. 학습률이 너무 크면 converge가 안 될 확률이 있고, 학습률이 너무 작으면 시간이 오래 걸릴 수 있음)           \n",
        "  'n_factors': [50, 100] # 50개와 100개를 테스트\n",
        "  # => 총 8개의 조합(2*2*2)\n",
        "}\n",
        "\n",
        "# 3-폴드 교차검증을 하고 두 개의 비용함수를 사용: RMSE와 MAE (Mean Absolute Error)\n",
        "gs = GridSearchCV(SVD, param_grid, measures=['rmse', 'mae'], cv=3) # cv: cross validation(교차 검증) / 여기서는 3-폴드 교차검증 \n",
        "gs.fit(data)"
      ],
      "execution_count": null,
      "outputs": []
    },
    {
      "cell_type": "code",
      "metadata": {
        "id": "cSfVL98j4j_u",
        "colab": {
          "base_uri": "https://localhost:8080/"
        },
        "outputId": "8cabaad9-f668-4217-fc45-fde9be85b35b"
      },
      "source": [
        "# RMSE\n",
        "print(\"Best RMSE score attained: \", gs.best_score['rmse']) # RMSE로 봤을 때 가장 score가 좋은 것(가장 작은 것)\n",
        "print(\"Best RMSE params: \", gs.best_params['rmse']) # 가장 작은 score를 도출해준 하이퍼 파라미터들이 무엇이냐?\n",
        "# 제일 잘 나온(가장 작은) score가 0.8979 정도 => (매우 중요) 예측한 평점과 실제 평점사이에는 0.9 정도의 차이가 난다 (큰 차이가 아님)\n",
        "# 20번의 학습 / r = 50 일 때 최고의 성능"
      ],
      "execution_count": null,
      "outputs": [
        {
          "output_type": "stream",
          "name": "stdout",
          "text": [
            "Best RMSE score attained:  0.8979470184610981\n",
            "Best RMSE params:  {'n_epochs': 20, 'lr_all': 0.005, 'n_factors': 50}\n"
          ]
        }
      ]
    },
    {
      "cell_type": "code",
      "metadata": {
        "id": "i0Fn5p2C4nIY",
        "colab": {
          "base_uri": "https://localhost:8080/"
        },
        "outputId": "ce103637-1c6d-4a32-9572-7b36a958623a"
      },
      "source": [
        "# MAE\n",
        "print(\"Best RAE score attained: \", gs.best_score['mae']) # mae로 봤을 때 가장 score가 좋은 것(가장 작은 것)\n",
        "print(\"Best RAE params: \", gs.best_params['mae']) # 가장 작은 score를 도출해준 하이퍼 파라미터들이 무엇이냐?\n",
        "# 제일 잘 나온(가장 작은) score가 0.69 정도 => (매우 중요) 예측한 평점과 실제 평점사이에는 0.7 정도의 차이가 난다 (큰 차이가 아님)\n",
        "# 20번의 학습 / r = 50 일 때 최고의 성능\n",
        "\n",
        "# RMSE 와 MAE의 차이점: \n",
        "  # 1보다 작은 값을 제곱하면 그 값이 작아지고, 1보다 큰 값을 제곱하면 그 값이 커진다. 절댓값은 1보다 작냐 크냐 상관없이 똑같다.\n",
        "  # 에러를 측정할 때 제곱이 들어가면, 예측값과 실제값의 차이가 적을 때는 별로 신경을 안쓰고, 그 차이가 클 때는 이를 증폭시킨다. (더 자세히 조사해볼 것) "
      ],
      "execution_count": null,
      "outputs": [
        {
          "output_type": "stream",
          "name": "stdout",
          "text": [
            "Best RAE score attained:  0.6918077204101561\n",
            "Best RAE params:  {'n_epochs': 20, 'lr_all': 0.005, 'n_factors': 50}\n"
          ]
        }
      ]
    },
    {
      "cell_type": "markdown",
      "metadata": {
        "id": "DffXI4q6wGXx"
      },
      "source": [
        "## 최고의 성능을 보인 파라미터로 모델 훈련하고 예측해보기"
      ]
    },
    {
      "cell_type": "code",
      "metadata": {
        "id": "wxfvVA5tYkeB"
      },
      "source": [
        "svd = gs.best_estimator['rmse']"
      ],
      "execution_count": null,
      "outputs": []
    },
    {
      "cell_type": "code",
      "metadata": {
        "id": "UEPzTrXgtrX_",
        "colab": {
          "base_uri": "https://localhost:8080/"
        },
        "outputId": "cecb64f1-45b3-45a0-e2e4-4058e9df9dc2"
      },
      "source": [
        "trainset = data.build_full_trainset()\n",
        "svd.fit(trainset)"
      ],
      "execution_count": null,
      "outputs": [
        {
          "output_type": "execute_result",
          "data": {
            "text/plain": [
              "<surprise.prediction_algorithms.matrix_factorization.SVD at 0x7fd12e935750>"
            ]
          },
          "metadata": {},
          "execution_count": 22
        }
      ]
    },
    {
      "cell_type": "code",
      "metadata": {
        "id": "huwT03cUultz",
        "colab": {
          "base_uri": "https://localhost:8080/"
        },
        "outputId": "29168c46-9e80-4cb5-ea1f-69e1ce12c6d0"
      },
      "source": [
        "uid = str(196)  # raw user id (as in the ratings file). They are **strings**!\n",
        "iid = str(302)  # raw item id (as in the ratings file). They are **strings**!\n",
        "\n",
        "# get a prediction for specific users and items.\n",
        "pred = svd.predict(uid, iid, verbose=True)   # r_ui=4. 실제 값은 4인데, 예측값은 3.83. 거의 비슷"
      ],
      "execution_count": null,
      "outputs": [
        {
          "output_type": "stream",
          "name": "stdout",
          "text": [
            "user: 196        item: 302        r_ui = None   est = 3.76   {'was_impossible': False}\n"
          ]
        }
      ]
    },
    {
      "cell_type": "markdown",
      "metadata": {
        "id": "tBhZC__yvaYR"
      },
      "source": [
        "## Train/Test Split로 훈련하고 성능 평가해보기"
      ]
    },
    {
      "cell_type": "code",
      "metadata": {
        "id": "Qtjg3vHevdOY",
        "colab": {
          "base_uri": "https://localhost:8080/"
        },
        "outputId": "a7ce7524-cb52-49ca-e59f-d98da8d8da95"
      },
      "source": [
        "from surprise import accuracy # accuracy: 성능 평가 함수\n",
        "from surprise.model_selection import train_test_split\n",
        "\n",
        "trainset, testset = train_test_split(data, test_size=.25) # 데이터를 75(train set):25(test set)로 나눔\n",
        "\n",
        "svd = SVD()\n",
        "svd.fit(trainset)\n",
        "predictions = svd.test(testset)\n",
        "\n",
        "# Then compute RMSE\n",
        "accuracy.rmse(predictions)\n",
        "# RMSE == 0.9042 -> 앞에서 교차 검증을 하고 8개의 하이퍼파라미터 조합을 테스트해서 나온 결과보다는 '나쁜'(낮은) 결과"
      ],
      "execution_count": null,
      "outputs": [
        {
          "output_type": "stream",
          "name": "stdout",
          "text": [
            "RMSE: 0.9042\n"
          ]
        },
        {
          "output_type": "execute_result",
          "data": {
            "text/plain": [
              "0.904200197643747"
            ]
          },
          "metadata": {},
          "execution_count": 30
        }
      ]
    },
    {
      "cell_type": "code",
      "metadata": {
        "id": "aDcu9ceevpSd",
        "colab": {
          "base_uri": "https://localhost:8080/"
        },
        "outputId": "eb085fb3-a094-455d-f867-06eb83134d19"
      },
      "source": [
        "testset[0:10] # 1열: 유저id / 2열: 영화id / 3열: 실제 평점 "
      ],
      "execution_count": null,
      "outputs": [
        {
          "output_type": "execute_result",
          "data": {
            "text/plain": [
              "[('4', '3040', 5.0),\n",
              " ('447', '186', 3.0),\n",
              " ('294', '4317', 3.0),\n",
              " ('534', '1213', 4.0),\n",
              " ('624', '6410', 3.0),\n",
              " ('607', '7143', 4.0),\n",
              " ('48', '106072', 2.5),\n",
              " ('77', '380', 2.5),\n",
              " ('457', '3869', 2.5),\n",
              " ('416', '454', 3.0)]"
            ]
          },
          "metadata": {},
          "execution_count": 33
        }
      ]
    },
    {
      "cell_type": "code",
      "metadata": {
        "id": "CYg1ad9YvsOa",
        "colab": {
          "base_uri": "https://localhost:8080/"
        },
        "outputId": "fc4453cd-ed32-490c-fd7b-28797e213004"
      },
      "source": [
        "pred = svd.predict(\"294\", \"4317\", verbose=True) # 실제 평점은 3.0 / 예측평균은 3.33"
      ],
      "execution_count": null,
      "outputs": [
        {
          "output_type": "stream",
          "name": "stdout",
          "text": [
            "user: 294        item: 4317       r_ui = None   est = 3.33   {'was_impossible': False}\n"
          ]
        }
      ]
    },
    {
      "cell_type": "code",
      "metadata": {
        "id": "EHgKajZEv4ow",
        "colab": {
          "base_uri": "https://localhost:8080/"
        },
        "outputId": "8fc902ad-a823-4741-99d2-76dc9577811b"
      },
      "source": [
        "pred = svd.predict(\"447\", \"186\", verbose=True) # 실제 평점은 3.0 / 예측 평균은 2.61"
      ],
      "execution_count": null,
      "outputs": [
        {
          "output_type": "stream",
          "name": "stdout",
          "text": [
            "user: 447        item: 186        r_ui = None   est = 2.61   {'was_impossible': False}\n"
          ]
        }
      ]
    },
    {
      "cell_type": "markdown",
      "metadata": {
        "id": "VcPHw_pZF8vY"
      },
      "source": [
        "## (5일차에 설명) Leave One Out을 사용하여 Top-N 정확도 계산"
      ]
    },
    {
      "cell_type": "code",
      "metadata": {
        "id": "h9Pk1OoyGGKd"
      },
      "source": [
        "# 사용자별로 10개의 추천 아이템을 생성\n",
        "# 인자인 predictions로는 SVD의 test의 리턴값을 사용\n",
        "def get_top_n(predictions, n=10):\n",
        "\n",
        "    top_n = defaultdict(list)\n",
        "\n",
        "    # predictions의 각 레코드는 (사용자 ID, 아이템 ID, 실제 평점, 예측 평점)으로 구성\n",
        "    for uid, iid, true_r, est, _ in predictions:\n",
        "        # 사용자별로 영화ID와 예측 평점을 같이 저장\n",
        "        top_n[uid].append((iid, est))\n",
        " \n",
        "    # 위에서 채워진 top_n을 사용자ID를 가지고 예측평점이 높은 n개의 영화로 교체\n",
        "    for uid, user_ratings in top_n.items():\n",
        "        user_ratings.sort(key=lambda x: x[1], reverse=True)\n",
        "        top_n[uid] = user_ratings[:n]\n",
        " \n",
        "    return top_n"
      ],
      "execution_count": null,
      "outputs": []
    },
    {
      "cell_type": "markdown",
      "metadata": {
        "id": "iVRQDs-7uK6O"
      },
      "source": [
        "### Top-N 정확도 계산"
      ]
    },
    {
      "cell_type": "code",
      "metadata": {
        "id": "P1faYjebF_ve"
      },
      "source": [
        "from surprise.model_selection import LeaveOneOut\n",
        "\n",
        "# 각 사용자별로 하나의 평점만을 테스트셋에 보관 (n_splits가 1 즉 1개의 폴드)\n",
        "LOOCV = LeaveOneOut(n_splits=1, random_state=1)\n",
        "ratingCutoff = 4.0\n",
        "\n",
        "for trainSet, testSet in LOOCV.split(data):\n",
        "  pass"
      ],
      "execution_count": null,
      "outputs": []
    },
    {
      "cell_type": "code",
      "metadata": {
        "id": "PytI5VpER0Ez"
      },
      "source": [
        "len(testSet)"
      ],
      "execution_count": null,
      "outputs": []
    },
    {
      "cell_type": "code",
      "metadata": {
        "id": "aetUZYlURy2R"
      },
      "source": [
        "# 훈련 데이터셋으로 학습 \n",
        "svd.fit(trainSet)"
      ],
      "execution_count": null,
      "outputs": []
    },
    {
      "cell_type": "code",
      "metadata": {
        "id": "KQ17Za1NQmwV"
      },
      "source": [
        "# 훈련 데이터셋에 있지 않은 모든 데이터를 테스트셋으로 리턴\n",
        "bigTestSet = trainSet.build_anti_testset()\n",
        "\n",
        "print(len(bigTestSet))"
      ],
      "execution_count": null,
      "outputs": []
    },
    {
      "cell_type": "code",
      "metadata": {
        "id": "GN7X3RuiREX2"
      },
      "source": [
        "# 위에서 리턴된 데이터에 대해 평점 예측\n",
        "allPredictions = svd.test(bigTestSet)"
      ],
      "execution_count": null,
      "outputs": []
    },
    {
      "cell_type": "code",
      "metadata": {
        "id": "yhiEdpxXEEcK"
      },
      "source": [
        "# 각 사용자별로 아직 보지 못한 영화들을 대상으로 top 20 평점 영화 리스트를 추출\n",
        "topNPredicted = get_top_n(allPredictions, n=20)\n",
        "\n",
        "# 예를 들어 사용자 '1'의 추천 리스트를 확인\n",
        "for tnp in topNPredicted['1']:\n",
        "  # tnp는 tuple로 영화ID와 평점으로 구성\n",
        "  print(tnp)"
      ],
      "execution_count": null,
      "outputs": []
    },
    {
      "cell_type": "code",
      "metadata": {
        "id": "97946p_VESCA"
      },
      "source": [
        "# top N 정확도를 계산\n",
        "hits = 0\n",
        "total = 0\n",
        "\n",
        "# 남겨졌던 데이터의 사용자들을 대상으로 cutoffRating이상의 평점을 갖는 아이템이 추천되었는지 확인\n",
        "for userID, leftOutMovieID, trueRating in testSet:\n",
        "    print(userID, leftOutMovieID, trueRating)\n",
        "    # 높은 평점이 매칭되는 경우만 고려\n",
        "    if (trueRating >= ratingCutoff):            \n",
        "        for movieID, predictedRating in topNPredicted[userID]:\n",
        "            # 해당 사용자의 추천 아이템에 해당 영화가 존재하는 경우에만 카운트\n",
        "            if (leftOutMovieID == movieID):\n",
        "                hits += 1\n",
        "                break\n",
        "        total += 1\n",
        "\n",
        "print(hits/float(total)*100.)"
      ],
      "execution_count": null,
      "outputs": []
    },
    {
      "cell_type": "markdown",
      "metadata": {
        "id": "f8-QjhwovNWy"
      },
      "source": [
        "### 추천 위치를 고려하여 Top-N 정확도 계산 -> Top-N NDCG 정확도"
      ]
    },
    {
      "cell_type": "code",
      "metadata": {
        "id": "-lMigjJGvOFt"
      },
      "source": [
        "# 리뷰 라이브 세션에서 같이 볼 예정"
      ],
      "execution_count": null,
      "outputs": []
    }
  ]
}