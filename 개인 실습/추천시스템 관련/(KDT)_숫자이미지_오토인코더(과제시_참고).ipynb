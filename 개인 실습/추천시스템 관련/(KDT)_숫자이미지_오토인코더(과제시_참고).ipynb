{
  "nbformat": 4,
  "nbformat_minor": 0,
  "metadata": {
    "colab": {
      "provenance": [],
      "collapsed_sections": []
    },
    "kernelspec": {
      "name": "python3",
      "display_name": "Python 3"
    }
  },
  "cells": [
    {
      "cell_type": "code",
      "metadata": {
        "id": "cv2rcOr48imA"
      },
      "source": [
        "import numpy as np\n",
        "import matplotlib.pyplot as plt\n",
        "from keras.layers import Input, Dense\n",
        "from keras.models import Model\n",
        "from keras.datasets import mnist"
      ],
      "execution_count": null,
      "outputs": []
    },
    {
      "cell_type": "code",
      "metadata": {
        "colab": {
          "base_uri": "https://localhost:8080/"
        },
        "id": "KUr2MERZA5XS",
        "outputId": "e02ba222-1664-4486-864f-9b711bd54344"
      },
      "source": [
        "(x_train, y_train), (x_test, y_test) = mnist.load_data()\n",
        "\n",
        "x_train = x_train.astype('float32') / 256\n",
        "x_test = x_test.astype('float32') / 256\n",
        "\n",
        "print(x_train.shape)"
      ],
      "execution_count": null,
      "outputs": [
        {
          "output_type": "stream",
          "name": "stdout",
          "text": [
            "Downloading data from https://storage.googleapis.com/tensorflow/tf-keras-datasets/mnist.npz\n",
            "11493376/11490434 [==============================] - 0s 0us/step\n",
            "11501568/11490434 [==============================] - 0s 0us/step\n",
            "(60000, 28, 28)\n"
          ]
        }
      ]
    },
    {
      "cell_type": "code",
      "metadata": {
        "colab": {
          "base_uri": "https://localhost:8080/"
        },
        "id": "5t7KNCvPoIz1",
        "outputId": "d27074f1-a085-4f9f-e975-350a528b3f70"
      },
      "source": [
        "x_train = x_train.reshape(len(x_train), 28*28) # reshape을 통해 1차원으로 flatten 시킨다\n",
        "x_test = x_test.reshape(len(x_test), 28*28)  # reshape을 통해 1차원으로 flatten 시킨다\n",
        "\n",
        "print(x_train.shape)\n",
        "print(x_test.shape)"
      ],
      "execution_count": null,
      "outputs": [
        {
          "output_type": "stream",
          "name": "stdout",
          "text": [
            "(60000, 784)\n",
            "(10000, 784)\n"
          ]
        }
      ]
    },
    {
      "cell_type": "code",
      "metadata": {
        "id": "MCtTpQRjA9X4"
      },
      "source": [
        "input_layer = Input(shape=(784,)) # 784개의 정보다 input 으로 들어옴\n",
        "encoded = Dense(64, activation='relu')(input_layer) # 중간 은닉층은 64개의 노드를 가짐. 784개의 정보가 64개의 노드로 다 연결이 됨. 활성함수로는 relu 사용. \n",
        "decoded = Dense(784, activation='sigmoid')(encoded) # 이거는 784개의 노드. 활성함수로는 sigmoid 사용. 784개의 정보는 다시 784개의 출력을 갖는 출력 layer로 넘어간다. \n",
        "# 입력 == 레이블 (784 == 784)"
      ],
      "execution_count": null,
      "outputs": []
    },
    {
      "cell_type": "code",
      "metadata": {
        "id": "LOMYwzl0BAtE"
      },
      "source": [
        "autoencoder = Model(input_layer, decoded) "
      ],
      "execution_count": null,
      "outputs": []
    },
    {
      "cell_type": "code",
      "metadata": {
        "id": "wuo7vQ2MBHZW"
      },
      "source": [
        "encoder = Model(input_layer, encoded) # encoder: 이미지 축소시킴\n",
        "# decoder: 이미지 팽창시킴"
      ],
      "execution_count": null,
      "outputs": []
    },
    {
      "cell_type": "code",
      "metadata": {
        "id": "xSvPdJDLBJrS"
      },
      "source": [
        "input_layer_decoder = Input(shape=(64,))\n",
        "decoder_layer = autoencoder.layers[-1](input_layer_decoder) # 오토인코더의 layer들의 마지막에 있는 것이 결국 decoded 이다. \n",
        "decoder = Model(input_layer_decoder,decoder_layer)"
      ],
      "execution_count": null,
      "outputs": []
    },
    {
      "cell_type": "code",
      "metadata": {
        "colab": {
          "base_uri": "https://localhost:8080/"
        },
        "id": "_4vqBbPjBPh3",
        "outputId": "3a35e9a7-a214-401b-9fbf-f9a58d578c6c"
      },
      "source": [
        "autoencoder.summary()"
      ],
      "execution_count": null,
      "outputs": [
        {
          "output_type": "stream",
          "name": "stdout",
          "text": [
            "Model: \"model\"\n",
            "_________________________________________________________________\n",
            " Layer (type)                Output Shape              Param #   \n",
            "=================================================================\n",
            " input_1 (InputLayer)        [(None, 784)]             0         \n",
            "                                                                 \n",
            " dense (Dense)               (None, 64)                50240     \n",
            "                                                                 \n",
            " dense_1 (Dense)             (None, 784)               50960     \n",
            "                                                                 \n",
            "=================================================================\n",
            "Total params: 101,200\n",
            "Trainable params: 101,200\n",
            "Non-trainable params: 0\n",
            "_________________________________________________________________\n"
          ]
        }
      ]
    },
    {
      "cell_type": "code",
      "metadata": {
        "colab": {
          "base_uri": "https://localhost:8080/"
        },
        "id": "Fn_BHg3YBgo6",
        "outputId": "556e9994-2d82-4663-8e25-5ce8ae960eb2"
      },
      "source": [
        "autoencoder.compile(optimizer='adam', loss='binary_crossentropy') # 최적화 기법은 adam 사용 / 손실 함수는 binary_crossentropy 사용\n",
        "autoencoder.fit(x_train,x_train, epochs=50, batch_size=256, shuffle=True, validation_data=(x_test,x_test)) # 한 번 돌릴 때 256 batch size. 입력==출력 이면 최적\n",
        "# epoch이 커질 수록 loss가 줄어듦. -> loss function 의 결과가 수렴(converge)하기 시작함. 수렴 값이 대략 0.0737 정도 되는 듯"
      ],
      "execution_count": null,
      "outputs": [
        {
          "output_type": "stream",
          "name": "stdout",
          "text": [
            "Epoch 1/50\n",
            "235/235 [==============================] - 5s 17ms/step - loss: 0.2413 - val_loss: 0.1597\n",
            "Epoch 2/50\n",
            "235/235 [==============================] - 4s 19ms/step - loss: 0.1427 - val_loss: 0.1269\n",
            "Epoch 3/50\n",
            "235/235 [==============================] - 4s 17ms/step - loss: 0.1189 - val_loss: 0.1094\n",
            "Epoch 4/50\n",
            "235/235 [==============================] - 4s 16ms/step - loss: 0.1047 - val_loss: 0.0983\n",
            "Epoch 5/50\n",
            "235/235 [==============================] - 3s 15ms/step - loss: 0.0956 - val_loss: 0.0911\n",
            "Epoch 6/50\n",
            "235/235 [==============================] - 3s 14ms/step - loss: 0.0895 - val_loss: 0.0862\n",
            "Epoch 7/50\n",
            "235/235 [==============================] - 4s 17ms/step - loss: 0.0854 - val_loss: 0.0829\n",
            "Epoch 8/50\n",
            "235/235 [==============================] - 3s 12ms/step - loss: 0.0825 - val_loss: 0.0806\n",
            "Epoch 9/50\n",
            "235/235 [==============================] - 3s 12ms/step - loss: 0.0804 - val_loss: 0.0789\n",
            "Epoch 10/50\n",
            "235/235 [==============================] - 3s 13ms/step - loss: 0.0790 - val_loss: 0.0778\n",
            "Epoch 11/50\n",
            "235/235 [==============================] - 4s 16ms/step - loss: 0.0780 - val_loss: 0.0769\n",
            "Epoch 12/50\n",
            "235/235 [==============================] - 4s 15ms/step - loss: 0.0772 - val_loss: 0.0763\n",
            "Epoch 13/50\n",
            "235/235 [==============================] - 4s 19ms/step - loss: 0.0767 - val_loss: 0.0758\n",
            "Epoch 14/50\n",
            "235/235 [==============================] - 4s 16ms/step - loss: 0.0763 - val_loss: 0.0755\n",
            "Epoch 15/50\n",
            "235/235 [==============================] - 4s 16ms/step - loss: 0.0760 - val_loss: 0.0752\n",
            "Epoch 16/50\n",
            "235/235 [==============================] - 3s 15ms/step - loss: 0.0757 - val_loss: 0.0750\n",
            "Epoch 17/50\n",
            "235/235 [==============================] - 3s 12ms/step - loss: 0.0755 - val_loss: 0.0749\n",
            "Epoch 18/50\n",
            "235/235 [==============================] - 3s 13ms/step - loss: 0.0753 - val_loss: 0.0748\n",
            "Epoch 19/50\n",
            "235/235 [==============================] - 3s 13ms/step - loss: 0.0752 - val_loss: 0.0746\n",
            "Epoch 20/50\n",
            "235/235 [==============================] - 3s 13ms/step - loss: 0.0751 - val_loss: 0.0745\n",
            "Epoch 21/50\n",
            "235/235 [==============================] - 3s 13ms/step - loss: 0.0750 - val_loss: 0.0744\n",
            "Epoch 22/50\n",
            "235/235 [==============================] - 3s 13ms/step - loss: 0.0749 - val_loss: 0.0743\n",
            "Epoch 23/50\n",
            "235/235 [==============================] - 4s 15ms/step - loss: 0.0748 - val_loss: 0.0742\n",
            "Epoch 24/50\n",
            "235/235 [==============================] - 3s 12ms/step - loss: 0.0747 - val_loss: 0.0742\n",
            "Epoch 25/50\n",
            "235/235 [==============================] - 3s 12ms/step - loss: 0.0747 - val_loss: 0.0742\n",
            "Epoch 26/50\n",
            "235/235 [==============================] - 3s 13ms/step - loss: 0.0746 - val_loss: 0.0741\n",
            "Epoch 27/50\n",
            "235/235 [==============================] - 3s 13ms/step - loss: 0.0746 - val_loss: 0.0741\n",
            "Epoch 28/50\n",
            "235/235 [==============================] - 3s 13ms/step - loss: 0.0745 - val_loss: 0.0741\n",
            "Epoch 29/50\n",
            "235/235 [==============================] - 3s 13ms/step - loss: 0.0745 - val_loss: 0.0740\n",
            "Epoch 30/50\n",
            "235/235 [==============================] - 3s 14ms/step - loss: 0.0744 - val_loss: 0.0740\n",
            "Epoch 31/50\n",
            "235/235 [==============================] - 3s 12ms/step - loss: 0.0744 - val_loss: 0.0740\n",
            "Epoch 32/50\n",
            "235/235 [==============================] - 3s 13ms/step - loss: 0.0744 - val_loss: 0.0739\n",
            "Epoch 33/50\n",
            "235/235 [==============================] - 3s 13ms/step - loss: 0.0744 - val_loss: 0.0739\n",
            "Epoch 34/50\n",
            "235/235 [==============================] - 3s 13ms/step - loss: 0.0743 - val_loss: 0.0739\n",
            "Epoch 35/50\n",
            "235/235 [==============================] - 3s 13ms/step - loss: 0.0743 - val_loss: 0.0739\n",
            "Epoch 36/50\n",
            "235/235 [==============================] - 3s 12ms/step - loss: 0.0743 - val_loss: 0.0738\n",
            "Epoch 37/50\n",
            "235/235 [==============================] - 3s 12ms/step - loss: 0.0743 - val_loss: 0.0738\n",
            "Epoch 38/50\n",
            "235/235 [==============================] - 3s 13ms/step - loss: 0.0742 - val_loss: 0.0738\n",
            "Epoch 39/50\n",
            "235/235 [==============================] - 3s 12ms/step - loss: 0.0742 - val_loss: 0.0738\n",
            "Epoch 40/50\n",
            "235/235 [==============================] - 3s 13ms/step - loss: 0.0742 - val_loss: 0.0738\n",
            "Epoch 41/50\n",
            "235/235 [==============================] - 3s 13ms/step - loss: 0.0742 - val_loss: 0.0738\n",
            "Epoch 42/50\n",
            "235/235 [==============================] - 3s 12ms/step - loss: 0.0742 - val_loss: 0.0738\n",
            "Epoch 43/50\n",
            "235/235 [==============================] - 3s 12ms/step - loss: 0.0742 - val_loss: 0.0737\n",
            "Epoch 44/50\n",
            "235/235 [==============================] - 3s 14ms/step - loss: 0.0741 - val_loss: 0.0737\n",
            "Epoch 45/50\n",
            "235/235 [==============================] - 4s 15ms/step - loss: 0.0741 - val_loss: 0.0738\n",
            "Epoch 46/50\n",
            "235/235 [==============================] - 3s 13ms/step - loss: 0.0741 - val_loss: 0.0737\n",
            "Epoch 47/50\n",
            "235/235 [==============================] - 3s 13ms/step - loss: 0.0741 - val_loss: 0.0737\n",
            "Epoch 48/50\n",
            "235/235 [==============================] - 3s 12ms/step - loss: 0.0741 - val_loss: 0.0737\n",
            "Epoch 49/50\n",
            "235/235 [==============================] - 3s 14ms/step - loss: 0.0741 - val_loss: 0.0737\n",
            "Epoch 50/50\n",
            "235/235 [==============================] - 3s 13ms/step - loss: 0.0741 - val_loss: 0.0737\n"
          ]
        },
        {
          "output_type": "execute_result",
          "data": {
            "text/plain": [
              "<keras.callbacks.History at 0x7f1c30747890>"
            ]
          },
          "metadata": {},
          "execution_count": 9
        }
      ]
    },
    {
      "cell_type": "code",
      "metadata": {
        "id": "b5NbVnagD53c"
      },
      "source": [
        "encoded_images = encoder.predict(x_test) # 압축된 이미지\n",
        "decoded_images = decoder.predict(encoded_images) # 원상복귀된(팽창된) 이미지"
      ],
      "execution_count": null,
      "outputs": []
    },
    {
      "cell_type": "code",
      "metadata": {
        "id": "UAmQi8DhD-Yf"
      },
      "source": [
        "def visualize(data, size): #8개에 대해서만 시각화\n",
        "    n = 8\n",
        "    plt.figure(figsize=(20,4))\n",
        "    plt.gray()\n",
        "    for i in range(n):\n",
        "        ax = plt.subplot(2,n,i+1)\n",
        "        plt.imshow(data[i].reshape(size,size)) # reshape으로 2차원으로 바꾸어줌\n",
        "        ax.get_xaxis().set_visible(False)\n",
        "        ax.get_yaxis().set_visible(False)\n",
        "    plt.show()"
      ],
      "execution_count": null,
      "outputs": []
    },
    {
      "cell_type": "code",
      "metadata": {
        "colab": {
          "base_uri": "https://localhost:8080/",
          "height": 365
        },
        "id": "3OF0nVYuEB35",
        "outputId": "d8fcb6da-5e0a-49fb-a6fb-d375ce66ec9c"
      },
      "source": [
        "visualize(x_test, 28) # 딥러닝 같은 기계한테는 784개의 픽셀정보를 써서 숫자를 표현하든, \n",
        "visualize(encoded_images, 8) # 64개의 픽셀정보를 써서 숫자를 표현하든 둘 다 똑같다. 하지만 은닉층에서 차원을 줄이면(784->64) 기계가 아닌 사람이 봤을 때는 이미지를 파악하기 힘들다. \n",
        "# 물론 차원을 줄이면 계산량이 줄어서 얻는 이점도 있다.\n",
        "# 그리고 차원을 줄였다고 해서, 기계입장에서는 정보량이 줄지 않는다. 정보량은 똑같이 유지된다. \n",
        "visualize(decoded_images, 28) # 이미지 원상 복구"
      ],
      "execution_count": null,
      "outputs": [
        {
          "output_type": "display_data",
          "data": {
            "text/plain": [
              "<Figure size 1440x288 with 8 Axes>"
            ],
            "image/png": "[encoded data removed]"
          },
          "metadata": {
            "needs_background": "light"
          }
        },
        {
          "output_type": "display_data",
          "data": {
            "text/plain": [
              "<Figure size 1440x288 with 8 Axes>"
            ],
            "image/png": "[encoded data removed]"
          },
          "metadata": {
            "needs_background": "light"
          }
        },
        {
          "output_type": "display_data",
          "data": {
            "text/plain": [
              "<Figure size 1440x288 with 8 Axes>"
            ],
            "image/png": "[encoded data removed]"
          },
          "metadata": {
            "needs_background": "light"
          }
        }
      ]
    },
    {
      "cell_type": "code",
      "metadata": {
        "id": "sXlp1WvQEM0o"
      },
      "source": [],
      "execution_count": null,
      "outputs": []
    }
  ]
}