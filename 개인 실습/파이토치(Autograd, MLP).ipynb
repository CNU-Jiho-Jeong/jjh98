{
 "cells": [
  {
   "cell_type": "markdown",
   "id": "ec24d7bc",
   "metadata": {},
   "source": [
    "# Pytorch Tutoral - Autograd & MLP(Multi-layer perceptron)\n",
    "## Autograd\n",
    "- autograd패키지는 텐서의 모든 연산에 대한 자동 미분을 제공\n",
    "- 실행-기반-정의(define-by-run) 프레임워크로, 코드를 어떻게 작성하여 실행하느냐에 따라 역전파가 정의된다는 것을 의미\n",
    "- 역전파는 학습 과정의 매 단계마다 달라짐\n",
    "## Tensor\n",
    "- torch.Tensor 클래스의 **.requires_grad 속성을 True로 설정**하면, 해당 텐서에서 이루어진 모든 연산을 추적(track)하기 시작\n",
    "- 계산이 완료된 후 .backward()를 호출하여 모든 변화도(gradient)를 자동으로 계산할 수 있으며 이 Tensor의 변화도는 .grad 속성에 누적됨\n",
    "- Tensor가 기록을 추적하는 것을 중단하게 하려면, .detach()를 호출하여 연산기록으로부터 분리하여 연산이 추적되는 것을 방지할 수 있음\n",
    "- 기록을 추적하는 것(과 메모리를 사용하는 것)을 방지하기 위해서 코드 블럭을 with torch.no_grad():로 감쌀 수 있음\n",
    "- 이는 변화도(gradient)는 필요 없지만 requires_grad=True가 설정되어 학습 가능한 매개변수를 갖는 모델을 평가(evaluate)할 때 유용\n",
    "- Autograd 구현에서 Function 클래스는 매우 중요한 역할을 수행\n",
    "- Tensor와 Function은 서로 연결되어 있고 모든 연산 과정을 부호화하여 순환하지 않는 그래프를 생성\n",
    "- 각 tensor는 .grad_fn 속성을 가지고 있는데 이는 Tensor를 생성한 Function을 참조함(단, 사용자가 만든 Tensor는 예외이며, 사용자가 만든 Tensor가 아닌 연산에 의해 생긴 텐서와 같은 경우는 모두 Function을 참조)\n",
    "- 도함수를 계산하기 위해서는 Tensor의 .backward()를 호출하면 됨"
   ]
  },
  {
   "cell_type": "code",
   "execution_count": 1,
   "id": "51374810",
   "metadata": {},
   "outputs": [],
   "source": [
    "# 위의 내용들을 직접 실습해보자\n",
    "\n",
    "import torch"
   ]
  },
  {
   "cell_type": "code",
   "execution_count": 2,
   "id": "1d7d4fe1",
   "metadata": {},
   "outputs": [
    {
     "name": "stdout",
     "output_type": "stream",
     "text": [
      "tensor([[1., 1.],\n",
      "        [1., 1.]], requires_grad=True)\n",
      "None\n"
     ]
    }
   ],
   "source": [
    "# x의 연산 과정을 추적하기 위해 requires_grad=True로 설정\n",
    "x = torch.ones(2, 2, requires_grad=True)\n",
    "print(x)\n",
    "\n",
    "# 직접 생선한 Tensor이기 때문에 grad_fn이 None인 것을 확인할 수 있음\n",
    "print(x.grad_fn)"
   ]
  },
  {
   "cell_type": "code",
   "execution_count": 3,
   "id": "5dada8d6",
   "metadata": {},
   "outputs": [
    {
     "name": "stdout",
     "output_type": "stream",
     "text": [
      "tensor([[3., 3.],\n",
      "        [3., 3.]], grad_fn=<AddBackward0>)\n"
     ]
    }
   ],
   "source": [
    "# y는 연산의 결과로 생성된 것이기 때문에 grad_fn을 갖고 있는 것을 확인 가능\n",
    "y = x + 2\n",
    "print(y)"
   ]
  },
  {
   "cell_type": "code",
   "execution_count": 4,
   "id": "f35ba16e",
   "metadata": {},
   "outputs": [
    {
     "name": "stdout",
     "output_type": "stream",
     "text": [
      "<AddBackward0 object at 0x0000021BEAFF12B0>\n"
     ]
    }
   ],
   "source": [
    "# 연산의 결과로 생성된 것이기 때문에 grad_fn을 갖는 것을 확인 가능\n",
    "print(y.grad_fn)"
   ]
  },
  {
   "cell_type": "code",
   "execution_count": 5,
   "id": "e7dd8329",
   "metadata": {},
   "outputs": [
    {
     "name": "stdout",
     "output_type": "stream",
     "text": [
      "tensor([[27., 27.],\n",
      "        [27., 27.]], grad_fn=<MulBackward0>)\n",
      "tensor(27., grad_fn=<MeanBackward0>)\n"
     ]
    }
   ],
   "source": [
    "z = y * y * 3\n",
    "out = z.mean()\n",
    "\n",
    "# 각각 사용한 func에 맞게 grad_fn이 생성된 것을 확인할 수 있음\n",
    "print(z)\n",
    "print(out)"
   ]
  },
  {
   "cell_type": "markdown",
   "id": "9225af40",
   "metadata": {},
   "source": [
    "- requires_grad_()를 사용하면 기존 Tensor의 requires_grad 값을 바꿀 수 있음\n",
    "- 입력 값이 지정되지 않으면 기본 값은 False"
   ]
  },
  {
   "cell_type": "code",
   "execution_count": 6,
   "id": "f2eb228b",
   "metadata": {},
   "outputs": [
    {
     "name": "stdout",
     "output_type": "stream",
     "text": [
      "tensor([[-0.4515, -0.8731],\n",
      "        [-2.2938,  0.4496]])\n"
     ]
    }
   ],
   "source": [
    "a = torch.randn(2, 2)\n",
    "print(a)"
   ]
  },
  {
   "cell_type": "code",
   "execution_count": 7,
   "id": "2bb16781",
   "metadata": {},
   "outputs": [
    {
     "name": "stdout",
     "output_type": "stream",
     "text": [
      "tensor([[ 0.9331,  1.3984],\n",
      "        [ 2.0892, -2.4505]])\n",
      "False\n"
     ]
    }
   ],
   "source": [
    "a = ((a * 3) / (a - 1))\n",
    "print(a)\n",
    "print(a.requires_grad) # default 값인 False"
   ]
  },
  {
   "cell_type": "code",
   "execution_count": 8,
   "id": "8f381116",
   "metadata": {},
   "outputs": [
    {
     "data": {
      "text/plain": [
       "tensor([[ 0.9331,  1.3984],\n",
       "        [ 2.0892, -2.4505]], requires_grad=True)"
      ]
     },
     "execution_count": 8,
     "metadata": {},
     "output_type": "execute_result"
    }
   ],
   "source": [
    "a.requires_grad_(True) # requires_grad 속성을 True로"
   ]
  },
  {
   "cell_type": "code",
   "execution_count": 9,
   "id": "6a362604",
   "metadata": {},
   "outputs": [
    {
     "name": "stdout",
     "output_type": "stream",
     "text": [
      "True\n"
     ]
    }
   ],
   "source": [
    "print(a.requires_grad)"
   ]
  },
  {
   "cell_type": "code",
   "execution_count": 10,
   "id": "f1eaef0d",
   "metadata": {},
   "outputs": [
    {
     "name": "stdout",
     "output_type": "stream",
     "text": [
      "tensor(13.1959, grad_fn=<SumBackward0>)\n",
      "True\n"
     ]
    }
   ],
   "source": [
    "b = (a * a).sum()\n",
    "print(b)\n",
    "print(b.requires_grad)"
   ]
  },
  {
   "cell_type": "markdown",
   "id": "04412382",
   "metadata": {},
   "source": [
    "# 변화도"
   ]
  },
  {
   "cell_type": "code",
   "execution_count": 11,
   "id": "0dc1c145",
   "metadata": {},
   "outputs": [
    {
     "name": "stdout",
     "output_type": "stream",
     "text": [
      "tensor(27., grad_fn=<MeanBackward0>)\n",
      "tensor([[4.5000, 4.5000],\n",
      "        [4.5000, 4.5000]])\n",
      "tensor([[4.5000, 4.5000],\n",
      "        [4.5000, 4.5000]])\n",
      "tensor([[0.2500, 0.2500],\n",
      "        [0.2500, 0.2500]])\n",
      "False\n"
     ]
    },
    {
     "ename": "RuntimeError",
     "evalue": "Trying to backward through the graph a second time (or directly access saved tensors after they have already been freed). Saved intermediate values of the graph are freed when you call .backward() or autograd.grad(). Specify retain_graph=True if you need to backward through the graph a second time or if you need to access saved tensors after calling backward.",
     "output_type": "error",
     "traceback": [
      "\u001b[1;31m---------------------------------------------------------------------------\u001b[0m",
      "\u001b[1;31mRuntimeError\u001b[0m                              Traceback (most recent call last)",
      "Input \u001b[1;32mIn [11]\u001b[0m, in \u001b[0;36m<cell line: 15>\u001b[1;34m()\u001b[0m\n\u001b[0;32m     12\u001b[0m \u001b[38;5;28mprint\u001b[39m(z\u001b[38;5;241m.\u001b[39mgrad)\n\u001b[0;32m     13\u001b[0m \u001b[38;5;28mprint\u001b[39m(z\u001b[38;5;241m.\u001b[39mis_leaf) \u001b[38;5;66;03m# 찾아보기\u001b[39;00m\n\u001b[1;32m---> 15\u001b[0m \u001b[43mout\u001b[49m\u001b[38;5;241;43m.\u001b[39;49m\u001b[43mbackward\u001b[49m\u001b[43m(\u001b[49m\u001b[43m)\u001b[49m\n\u001b[0;32m     16\u001b[0m \u001b[38;5;28mprint\u001b[39m(x\u001b[38;5;241m.\u001b[39mgrad)\n\u001b[0;32m     17\u001b[0m \u001b[38;5;28mprint\u001b[39m(y\u001b[38;5;241m.\u001b[39mgrad)\n",
      "File \u001b[1;32m~\\anaconda3\\lib\\site-packages\\torch\\_tensor.py:396\u001b[0m, in \u001b[0;36mTensor.backward\u001b[1;34m(self, gradient, retain_graph, create_graph, inputs)\u001b[0m\n\u001b[0;32m    387\u001b[0m \u001b[38;5;28;01mif\u001b[39;00m has_torch_function_unary(\u001b[38;5;28mself\u001b[39m):\n\u001b[0;32m    388\u001b[0m     \u001b[38;5;28;01mreturn\u001b[39;00m handle_torch_function(\n\u001b[0;32m    389\u001b[0m         Tensor\u001b[38;5;241m.\u001b[39mbackward,\n\u001b[0;32m    390\u001b[0m         (\u001b[38;5;28mself\u001b[39m,),\n\u001b[1;32m   (...)\u001b[0m\n\u001b[0;32m    394\u001b[0m         create_graph\u001b[38;5;241m=\u001b[39mcreate_graph,\n\u001b[0;32m    395\u001b[0m         inputs\u001b[38;5;241m=\u001b[39minputs)\n\u001b[1;32m--> 396\u001b[0m \u001b[43mtorch\u001b[49m\u001b[38;5;241;43m.\u001b[39;49m\u001b[43mautograd\u001b[49m\u001b[38;5;241;43m.\u001b[39;49m\u001b[43mbackward\u001b[49m\u001b[43m(\u001b[49m\u001b[38;5;28;43mself\u001b[39;49m\u001b[43m,\u001b[49m\u001b[43m \u001b[49m\u001b[43mgradient\u001b[49m\u001b[43m,\u001b[49m\u001b[43m \u001b[49m\u001b[43mretain_graph\u001b[49m\u001b[43m,\u001b[49m\u001b[43m \u001b[49m\u001b[43mcreate_graph\u001b[49m\u001b[43m,\u001b[49m\u001b[43m \u001b[49m\u001b[43minputs\u001b[49m\u001b[38;5;241;43m=\u001b[39;49m\u001b[43minputs\u001b[49m\u001b[43m)\u001b[49m\n",
      "File \u001b[1;32m~\\anaconda3\\lib\\site-packages\\torch\\autograd\\__init__.py:173\u001b[0m, in \u001b[0;36mbackward\u001b[1;34m(tensors, grad_tensors, retain_graph, create_graph, grad_variables, inputs)\u001b[0m\n\u001b[0;32m    168\u001b[0m     retain_graph \u001b[38;5;241m=\u001b[39m create_graph\n\u001b[0;32m    170\u001b[0m \u001b[38;5;66;03m# The reason we repeat same the comment below is that\u001b[39;00m\n\u001b[0;32m    171\u001b[0m \u001b[38;5;66;03m# some Python versions print out the first line of a multi-line function\u001b[39;00m\n\u001b[0;32m    172\u001b[0m \u001b[38;5;66;03m# calls in the traceback and some print out the last line\u001b[39;00m\n\u001b[1;32m--> 173\u001b[0m \u001b[43mVariable\u001b[49m\u001b[38;5;241;43m.\u001b[39;49m\u001b[43m_execution_engine\u001b[49m\u001b[38;5;241;43m.\u001b[39;49m\u001b[43mrun_backward\u001b[49m\u001b[43m(\u001b[49m\u001b[43m  \u001b[49m\u001b[38;5;66;43;03m# Calls into the C++ engine to run the backward pass\u001b[39;49;00m\n\u001b[0;32m    174\u001b[0m \u001b[43m    \u001b[49m\u001b[43mtensors\u001b[49m\u001b[43m,\u001b[49m\u001b[43m \u001b[49m\u001b[43mgrad_tensors_\u001b[49m\u001b[43m,\u001b[49m\u001b[43m \u001b[49m\u001b[43mretain_graph\u001b[49m\u001b[43m,\u001b[49m\u001b[43m \u001b[49m\u001b[43mcreate_graph\u001b[49m\u001b[43m,\u001b[49m\u001b[43m \u001b[49m\u001b[43minputs\u001b[49m\u001b[43m,\u001b[49m\n\u001b[0;32m    175\u001b[0m \u001b[43m    \u001b[49m\u001b[43mallow_unreachable\u001b[49m\u001b[38;5;241;43m=\u001b[39;49m\u001b[38;5;28;43;01mTrue\u001b[39;49;00m\u001b[43m,\u001b[49m\u001b[43m \u001b[49m\u001b[43maccumulate_grad\u001b[49m\u001b[38;5;241;43m=\u001b[39;49m\u001b[38;5;28;43;01mTrue\u001b[39;49;00m\u001b[43m)\u001b[49m\n",
      "\u001b[1;31mRuntimeError\u001b[0m: Trying to backward through the graph a second time (or directly access saved tensors after they have already been freed). Saved intermediate values of the graph are freed when you call .backward() or autograd.grad(). Specify retain_graph=True if you need to backward through the graph a second time or if you need to access saved tensors after calling backward."
     ]
    }
   ],
   "source": [
    "print(out)\n",
    "\n",
    "# 이전에 만든 out을 사용해서 역전파 진행\n",
    "\n",
    "y.retain_grad()     # 중간 값에 대한 미분 값을 보고싶다면 해당 값에 대한 retain_grad()를 호출해야 함\n",
    "z.retain_grad()     # 중간 값에 대한 미분 값을 보고싶다면 해당 값에 대한 retain_grad()를 호출해야 함\n",
    "out.backward()      # 여러 번 미분을 진행하기 위해서는 retain_graph=True로 설정해줘야 함(그렇지 않으면 아래처럼 에러 발생)\n",
    "\n",
    "# out.backward(torch.tensor(1.))을 진행하는 것과 동일\n",
    "print(x.grad)\n",
    "print(y.grad)\n",
    "print(z.grad)\n",
    "print(z.is_leaf) # 찾아보기\n",
    "\n",
    "out.backward()\n",
    "print(x.grad)\n",
    "print(y.grad)"
   ]
  },
  {
   "cell_type": "code",
   "execution_count": 12,
   "id": "3ba70387",
   "metadata": {},
   "outputs": [
    {
     "name": "stdout",
     "output_type": "stream",
     "text": [
      "tensor(27., grad_fn=<MeanBackward0>)\n",
      "tensor([[4.5000, 4.5000],\n",
      "        [4.5000, 4.5000]])\n",
      "tensor([[4.5000, 4.5000],\n",
      "        [4.5000, 4.5000]])\n",
      "None\n",
      "False\n",
      "tensor([[9., 9.],\n",
      "        [9., 9.]])\n",
      "tensor([[9., 9.],\n",
      "        [9., 9.]])\n"
     ]
    },
    {
     "name": "stderr",
     "output_type": "stream",
     "text": [
      "C:\\Users\\user\\anaconda3\\lib\\site-packages\\torch\\_tensor.py:1083: UserWarning: The .grad attribute of a Tensor that is not a leaf Tensor is being accessed. Its .grad attribute won't be populated during autograd.backward(). If you indeed want the .grad field to be populated for a non-leaf Tensor, use .retain_grad() on the non-leaf Tensor. If you access the non-leaf Tensor by mistake, make sure you access the leaf Tensor instead. See github.com/pytorch/pytorch/pull/30531 for more informations. (Triggered internally at  C:\\cb\\pytorch_1000000000000\\work\\build\\aten\\src\\ATen/core/TensorBody.h:482.)\n",
      "  return self._grad\n"
     ]
    }
   ],
   "source": [
    "x = torch.ones(2, 2, requires_grad=True) # True로 설정하여 런타임 에러 방지\n",
    "y = x + 2\n",
    "z = y * y * 3\n",
    "out = z.mean()\n",
    "\n",
    "print(out)\n",
    "\n",
    "y.retain_grad()\n",
    "out.backward(retain_graph=True) # True로 설정하여 런타임 에러 방지\n",
    "\n",
    "print(x.grad)\n",
    "print(y.grad)\n",
    "print(z.grad)       # z.retain_grad()를 호출하지 않으면 grad값을 저장하지 않기 때문에 grad 속성을 볼 수 없음\n",
    "print(z.is_leaf)\n",
    "\n",
    "out.backward()\n",
    "print(x.grad)\n",
    "print(y.grad)"
   ]
  },
  {
   "attachments": {
    "image.png": {
     "image/png": "[encoded data removed]"
    }
   },
   "cell_type": "markdown",
   "id": "5ca27dd9",
   "metadata": {},
   "source": [
    "![image.png](attachment:image.png)\n"
   ]
  },
  {
   "cell_type": "markdown",
   "id": "3bffeaf4",
   "metadata": {},
   "source": [
    "- z_i를 미분한 값에 적용하면 4.5를 동일하게 출력할 수 있음\n",
    "out(미분결과) = 1/4 6 (x + 2) = 3/2(x+2)\n",
    "---"
   ]
  },
  {
   "cell_type": "markdown",
   "id": "bf7ec9bb",
   "metadata": {},
   "source": [
    "- 일반적으로 torch.autograd는 벡터-야코비안 곱을 계산하는 엔진\n",
    "- torch.autograd를 사용하면 전체 야코비안을 직접 계산할 수는 없지만, 벡터-야코비안 곱은 backward에 해당 벡터를 인자로 제공하여 얻을 수 있음"
   ]
  },
  {
   "cell_type": "code",
   "execution_count": 13,
   "id": "2087ac68",
   "metadata": {},
   "outputs": [
    {
     "name": "stdout",
     "output_type": "stream",
     "text": [
      "tensor([ 504.3647, -555.9961,  728.6607], grad_fn=<MulBackward0>)\n"
     ]
    }
   ],
   "source": [
    "x = torch.randn(3, requires_grad=True)\n",
    "\n",
    "y = x * 2\n",
    "\n",
    "while y.data.norm() < 1000:\n",
    "  y = y * 2\n",
    "\n",
    "print(y)"
   ]
  },
  {
   "cell_type": "code",
   "execution_count": 14,
   "id": "77ad5035",
   "metadata": {},
   "outputs": [
    {
     "name": "stdout",
     "output_type": "stream",
     "text": [
      "tensor([1.0240e+02, 1.0240e+03, 1.0240e-01])\n"
     ]
    }
   ],
   "source": [
    "# scalar값이 아닌 y의 벡터-야코비안 곱을 구하는 과정\n",
    "v = torch.tensor([0.1, 1.0, 0.0001], dtype=torch.float)\n",
    "y.backward(v) # backward 진행\n",
    "\n",
    "print(x.grad) # 미분 후 값이 나옴"
   ]
  },
  {
   "cell_type": "markdown",
   "id": "217605d8",
   "metadata": {},
   "source": [
    "- with torch.no_grad()로 코드 블록을 감싸서 autograd가 .requires_grad=True인 Tensor의 연산 기록을 추적하는 것을 멈출 수도 있음"
   ]
  },
  {
   "cell_type": "code",
   "execution_count": 15,
   "id": "bd06936e",
   "metadata": {},
   "outputs": [
    {
     "name": "stdout",
     "output_type": "stream",
     "text": [
      "True\n",
      "True\n",
      "False\n"
     ]
    }
   ],
   "source": [
    "print(x.requires_grad)\n",
    "print((x ** 2).requires_grad)\n",
    "\n",
    "with torch.no_grad():\n",
    "  print((x ** 2).requires_grad) # 연산 기록을 추적하는 것을 멈추기 위함이기 때문에, requires_grad 속성값이 모두 false"
   ]
  },
  {
   "cell_type": "markdown",
   "id": "e6845094",
   "metadata": {},
   "source": [
    "- 또는 .detach()를 호출하여 내용물은 같지만 requires_grad가 다른 새로운 텐서를 가져올 수 있음"
   ]
  },
  {
   "cell_type": "code",
   "execution_count": 16,
   "id": "35be1956",
   "metadata": {},
   "outputs": [
    {
     "name": "stdout",
     "output_type": "stream",
     "text": [
      "True\n",
      "False\n",
      "tensor(True)\n"
     ]
    }
   ],
   "source": [
    "print(x.requires_grad)\n",
    "y = x.detach() # requires_grad 속성값이 다름\n",
    "print(y.requires_grad)\n",
    "print(x.eq(y).all())"
   ]
  },
  {
   "cell_type": "markdown",
   "id": "679fad05",
   "metadata": {},
   "source": [
    "# ANN(Artificial Neural Networks)\n",
    "\n",
    "- 신경망은 torch.nn 패키지를 사용하여 생성할 수 있음\n",
    "- nn은 모델을 정의하고 미분하기 위해서 위에서 살펴본 autograd를 사용\n",
    "- nn.Module은 계층(layer)과 output을 반환하는 forward(input) 메소드를 포함\n",
    "\n",
    "---"
   ]
  },
  {
   "cell_type": "markdown",
   "id": "375ccc46",
   "metadata": {},
   "source": [
    "- 간단한 순전파 네트워크(feed-forward-network)\n",
    "- 입력을 받아 여러 계층에 차례로 전달한 후, 최종 출력을 제공\n",
    "- 신경망의 일반적인 학습 과정\n",
    ">- 학습 가능한 매개변수(가중치)를 갖는 신경망을 정의\n",
    ">- 데이터 셋 입력을 반복\n",
    ">- 입력을 신경망에서 전파(process)\n",
    ">- 손실(loss; 입력 값과 예측 값과의 차이)를 계산\n",
    ">- 변화도(gradient)를 신경망의 매개변수들에 역으로 전파 - 역전파 과정\n",
    ">- 신경망의 가중치를 갱신\n",
    ">>- 새로운 가중치(weight) = 가중치(weight) - 학습률(learning rate) * 변화도(gradient)"
   ]
  },
  {
   "cell_type": "code",
   "execution_count": 17,
   "id": "04106f51",
   "metadata": {},
   "outputs": [],
   "source": [
    "import pandas as pd\n",
    "\n",
    "from sklearn.datasets import load_iris\n",
    "\n",
    "import torch\n",
    "import torch.nn as nn\n",
    "from torch.utils.data import DataLoader, TensorDataset"
   ]
  },
  {
   "cell_type": "code",
   "execution_count": 18,
   "id": "4f4bbea7",
   "metadata": {},
   "outputs": [],
   "source": [
    "class Net(nn.Module):\n",
    "\n",
    "    def __init__(self):\n",
    "        super(Net, self).__init__()\n",
    "\n",
    "        self.layer0 = nn.Linear(4, 128) # 선형함수\n",
    "        self.layer1 = nn.Linear(128, 64)\n",
    "        self.layer2 = nn.Linear(64, 32)\n",
    "        self.layer3 = nn.Linear(32, 16)\n",
    "        self.layer4 = nn.Linear(16, 3)\n",
    "\n",
    "        self.bn0 = nn.BatchNorm1d(128) # 양극단으로 튀지 않도록 정규화\n",
    "        self.bn1 = nn.BatchNorm1d(64)\n",
    "        self.bn2 = nn.BatchNorm1d(32)\n",
    "\n",
    "        self.act = nn.ReLU() # 비선형함수\n",
    "\n",
    "    def forward(self, x):\n",
    "      x = self.act(self.bn0(self.layer0(x)))\n",
    "      x = self.act(self.bn1(self.layer1(x)))\n",
    "      x = self.act(self.bn2(self.layer2(x)))\n",
    "      x = self.act(self.layer3(x))\n",
    "      x = self.layer4(x)\n",
    "\n",
    "      return x"
   ]
  },
  {
   "cell_type": "markdown",
   "id": "fa934a1b",
   "metadata": {},
   "source": [
    "# 손실 함수(Loss Function)\n",
    "- 손실 함수는 (output, target)을 한 쌍으로 입력 받아, 출력이 정답으로부터 얼마나 떨어져있는지 추정하는 값을 계산\n",
    "\n",
    "\n",
    "- forward함수만 정의하고 나면 backward함수는 autograd를 사용하여 자동으로 정의됨\n",
    "- 모델의 학습 가능한 매개 변수는 net.parameters()에 의해 변환됨"
   ]
  },
  {
   "cell_type": "code",
   "execution_count": 19,
   "id": "1e478ac7",
   "metadata": {},
   "outputs": [
    {
     "name": "stdout",
     "output_type": "stream",
     "text": [
      "loss:  1.0722663402557373\n",
      "layer0.bias.grad before backward\n",
      "None\n",
      "True\n",
      "layer0.bias.grad after backward\n",
      "tensor([-0.1083,  0.0300,  0.0782])\n"
     ]
    },
    {
     "data": {
      "text/plain": [
       "'\\n이 부분에서 .retain_grad() 를 사용하지 않아도 되는 이유는 weight와 bias의 파라미터가 leaf 노드이기 때문이라고 합니다.\\n설명이 포함된 링크들을 아래에 첨부해두니 읽어보시면 좋을 것 같습니다 :)\\n\\n어떤 경우가 leaf 노드 인지 - https://discuss.pytorch.org/t/leaf-variable-was-used-in-an-inplace-operation/308/20\\n왜 leaf 노드인 경우에는 retain_grad()를 하지 않아도 grad 값이 나오는지 - https://discuss.pytorch.org/t/what-is-the-purpose-of-is-leaf/87000/7\\n'"
      ]
     },
     "execution_count": 19,
     "metadata": {},
     "output_type": "execute_result"
    }
   ],
   "source": [
    "# 랜덤 값 생성\n",
    "criterion = nn.CrossEntropyLoss() # 다중분류모델을 사용\n",
    "\n",
    "ex_X, ex_y = torch.randn([4, 4]), torch.tensor([1, 0, 2, 0])\n",
    "\n",
    "net = Net()\n",
    "output = net(ex_X)\n",
    "loss = criterion(output, ex_y)\n",
    "print('loss: ', loss.item()) # 오차값\n",
    "  \n",
    "net.zero_grad()\n",
    "\n",
    "print('layer0.bias.grad before backward') \n",
    "print(net.layer4.bias.grad) #그래디언트가 초기화된 상태여서 None\n",
    "print(net.layer4.bias.is_leaf) # 링크 참고\n",
    "\n",
    "loss.backward()\n",
    "\n",
    "print('layer0.bias.grad after backward')\n",
    "print(net.layer4.bias.grad) # 그래디언트가 생성된 것을 확인 가능\n",
    "\n",
    "\"\"\"\n",
    "이 부분에서 .retain_grad() 를 사용하지 않아도 되는 이유는 weight와 bias의 파라미터가 leaf 노드이기 때문이라고 합니다.\n",
    "설명이 포함된 링크들을 아래에 첨부해두니 읽어보시면 좋을 것 같습니다 :)\n",
    "\n",
    "어떤 경우가 leaf 노드 인지 - https://discuss.pytorch.org/t/leaf-variable-was-used-in-an-inplace-operation/308/20\n",
    "왜 leaf 노드인 경우에는 retain_grad()를 하지 않아도 grad 값이 나오는지 - https://discuss.pytorch.org/t/what-is-the-purpose-of-is-leaf/87000/7\n",
    "\"\"\""
   ]
  },
  {
   "cell_type": "code",
   "execution_count": 20,
   "id": "e5e09c6d",
   "metadata": {},
   "outputs": [
    {
     "name": "stdout",
     "output_type": "stream",
     "text": [
      "16\n",
      "torch.Size([128, 4])\n"
     ]
    }
   ],
   "source": [
    "params = list(net.parameters())\n",
    "print(len(params))\n",
    "print(params[0].size())  # layer0의 가중치값"
   ]
  },
  {
   "cell_type": "markdown",
   "id": "93c26444",
   "metadata": {},
   "source": [
    "# 가중치 갱신\n",
    "- 가장 단순한 갱신 규칙은 확률적 경사하강법(SGD; Stochastic Gradient Descent)\n",
    "- 새로운 가중치(weight) = 가중치(weight) - 학습률(learning rate) * 변화도(gradient)"
   ]
  },
  {
   "cell_type": "code",
   "execution_count": 21,
   "id": "51ad8edb",
   "metadata": {},
   "outputs": [],
   "source": [
    "# torch.optim 패키지에 다양한 갱신 규칙이 규현되어 있음\n",
    "\n",
    "import torch.optim as optim\n",
    "\n",
    "optimizer = optim.SGD(net.parameters(), lr=0.001)\n",
    "\n",
    "optimizer.zero_grad()\n",
    "output = net(ex_X)\n",
    "loss = criterion(output, ex_y)\n",
    "loss.backward()\n",
    "optimizer.step()  # 업데이트 진행"
   ]
  },
  {
   "cell_type": "markdown",
   "id": "e2d20f3e",
   "metadata": {},
   "source": [
    "# MLP 모델"
   ]
  },
  {
   "cell_type": "code",
   "execution_count": 22,
   "id": "b0fab193",
   "metadata": {},
   "outputs": [
    {
     "name": "stdout",
     "output_type": "stream",
     "text": [
      ".. _iris_dataset:\n",
      "\n",
      "Iris plants dataset\n",
      "--------------------\n",
      "\n",
      "**Data Set Characteristics:**\n",
      "\n",
      "    :Number of Instances: 150 (50 in each of three classes)\n",
      "    :Number of Attributes: 4 numeric, predictive attributes and the class\n",
      "    :Attribute Information:\n",
      "        - sepal length in cm\n",
      "        - sepal width in cm\n",
      "        - petal length in cm\n",
      "        - petal width in cm\n",
      "        - class:\n",
      "                - Iris-Setosa\n",
      "                - Iris-Versicolour\n",
      "                - Iris-Virginica\n",
      "                \n",
      "    :Summary Statistics:\n",
      "\n",
      "    ============== ==== ==== ======= ===== ====================\n",
      "                    Min  Max   Mean    SD   Class Correlation\n",
      "    ============== ==== ==== ======= ===== ====================\n",
      "    sepal length:   4.3  7.9   5.84   0.83    0.7826\n",
      "    sepal width:    2.0  4.4   3.05   0.43   -0.4194\n",
      "    petal length:   1.0  6.9   3.76   1.76    0.9490  (high!)\n",
      "    petal width:    0.1  2.5   1.20   0.76    0.9565  (high!)\n",
      "    ============== ==== ==== ======= ===== ====================\n",
      "\n",
      "    :Missing Attribute Values: None\n",
      "    :Class Distribution: 33.3% for each of 3 classes.\n",
      "    :Creator: R.A. Fisher\n",
      "    :Donor: Michael Marshall (MARSHALL%PLU@io.arc.nasa.gov)\n",
      "    :Date: July, 1988\n",
      "\n",
      "The famous Iris database, first used by Sir R.A. Fisher. The dataset is taken\n",
      "from Fisher's paper. Note that it's the same as in R, but not as in the UCI\n",
      "Machine Learning Repository, which has two wrong data points.\n",
      "\n",
      "This is perhaps the best known database to be found in the\n",
      "pattern recognition literature.  Fisher's paper is a classic in the field and\n",
      "is referenced frequently to this day.  (See Duda & Hart, for example.)  The\n",
      "data set contains 3 classes of 50 instances each, where each class refers to a\n",
      "type of iris plant.  One class is linearly separable from the other 2; the\n",
      "latter are NOT linearly separable from each other.\n",
      "\n",
      ".. topic:: References\n",
      "\n",
      "   - Fisher, R.A. \"The use of multiple measurements in taxonomic problems\"\n",
      "     Annual Eugenics, 7, Part II, 179-188 (1936); also in \"Contributions to\n",
      "     Mathematical Statistics\" (John Wiley, NY, 1950).\n",
      "   - Duda, R.O., & Hart, P.E. (1973) Pattern Classification and Scene Analysis.\n",
      "     (Q327.D83) John Wiley & Sons.  ISBN 0-471-22361-1.  See page 218.\n",
      "   - Dasarathy, B.V. (1980) \"Nosing Around the Neighborhood: A New System\n",
      "     Structure and Classification Rule for Recognition in Partially Exposed\n",
      "     Environments\".  IEEE Transactions on Pattern Analysis and Machine\n",
      "     Intelligence, Vol. PAMI-2, No. 1, 67-71.\n",
      "   - Gates, G.W. (1972) \"The Reduced Nearest Neighbor Rule\".  IEEE Transactions\n",
      "     on Information Theory, May 1972, 431-433.\n",
      "   - See also: 1988 MLC Proceedings, 54-64.  Cheeseman et al\"s AUTOCLASS II\n",
      "     conceptual clustering system finds 3 classes in the data.\n",
      "   - Many, many more ...\n"
     ]
    }
   ],
   "source": [
    "dataset = load_iris() # load iris 사용. 꽃 데이터, 150개의 샘플, 4개의 속성\n",
    "\n",
    "data = dataset.data\n",
    "label = dataset.target\n",
    "\n",
    "print(dataset.DESCR)"
   ]
  },
  {
   "cell_type": "code",
   "execution_count": 23,
   "id": "0da8eb2a",
   "metadata": {},
   "outputs": [
    {
     "name": "stdout",
     "output_type": "stream",
     "text": [
      "shape of data:  (150, 4)\n",
      "shape of label:  (150,)\n"
     ]
    }
   ],
   "source": [
    "print('shape of data: ', data.shape) # 4개 속성\n",
    "print('shape of label: ',label.shape) # 1개 라벨"
   ]
  },
  {
   "cell_type": "code",
   "execution_count": 24,
   "id": "6bf7dfb8",
   "metadata": {},
   "outputs": [
    {
     "name": "stdout",
     "output_type": "stream",
     "text": [
      "112\n",
      "38\n"
     ]
    }
   ],
   "source": [
    "# 훈련과 테스트 데이터로 나누기\n",
    "from sklearn.model_selection import train_test_split\n",
    "\n",
    "X_train, X_test, y_train, y_test = train_test_split(data, label, test_size=0.25) # 25%가 테스트 데이터 / 75%가 train 데이터\n",
    "print(len(X_train))\n",
    "print(len(X_test))"
   ]
  },
  {
   "cell_type": "code",
   "execution_count": 25,
   "id": "c159df31",
   "metadata": {},
   "outputs": [],
   "source": [
    "# DataLoader 생성\n",
    "X_train = torch.from_numpy(X_train).float()\n",
    "y_train = torch.from_numpy(y_train).long()\n",
    "\n",
    "X_test = torch.from_numpy(X_test).float()\n",
    "y_test = torch.from_numpy(y_test).long()\n",
    "\n",
    "train_set = TensorDataset(X_train, y_train)\n",
    "\n",
    "train_loader = DataLoader(train_set, batch_size=4, shuffle=True) # batch_size: 한번에 몇 개의 데이터를 볼건지를 정해줌. "
   ]
  },
  {
   "cell_type": "code",
   "execution_count": 26,
   "id": "3e896e20",
   "metadata": {},
   "outputs": [],
   "source": [
    "class Net(nn.Module):\n",
    "\n",
    "    def __init__(self):\n",
    "        super(Net, self).__init__()\n",
    "\n",
    "        self.layer0 = nn.Linear(4, 128)\n",
    "        self.layer1 = nn.Linear(128, 64)\n",
    "        self.layer2 = nn.Linear(64, 32)\n",
    "        self.layer3 = nn.Linear(32, 16)\n",
    "        self.layer4 = nn.Linear(16, 3)\n",
    "\n",
    "        self.bn0 = nn.BatchNorm1d(128)\n",
    "        self.bn1 = nn.BatchNorm1d(64)\n",
    "        self.bn2 = nn.BatchNorm1d(32)\n",
    "\n",
    "        self.act = nn.ReLU()\n",
    "\n",
    "    def forward(self, x):\n",
    "      x = self.act(self.bn0(self.layer0(x)))\n",
    "      x = self.act(self.bn1(self.layer1(x)))\n",
    "      x = self.act(self.bn2(self.layer2(x)))\n",
    "      x = self.act(self.layer3(x))\n",
    "      x = self.layer4(x)\n",
    "\n",
    "      return x\n",
    "      # return nn.Softmax(x)"
   ]
  },
  {
   "cell_type": "code",
   "execution_count": 27,
   "id": "44961c3d",
   "metadata": {},
   "outputs": [
    {
     "name": "stdout",
     "output_type": "stream",
     "text": [
      "Net(\n",
      "  (layer0): Linear(in_features=4, out_features=128, bias=True)\n",
      "  (layer1): Linear(in_features=128, out_features=64, bias=True)\n",
      "  (layer2): Linear(in_features=64, out_features=32, bias=True)\n",
      "  (layer3): Linear(in_features=32, out_features=16, bias=True)\n",
      "  (layer4): Linear(in_features=16, out_features=3, bias=True)\n",
      "  (bn0): BatchNorm1d(128, eps=1e-05, momentum=0.1, affine=True, track_running_stats=True)\n",
      "  (bn1): BatchNorm1d(64, eps=1e-05, momentum=0.1, affine=True, track_running_stats=True)\n",
      "  (bn2): BatchNorm1d(32, eps=1e-05, momentum=0.1, affine=True, track_running_stats=True)\n",
      "  (act): ReLU()\n",
      ")\n"
     ]
    }
   ],
   "source": [
    "net = Net()\n",
    "print(net) # 요소 확인 가능"
   ]
  },
  {
   "cell_type": "code",
   "execution_count": 28,
   "id": "d56b820e",
   "metadata": {},
   "outputs": [],
   "source": [
    "optimizer = torch.optim.SGD(net.parameters(), lr=0.001) #SGD 사용\n",
    "criterion = nn.CrossEntropyLoss()\n",
    "epochs = 200 # 200번 반복"
   ]
  },
  {
   "cell_type": "code",
   "execution_count": 29,
   "id": "a30066e3",
   "metadata": {},
   "outputs": [
    {
     "name": "stdout",
     "output_type": "stream",
     "text": [
      "epoch :001, \tloss :1.1035, \taccuracy :0.3661\n",
      "epoch :002, \tloss :1.102, \taccuracy :0.375\n",
      "epoch :003, \tloss :1.0817, \taccuracy :0.4911\n",
      "epoch :004, \tloss :1.0585, \taccuracy :0.5446\n",
      "epoch :005, \tloss :1.043, \taccuracy :0.6161\n",
      "epoch :006, \tloss :1.0519, \taccuracy :0.6071\n",
      "epoch :007, \tloss :1.0402, \taccuracy :0.625\n",
      "epoch :008, \tloss :1.0173, \taccuracy :0.6429\n",
      "epoch :009, \tloss :1.023, \taccuracy :0.6607\n",
      "epoch :010, \tloss :1.0023, \taccuracy :0.6429\n",
      "epoch :011, \tloss :1.0134, \taccuracy :0.6339\n",
      "epoch :012, \tloss :0.9782, \taccuracy :0.6518\n",
      "epoch :013, \tloss :0.9744, \taccuracy :0.6518\n",
      "epoch :014, \tloss :0.9579, \taccuracy :0.6518\n",
      "epoch :015, \tloss :0.9503, \taccuracy :0.6696\n",
      "epoch :016, \tloss :0.9784, \taccuracy :0.6339\n",
      "epoch :017, \tloss :0.9659, \taccuracy :0.6607\n",
      "epoch :018, \tloss :0.9792, \taccuracy :0.6339\n",
      "epoch :019, \tloss :0.9686, \taccuracy :0.6161\n",
      "epoch :020, \tloss :0.9603, \taccuracy :0.6607\n",
      "epoch :021, \tloss :0.9339, \taccuracy :0.6429\n",
      "epoch :022, \tloss :0.9383, \taccuracy :0.6607\n",
      "epoch :023, \tloss :0.8844, \taccuracy :0.6786\n",
      "epoch :024, \tloss :0.8865, \taccuracy :0.6786\n",
      "epoch :025, \tloss :0.9303, \taccuracy :0.6518\n",
      "epoch :026, \tloss :0.906, \taccuracy :0.6339\n",
      "epoch :027, \tloss :0.8952, \taccuracy :0.6696\n",
      "epoch :028, \tloss :0.8576, \taccuracy :0.6786\n",
      "epoch :029, \tloss :0.9136, \taccuracy :0.6518\n",
      "epoch :030, \tloss :0.8975, \taccuracy :0.6071\n",
      "epoch :031, \tloss :0.8846, \taccuracy :0.6786\n",
      "epoch :032, \tloss :0.8743, \taccuracy :0.6696\n",
      "epoch :033, \tloss :0.814, \taccuracy :0.7321\n",
      "epoch :034, \tloss :0.8764, \taccuracy :0.7143\n",
      "epoch :035, \tloss :0.8359, \taccuracy :0.7411\n",
      "epoch :036, \tloss :0.8612, \taccuracy :0.6875\n",
      "epoch :037, \tloss :0.8373, \taccuracy :0.7232\n",
      "epoch :038, \tloss :0.8665, \taccuracy :0.6875\n",
      "epoch :039, \tloss :0.8443, \taccuracy :0.7143\n",
      "epoch :040, \tloss :0.8308, \taccuracy :0.7411\n",
      "epoch :041, \tloss :0.7752, \taccuracy :0.7857\n",
      "epoch :042, \tloss :0.801, \taccuracy :0.7321\n",
      "epoch :043, \tloss :0.8375, \taccuracy :0.7143\n",
      "epoch :044, \tloss :0.78, \taccuracy :0.7768\n",
      "epoch :045, \tloss :0.8347, \taccuracy :0.75\n",
      "epoch :046, \tloss :0.8262, \taccuracy :0.7321\n",
      "epoch :047, \tloss :0.741, \taccuracy :0.8036\n",
      "epoch :048, \tloss :0.8127, \taccuracy :0.7143\n",
      "epoch :049, \tloss :0.8033, \taccuracy :0.7411\n",
      "epoch :050, \tloss :0.8139, \taccuracy :0.6964\n",
      "epoch :051, \tloss :0.7642, \taccuracy :0.75\n",
      "epoch :052, \tloss :0.769, \taccuracy :0.7411\n",
      "epoch :053, \tloss :0.8126, \taccuracy :0.7589\n",
      "epoch :054, \tloss :0.7673, \taccuracy :0.7768\n",
      "epoch :055, \tloss :0.7718, \taccuracy :0.7857\n",
      "epoch :056, \tloss :0.7855, \taccuracy :0.7321\n",
      "epoch :057, \tloss :0.7248, \taccuracy :0.7679\n",
      "epoch :058, \tloss :0.7473, \taccuracy :0.7679\n",
      "epoch :059, \tloss :0.8062, \taccuracy :0.7768\n",
      "epoch :060, \tloss :0.8023, \taccuracy :0.7054\n",
      "epoch :061, \tloss :0.7482, \taccuracy :0.7857\n",
      "epoch :062, \tloss :0.7663, \taccuracy :0.7589\n",
      "epoch :063, \tloss :0.7208, \taccuracy :0.7679\n",
      "epoch :064, \tloss :0.7459, \taccuracy :0.7321\n",
      "epoch :065, \tloss :0.7, \taccuracy :0.8036\n",
      "epoch :066, \tloss :0.6771, \taccuracy :0.8214\n",
      "epoch :067, \tloss :0.701, \taccuracy :0.7946\n",
      "epoch :068, \tloss :0.7137, \taccuracy :0.75\n",
      "epoch :069, \tloss :0.6318, \taccuracy :0.8661\n",
      "epoch :070, \tloss :0.7359, \taccuracy :0.6964\n",
      "epoch :071, \tloss :0.6974, \taccuracy :0.7768\n",
      "epoch :072, \tloss :0.7019, \taccuracy :0.75\n",
      "epoch :073, \tloss :0.6903, \taccuracy :0.7679\n",
      "epoch :074, \tloss :0.6723, \taccuracy :0.7857\n",
      "epoch :075, \tloss :0.6553, \taccuracy :0.8036\n",
      "epoch :076, \tloss :0.6969, \taccuracy :0.7768\n",
      "epoch :077, \tloss :0.715, \taccuracy :0.7321\n",
      "epoch :078, \tloss :0.6012, \taccuracy :0.8393\n",
      "epoch :079, \tloss :0.6832, \taccuracy :0.7411\n",
      "epoch :080, \tloss :0.657, \taccuracy :0.7768\n",
      "epoch :081, \tloss :0.6238, \taccuracy :0.8482\n",
      "epoch :082, \tloss :0.6403, \taccuracy :0.7857\n",
      "epoch :083, \tloss :0.7138, \taccuracy :0.7411\n",
      "epoch :084, \tloss :0.6205, \taccuracy :0.8036\n",
      "epoch :085, \tloss :0.6377, \taccuracy :0.8036\n",
      "epoch :086, \tloss :0.6248, \taccuracy :0.8125\n",
      "epoch :087, \tloss :0.6732, \taccuracy :0.7589\n",
      "epoch :088, \tloss :0.588, \taccuracy :0.8304\n",
      "epoch :089, \tloss :0.6537, \taccuracy :0.7946\n",
      "epoch :090, \tloss :0.6632, \taccuracy :0.7143\n",
      "epoch :091, \tloss :0.6317, \taccuracy :0.7679\n",
      "epoch :092, \tloss :0.617, \taccuracy :0.7679\n",
      "epoch :093, \tloss :0.6042, \taccuracy :0.8125\n",
      "epoch :094, \tloss :0.5716, \taccuracy :0.8304\n",
      "epoch :095, \tloss :0.5971, \taccuracy :0.8304\n",
      "epoch :096, \tloss :0.6538, \taccuracy :0.7679\n",
      "epoch :097, \tloss :0.5706, \taccuracy :0.8214\n",
      "epoch :098, \tloss :0.6789, \taccuracy :0.75\n",
      "epoch :099, \tloss :0.6275, \taccuracy :0.75\n",
      "epoch :100, \tloss :0.6465, \taccuracy :0.7857\n",
      "epoch :101, \tloss :0.6375, \taccuracy :0.7679\n",
      "epoch :102, \tloss :0.6201, \taccuracy :0.7411\n",
      "epoch :103, \tloss :0.5812, \taccuracy :0.8304\n",
      "epoch :104, \tloss :0.6476, \taccuracy :0.7679\n",
      "epoch :105, \tloss :0.6298, \taccuracy :0.7679\n",
      "epoch :106, \tloss :0.5838, \taccuracy :0.8125\n",
      "epoch :107, \tloss :0.6035, \taccuracy :0.7768\n",
      "epoch :108, \tloss :0.618, \taccuracy :0.7589\n",
      "epoch :109, \tloss :0.548, \taccuracy :0.8393\n",
      "epoch :110, \tloss :0.5356, \taccuracy :0.8482\n",
      "epoch :111, \tloss :0.6787, \taccuracy :0.75\n",
      "epoch :112, \tloss :0.5329, \taccuracy :0.8482\n",
      "epoch :113, \tloss :0.5285, \taccuracy :0.8304\n",
      "epoch :114, \tloss :0.6145, \taccuracy :0.7768\n",
      "epoch :115, \tloss :0.6377, \taccuracy :0.7232\n",
      "epoch :116, \tloss :0.5486, \taccuracy :0.7946\n",
      "epoch :117, \tloss :0.5648, \taccuracy :0.8036\n",
      "epoch :118, \tloss :0.6105, \taccuracy :0.7857\n",
      "epoch :119, \tloss :0.6325, \taccuracy :0.6964\n",
      "epoch :120, \tloss :0.4795, \taccuracy :0.8571\n",
      "epoch :121, \tloss :0.5976, \taccuracy :0.8036\n",
      "epoch :122, \tloss :0.4805, \taccuracy :0.8661\n",
      "epoch :123, \tloss :0.5805, \taccuracy :0.7768\n",
      "epoch :124, \tloss :0.5487, \taccuracy :0.8214\n",
      "epoch :125, \tloss :0.5644, \taccuracy :0.8036\n",
      "epoch :126, \tloss :0.4508, \taccuracy :0.8839\n",
      "epoch :127, \tloss :0.5456, \taccuracy :0.7946\n",
      "epoch :128, \tloss :0.533, \taccuracy :0.8393\n",
      "epoch :129, \tloss :0.4794, \taccuracy :0.8482\n",
      "epoch :130, \tloss :0.5055, \taccuracy :0.7768\n",
      "epoch :131, \tloss :0.5093, \taccuracy :0.8125\n",
      "epoch :132, \tloss :0.5253, \taccuracy :0.8482\n",
      "epoch :133, \tloss :0.5064, \taccuracy :0.8036\n",
      "epoch :134, \tloss :0.5598, \taccuracy :0.7679\n",
      "epoch :135, \tloss :0.5345, \taccuracy :0.8036\n",
      "epoch :136, \tloss :0.4875, \taccuracy :0.8393\n",
      "epoch :137, \tloss :0.5191, \taccuracy :0.8036\n",
      "epoch :138, \tloss :0.5189, \taccuracy :0.8214\n",
      "epoch :139, \tloss :0.512, \taccuracy :0.7946\n",
      "epoch :140, \tloss :0.4373, \taccuracy :0.8661\n",
      "epoch :141, \tloss :0.4767, \taccuracy :0.8125\n",
      "epoch :142, \tloss :0.4936, \taccuracy :0.8304\n",
      "epoch :143, \tloss :0.5576, \taccuracy :0.7589\n",
      "epoch :144, \tloss :0.5376, \taccuracy :0.7946\n",
      "epoch :145, \tloss :0.5069, \taccuracy :0.8393\n",
      "epoch :146, \tloss :0.5282, \taccuracy :0.7768\n",
      "epoch :147, \tloss :0.5474, \taccuracy :0.7768\n",
      "epoch :148, \tloss :0.5653, \taccuracy :0.7411\n",
      "epoch :149, \tloss :0.3978, \taccuracy :0.8661\n",
      "epoch :150, \tloss :0.4467, \taccuracy :0.8929\n",
      "epoch :151, \tloss :0.5182, \taccuracy :0.8036\n",
      "epoch :152, \tloss :0.4827, \taccuracy :0.8214\n",
      "epoch :153, \tloss :0.467, \taccuracy :0.8214\n",
      "epoch :154, \tloss :0.5546, \taccuracy :0.7946\n",
      "epoch :155, \tloss :0.4914, \taccuracy :0.8393\n",
      "epoch :156, \tloss :0.5035, \taccuracy :0.8304\n",
      "epoch :157, \tloss :0.4469, \taccuracy :0.8304\n",
      "epoch :158, \tloss :0.4481, \taccuracy :0.8214\n",
      "epoch :159, \tloss :0.5116, \taccuracy :0.8125\n",
      "epoch :160, \tloss :0.4455, \taccuracy :0.8571\n",
      "epoch :161, \tloss :0.5586, \taccuracy :0.75\n",
      "epoch :162, \tloss :0.4542, \taccuracy :0.8125\n",
      "epoch :163, \tloss :0.3688, \taccuracy :0.9018\n",
      "epoch :164, \tloss :0.4151, \taccuracy :0.8661\n",
      "epoch :165, \tloss :0.4808, \taccuracy :0.8393\n",
      "epoch :166, \tloss :0.4143, \taccuracy :0.8571\n",
      "epoch :167, \tloss :0.4906, \taccuracy :0.7768\n",
      "epoch :168, \tloss :0.5328, \taccuracy :0.7946\n",
      "epoch :169, \tloss :0.475, \taccuracy :0.8125\n",
      "epoch :170, \tloss :0.483, \taccuracy :0.8125\n",
      "epoch :171, \tloss :0.4884, \taccuracy :0.8036\n",
      "epoch :172, \tloss :0.4865, \taccuracy :0.8125\n",
      "epoch :173, \tloss :0.4975, \taccuracy :0.8125\n",
      "epoch :174, \tloss :0.4024, \taccuracy :0.8661\n",
      "epoch :175, \tloss :0.4359, \taccuracy :0.7946\n",
      "epoch :176, \tloss :0.5168, \taccuracy :0.7946\n",
      "epoch :177, \tloss :0.4138, \taccuracy :0.8393\n",
      "epoch :178, \tloss :0.4234, \taccuracy :0.8839\n",
      "epoch :179, \tloss :0.4574, \taccuracy :0.8393\n",
      "epoch :180, \tloss :0.347, \taccuracy :0.875\n",
      "epoch :181, \tloss :0.4239, \taccuracy :0.8482\n",
      "epoch :182, \tloss :0.5122, \taccuracy :0.7679\n",
      "epoch :183, \tloss :0.5049, \taccuracy :0.8036\n",
      "epoch :184, \tloss :0.4687, \taccuracy :0.8214\n",
      "epoch :185, \tloss :0.4143, \taccuracy :0.8304\n",
      "epoch :186, \tloss :0.4072, \taccuracy :0.8304\n",
      "epoch :187, \tloss :0.5577, \taccuracy :0.75\n"
     ]
    },
    {
     "name": "stdout",
     "output_type": "stream",
     "text": [
      "epoch :188, \tloss :0.4452, \taccuracy :0.8482\n",
      "epoch :189, \tloss :0.4625, \taccuracy :0.8125\n",
      "epoch :190, \tloss :0.4591, \taccuracy :0.8304\n",
      "epoch :191, \tloss :0.3838, \taccuracy :0.8482\n",
      "epoch :192, \tloss :0.4098, \taccuracy :0.8571\n",
      "epoch :193, \tloss :0.3393, \taccuracy :0.8839\n",
      "epoch :194, \tloss :0.413, \taccuracy :0.8304\n",
      "epoch :195, \tloss :0.4323, \taccuracy :0.8661\n",
      "epoch :196, \tloss :0.4555, \taccuracy :0.8304\n",
      "epoch :197, \tloss :0.357, \taccuracy :0.875\n",
      "epoch :198, \tloss :0.4367, \taccuracy :0.8482\n",
      "epoch :199, \tloss :0.3911, \taccuracy :0.8482\n",
      "epoch :200, \tloss :0.4372, \taccuracy :0.8214\n"
     ]
    }
   ],
   "source": [
    "losses = list()\n",
    "accuracies = list()\n",
    "\n",
    "for epoch in range(epochs):\n",
    "  epoch_loss = 0  \n",
    "  epoch_accuracy = 0\n",
    "  for X, y in train_loader:\n",
    "  \n",
    "    optimizer.zero_grad() # 초기에 그래디언트 0으로 초기화\n",
    "    \n",
    "    output = net(X) # 모델에 입력값 넣어 예측값 얻음\n",
    "\n",
    "    loss = criterion(output, y) # 예측값(output)과 정답값(y)을 사용해 오차를 구하기 \n",
    "    loss.backward() # backward 진행\n",
    "    \n",
    "    optimizer.step()\n",
    "    # output = [0.11, 0.5, 0.8]  --> 가장 큰 값(0.8)이 예측 클래스 값\n",
    "    _, predicted = torch.max(output, dim=1)\n",
    "    accuracy = (predicted == y).sum().item()\n",
    "    epoch_loss += loss.item()\n",
    "    epoch_accuracy += accuracy\n",
    "  \n",
    "\n",
    "  epoch_loss /= len(train_loader)\n",
    "  epoch_accuracy /= len(X_train)\n",
    "  print(\"epoch :{}, \\tloss :{}, \\taccuracy :{}\".format(str(epoch+1).zfill(3),round(epoch_loss,4), round(epoch_accuracy,4)))\n",
    "  \n",
    "  losses.append(epoch_loss)\n",
    "  accuracies.append(epoch_accuracy)"
   ]
  },
  {
   "cell_type": "code",
   "execution_count": 30,
   "id": "8a7e3368",
   "metadata": {},
   "outputs": [
    {
     "data": {
      "image/png": "[encoded data removed]",
      "text/plain": [
       "<Figure size 1440x360 with 2 Axes>"
      ]
     },
     "metadata": {
      "needs_background": "light"
     },
     "output_type": "display_data"
    }
   ],
   "source": [
    "# Plot result\n",
    "\n",
    "import matplotlib.pyplot as plt\n",
    "\n",
    "plt.figure(figsize=(20,5))\n",
    "plt.subplots_adjust(wspace=0.2)\n",
    "\n",
    "plt.subplot(1,2,1)\n",
    "plt.title(\"$loss$\",fontsize = 18)\n",
    "plt.plot(losses)\n",
    "plt.grid()\n",
    "plt.xlabel(\"$epochs$\", fontsize = 16)\n",
    "plt.xticks(fontsize = 14)\n",
    "plt.yticks(fontsize = 14)\n",
    "\n",
    "\n",
    "plt.subplot(1,2,2)\n",
    "plt.title(\"$accuracy$\", fontsize = 18)\n",
    "plt.plot(accuracies)\n",
    "plt.grid()\n",
    "plt.xlabel(\"$epochs$\", fontsize = 16)\n",
    "plt.xticks(fontsize = 14)\n",
    "plt.yticks(fontsize = 14)\n",
    "\n",
    "plt.show()"
   ]
  },
  {
   "cell_type": "code",
   "execution_count": 31,
   "id": "6df886b0",
   "metadata": {},
   "outputs": [
    {
     "name": "stdout",
     "output_type": "stream",
     "text": [
      "torch.return_types.max(\n",
      "values=tensor([1.8685, 1.4603, 2.3255, 2.4654, 1.5669, 2.0788, 3.0742, 1.3868, 1.4416,\n",
      "        1.6119, 2.5837, 0.6237, 1.2343, 2.4366, 1.4199, 2.5164, 1.2726, 1.7799,\n",
      "        1.2190, 0.5389, 1.1578, 1.0079, 2.5280, 1.5099, 2.3915, 0.6843, 2.2268,\n",
      "        2.2888, 2.2537, 0.6279, 1.4639, 1.8957, 2.8840, 2.9323, 2.1205, 1.7671,\n",
      "        3.0556, 1.2024], grad_fn=<MaxBackward0>),\n",
      "indices=tensor([2, 1, 2, 0, 2, 0, 2, 1, 1, 2, 0, 2, 2, 2, 1, 0, 1, 1, 1, 1, 2, 1, 2, 1,\n",
      "        0, 1, 0, 0, 2, 2, 1, 1, 0, 0, 2, 1, 2, 2]))\n",
      "test_set accuracy : 1.0\n"
     ]
    }
   ],
   "source": [
    "# Test\n",
    "\n",
    "output = net(X_test)\n",
    "print(torch.max(output, dim=1))\n",
    "_, predicted = torch.max(output, dim=1)\n",
    "accuracy = round((predicted == y_test).sum().item() / len(y_test),4)\n",
    "\n",
    "\n",
    "print(\"test_set accuracy :\", round(accuracy,4))"
   ]
  },
  {
   "cell_type": "markdown",
   "id": "8a697570",
   "metadata": {},
   "source": [
    "---"
   ]
  },
  {
   "cell_type": "markdown",
   "id": "f0b863d9",
   "metadata": {},
   "source": [
    "# 자동 미분과 그래디언트 테이프\n",
    "## 그레디언트 테이프\n",
    "- 텐서플로는 자동미분을 위한 tf.GradientTape API를 제공\n",
    "- tf.GradientTape는 컨텍스트 안에서 실행된 모든 연산을 테이프에 '기록'\n",
    "- 후진 방식 자동 미분(reverse mode differetiation)을 사용해서 테이프에 '기록된' 연산 그래디언트를 계산"
   ]
  },
  {
   "cell_type": "code",
   "execution_count": 32,
   "id": "d3e1c113",
   "metadata": {},
   "outputs": [
    {
     "name": "stdout",
     "output_type": "stream",
     "text": [
      "2.9.1\n"
     ]
    }
   ],
   "source": [
    "import tensorflow as tf\n",
    "\n",
    "print(tf.__version__)"
   ]
  },
  {
   "cell_type": "code",
   "execution_count": 33,
   "id": "883867ee",
   "metadata": {},
   "outputs": [
    {
     "name": "stdout",
     "output_type": "stream",
     "text": [
      "y:  tf.Tensor(4.0, shape=(), dtype=float32)\n",
      "z:  tf.Tensor(16.0, shape=(), dtype=float32)\n",
      "tf.Tensor(\n",
      "[[8. 8.]\n",
      " [8. 8.]], shape=(2, 2), dtype=float32)\n"
     ]
    }
   ],
   "source": [
    "x = tf.ones((2, 2))\n",
    "# 1, 1\n",
    "# 1, 1\n",
    "with tf.GradientTape() as t:\n",
    "  t.watch(x)\n",
    "  y = tf.reduce_sum(x) # 이렇게 아무것도 넣지 않으면 전체 행렬에 들어있는 요소들의 합을 계산\n",
    "  print('y: ', y)\n",
    "  z = tf.multiply(y, y)\n",
    "  print('z: ', z)\n",
    "\n",
    "# 입력 텐서 x에 대한 z의 도함수\n",
    "dz_dx = t.gradient(z, x)\n",
    "print(dz_dx)\n",
    "for i in [0, 1]:\n",
    "  for j in [0, 1]:\n",
    "    # AssertionError가 발생하지 않음\n",
    "    assert dz_dx[i][j].numpy() == 8.0"
   ]
  },
  {
   "cell_type": "code",
   "execution_count": 34,
   "id": "268c719a",
   "metadata": {},
   "outputs": [],
   "source": [
    "x = tf.ones((2, 2))\n",
    "\n",
    "with tf.GradientTape() as t:\n",
    "  t.watch(x)\n",
    "  y = tf.reduce_sum(x)\n",
    "  z = tf.multiply(y, y)\n",
    "\n",
    "# tf.GradientTape() 안에서 계산된 중간 값에 대한 그래디언트도 구할 수 있습니다.\n",
    "# 테이프 사용하여 중간값 y에 대한 도함수를 계산합니다. \n",
    "dz_dy = t.gradient(z, y)\n",
    "assert dz_dy.numpy() == 8.0"
   ]
  },
  {
   "cell_type": "markdown",
   "id": "a68f6526",
   "metadata": {},
   "source": [
    "- GradientTape.gradient() 메소드가 호출되면 GradientTape에 포함된 리소스가 해제됨\n",
    "- 동일한 연산에 대해 여러 그래디언트를 계산하려면 지속성있는(persistent=True) 그래디언트 테이프를 생성하면 됨\n",
    "- 이렇게 생성한 그래디언트 테이프틑 gradient() 메소드의 다중 호출을 허용"
   ]
  },
  {
   "cell_type": "code",
   "execution_count": 35,
   "id": "470b8a01",
   "metadata": {},
   "outputs": [
    {
     "name": "stdout",
     "output_type": "stream",
     "text": [
      "tf.Tensor(108.0, shape=(), dtype=float32)\n",
      "tf.Tensor(6.0, shape=(), dtype=float32)\n"
     ]
    }
   ],
   "source": [
    "x = tf.constant(3.0)\n",
    "with tf.GradientTape(persistent=True) as t:\n",
    "  t.watch(x)\n",
    "  y = x * x\n",
    "  z = y * y  # z = x ^ 4\n",
    "dz_dx = t.gradient(z, x)  # 108.0 (4*x^3 at x = 3)\n",
    "print(dz_dx)\n",
    "dy_dx = t.gradient(y, x)  # 6.0   (2 * x at x = 3)\n",
    "print(dy_dx)\n",
    "del t  # 반복해서 보기 때문에 테이프에 대한 참조를 삭제합니다."
   ]
  },
  {
   "cell_type": "markdown",
   "id": "6064c1e3",
   "metadata": {},
   "source": [
    "# 제어 흐름 기록\n",
    "- 연산이 실행되는 순서대로 테이프에 기록되기 때문에, 파이썬 제어흐름이 자연스럽게 처리됨"
   ]
  },
  {
   "cell_type": "code",
   "execution_count": 36,
   "id": "4597093d",
   "metadata": {},
   "outputs": [
    {
     "name": "stdout",
     "output_type": "stream",
     "text": [
      "12.0\n",
      "12.0\n",
      "4.0\n"
     ]
    }
   ],
   "source": [
    "def f(x, y):\n",
    "  output = 1.0\n",
    "  for i in range(y):\n",
    "    if i > 1 and i < 5:   # output(1) * 2 * 3 * 4\n",
    "      output = tf.multiply(output, x)\n",
    "  return output\n",
    "\n",
    "def grad(x, y):\n",
    "  with tf.GradientTape() as t:\n",
    "    t.watch(x)\n",
    "    out = f(x, y)\n",
    "  return t.gradient(out, x)\n",
    "\n",
    "x = tf.convert_to_tensor(2.0)\n",
    "\n",
    "print(grad(x, 6).numpy())\n",
    "assert grad(x, 6).numpy() == 12.0\n",
    "\n",
    "print(grad(x, 5).numpy())\n",
    "assert grad(x, 5).numpy() == 12.0\n",
    "\n",
    "print(grad(x, 4).numpy())\n",
    "assert grad(x, 4).numpy() == 4.0\n",
    "\n",
    "# assertion error 발생 안함"
   ]
  },
  {
   "cell_type": "markdown",
   "id": "73c95cdb",
   "metadata": {},
   "source": [
    "# 고계도(Higher-order) 그래디언트\n",
    "- GradientTape 컨텍스트 매니저 안에 있는 연산들은 자동미분을 위해 기록됨\n",
    "- 만약 이 컨텍스트 안에서 그래디언트를 계산하면 해당 그래디언트 연산 또한 기록됨"
   ]
  },
  {
   "cell_type": "code",
   "execution_count": 37,
   "id": "de282ba6",
   "metadata": {},
   "outputs": [],
   "source": [
    "x = tf.Variable(1.0) \n",
    "\n",
    "with tf.GradientTape() as t:\n",
    "  with tf.GradientTape() as t2:\n",
    "    y = x * x * x\n",
    "  # 't' 컨텍스트 매니저 안의 그래디언트를 계산합니다.\n",
    "  # 이것은 또한 그래디언트 연산 자체도 미분가능하다는 것을 의미합니다. \n",
    "  dy_dx = t2.gradient(y, x)      # dy_dx = 3 * x^2 at x = 1\n",
    "d2y_dx2 = t.gradient(dy_dx, x)   # d2y_dx2 = 6 * x at x = 1\n",
    "\n",
    "assert dy_dx.numpy() == 3.0\n",
    "assert d2y_dx2.numpy() == 6.0\n",
    "\n",
    "\n",
    "# GradientTape를 사용해서 미분이 이루어지는 연산과정을 추적할 수 있음 -> 텐서플로우와 토치의 다른점\n",
    "# 텐서플로우와 토치의 공통점: 넘파이와 다르게 자동미분이 이루어짐"
   ]
  },
  {
   "cell_type": "markdown",
   "id": "f2ee0a98",
   "metadata": {},
   "source": [
    "# ANN(Artificial Neural Network)\n",
    "\n",
    "## Sequential 모델을 사용하는 경우\n",
    "\n",
    "- Sequential 모델은 각 레이어에 정확히 하나의 입력 텐서와 하나의 출력 텐서가 있는 일반 레이어 스택에 적합"
   ]
  },
  {
   "cell_type": "code",
   "execution_count": 38,
   "id": "7502a4e7",
   "metadata": {},
   "outputs": [],
   "source": [
    "import tensorflow as tf\n",
    "from tensorflow import keras\n",
    "from tensorflow.keras import layers"
   ]
  },
  {
   "cell_type": "code",
   "execution_count": 39,
   "id": "65dbc28a",
   "metadata": {},
   "outputs": [
    {
     "name": "stdout",
     "output_type": "stream",
     "text": [
      "tf.Tensor(\n",
      "[[0. 0. 0. 0.]\n",
      " [0. 0. 0. 0.]\n",
      " [0. 0. 0. 0.]], shape=(3, 4), dtype=float32)\n"
     ]
    }
   ],
   "source": [
    "# Define Sequential model with 3 layers\n",
    "model = keras.Sequential(\n",
    "    [\n",
    "        layers.Dense(2, activation=\"relu\", name=\"layer1\"),  # Pytorch - nn.Linear \n",
    "        layers.Dense(3, activation=\"relu\", name=\"layer2\"),\n",
    "        layers.Dense(4, name=\"layer3\"),\n",
    "    ]\n",
    ")\n",
    "# Call model on a test input\n",
    "x = tf.ones((3, 3))\n",
    "# [1, 1, 1] --> [o, o] --> [o, o, o] --> [o, o, o, o]\n",
    "y = model(x)\n",
    "print(y)"
   ]
  },
  {
   "cell_type": "code",
   "execution_count": 40,
   "id": "666e97f4",
   "metadata": {},
   "outputs": [
    {
     "ename": "TypeError",
     "evalue": "__init__() missing 1 required positional argument: 'kernel_size'",
     "output_type": "error",
     "traceback": [
      "\u001b[1;31m---------------------------------------------------------------------------\u001b[0m",
      "\u001b[1;31mTypeError\u001b[0m                                 Traceback (most recent call last)",
      "Input \u001b[1;32mIn [40]\u001b[0m, in \u001b[0;36m<cell line: 6>\u001b[1;34m()\u001b[0m\n\u001b[0;32m      4\u001b[0m layer1 \u001b[38;5;241m=\u001b[39m layers\u001b[38;5;241m.\u001b[39mDense(\u001b[38;5;241m2\u001b[39m, activation\u001b[38;5;241m=\u001b[39m\u001b[38;5;124m\"\u001b[39m\u001b[38;5;124mrelu\u001b[39m\u001b[38;5;124m\"\u001b[39m, name\u001b[38;5;241m=\u001b[39m\u001b[38;5;124m\"\u001b[39m\u001b[38;5;124mlayer1\u001b[39m\u001b[38;5;124m\"\u001b[39m)\n\u001b[0;32m      5\u001b[0m layer2 \u001b[38;5;241m=\u001b[39m layers\u001b[38;5;241m.\u001b[39mDense(\u001b[38;5;241m3\u001b[39m, activation\u001b[38;5;241m=\u001b[39m\u001b[38;5;124m\"\u001b[39m\u001b[38;5;124mrelu\u001b[39m\u001b[38;5;124m\"\u001b[39m, name\u001b[38;5;241m=\u001b[39m\u001b[38;5;124m\"\u001b[39m\u001b[38;5;124mlayer2\u001b[39m\u001b[38;5;124m\"\u001b[39m)\n\u001b[1;32m----> 6\u001b[0m layer3 \u001b[38;5;241m=\u001b[39m \u001b[43mlayers\u001b[49m\u001b[38;5;241;43m.\u001b[39;49m\u001b[43mConv1D\u001b[49m\u001b[43m(\u001b[49m\u001b[38;5;241;43m4\u001b[39;49m\u001b[43m,\u001b[49m\u001b[43m \u001b[49m\u001b[43mname\u001b[49m\u001b[38;5;241;43m=\u001b[39;49m\u001b[38;5;124;43m\"\u001b[39;49m\u001b[38;5;124;43mlayer3\u001b[39;49m\u001b[38;5;124;43m\"\u001b[39;49m\u001b[43m)\u001b[49m\n\u001b[0;32m      8\u001b[0m \u001b[38;5;66;03m# Call layers on a test input\u001b[39;00m\n\u001b[0;32m      9\u001b[0m x \u001b[38;5;241m=\u001b[39m tf\u001b[38;5;241m.\u001b[39mones((\u001b[38;5;241m3\u001b[39m, \u001b[38;5;241m3\u001b[39m))\n",
      "File \u001b[1;32m~\\anaconda3\\lib\\site-packages\\keras\\dtensor\\utils.py:95\u001b[0m, in \u001b[0;36mallow_initializer_layout.<locals>._wrap_function\u001b[1;34m(layer_instance, *args, **kwargs)\u001b[0m\n\u001b[0;32m     92\u001b[0m     \u001b[38;5;28;01mif\u001b[39;00m layout:\n\u001b[0;32m     93\u001b[0m       layout_args[variable_name \u001b[38;5;241m+\u001b[39m \u001b[38;5;124m\"\u001b[39m\u001b[38;5;124m_layout\u001b[39m\u001b[38;5;124m\"\u001b[39m] \u001b[38;5;241m=\u001b[39m layout\n\u001b[1;32m---> 95\u001b[0m init_method(layer_instance, \u001b[38;5;241m*\u001b[39margs, \u001b[38;5;241m*\u001b[39m\u001b[38;5;241m*\u001b[39mkwargs)\n\u001b[0;32m     97\u001b[0m \u001b[38;5;66;03m# Inject the layout parameter after the invocation of __init__()\u001b[39;00m\n\u001b[0;32m     98\u001b[0m \u001b[38;5;28;01mfor\u001b[39;00m layout_param_name, layout \u001b[38;5;129;01min\u001b[39;00m layout_args\u001b[38;5;241m.\u001b[39mitems():\n",
      "\u001b[1;31mTypeError\u001b[0m: __init__() missing 1 required positional argument: 'kernel_size'"
     ]
    }
   ],
   "source": [
    "# Create 3 layers\n",
    "# 위의 함수와 동일\n",
    "# sequential 함수 사용 안함\n",
    "layer1 = layers.Dense(2, activation=\"relu\", name=\"layer1\")\n",
    "layer2 = layers.Dense(3, activation=\"relu\", name=\"layer2\")\n",
    "layer3 = layers.Conv1D(4, name=\"layer3\")\n",
    "\n",
    "# Call layers on a test input\n",
    "x = tf.ones((3, 3))\n",
    "y = layer3(layer2(layer1(x)))\n",
    "print(y) # y = w * x"
   ]
  },
  {
   "cell_type": "code",
   "execution_count": 41,
   "id": "2e951810",
   "metadata": {},
   "outputs": [
    {
     "data": {
      "text/plain": [
       "[<keras.layers.core.dense.Dense at 0x21b833cdfa0>,\n",
       " <keras.layers.core.dense.Dense at 0x21b833cdf10>,\n",
       " <keras.layers.core.dense.Dense at 0x21b833cdf70>]"
      ]
     },
     "execution_count": 41,
     "metadata": {},
     "output_type": "execute_result"
    }
   ],
   "source": [
    "# layers 속성을 사용해서 레이어에 대해 접근할 수 있음\n",
    "model.layers"
   ]
  },
  {
   "cell_type": "code",
   "execution_count": 42,
   "id": "fbf6d6ed",
   "metadata": {},
   "outputs": [],
   "source": [
    "# add() 메서드를 통해서 Sequential 모델을 점진적으로 작성할 수도 있음\n",
    "model = keras.Sequential()\n",
    "model.add(layers.Dense(2, activation=\"relu\"))\n",
    "model.add(layers.Dense(3, activation=\"relu\"))\n",
    "model.add(layers.Dense(4))"
   ]
  },
  {
   "cell_type": "code",
   "execution_count": 43,
   "id": "1aa4740e",
   "metadata": {},
   "outputs": [
    {
     "data": {
      "text/plain": [
       "[<keras.layers.core.dense.Dense at 0x21b819f1c40>,\n",
       " <keras.layers.core.dense.Dense at 0x21bf8dc3730>,\n",
       " <keras.layers.core.dense.Dense at 0x21b819f1c10>]"
      ]
     },
     "execution_count": 43,
     "metadata": {},
     "output_type": "execute_result"
    }
   ],
   "source": [
    "model.layers"
   ]
  },
  {
   "cell_type": "code",
   "execution_count": 44,
   "id": "775a8b96",
   "metadata": {},
   "outputs": [
    {
     "name": "stdout",
     "output_type": "stream",
     "text": [
      "2\n"
     ]
    }
   ],
   "source": [
    "# pop() 메서드를 사용하면 레이어를 제거할 수 있음\n",
    "model.pop()\n",
    "print(len(model.layers))  # 2"
   ]
  },
  {
   "cell_type": "markdown",
   "id": "b0152487",
   "metadata": {},
   "source": [
    "# 패션 MNIST를 사용한 분류 문제\n",
    "- 패션 MNIST 데이터에는 10개의 카테고리와 70,000개의 흑백이미지가 포함\n",
    "- 이미지의 해상도는 28*28\n",
    "- 네트워크 훈련에 60,000개의 이미지를 사용하고, 평가를 위해 10,000개를 사용"
   ]
  },
  {
   "cell_type": "code",
   "execution_count": 45,
   "id": "46dcc7ec",
   "metadata": {},
   "outputs": [
    {
     "name": "stdout",
     "output_type": "stream",
     "text": [
      "2.9.1\n"
     ]
    }
   ],
   "source": [
    "# tensorflow와 tf.keras를 임포트합니다\n",
    "import tensorflow as tf\n",
    "from tensorflow import keras\n",
    "\n",
    "# 헬퍼(helper) 라이브러리를 임포트합니다\n",
    "import numpy as np\n",
    "import matplotlib.pyplot as plt\n",
    "\n",
    "print(tf.__version__)"
   ]
  },
  {
   "cell_type": "code",
   "execution_count": 46,
   "id": "da8ad12a",
   "metadata": {},
   "outputs": [],
   "source": [
    "fashion_mnist = keras.datasets.fashion_mnist\n",
    "\n",
    "(train_images, train_labels), (test_images, test_labels) = fashion_mnist.load_data()"
   ]
  },
  {
   "cell_type": "code",
   "execution_count": 47,
   "id": "e053bcca",
   "metadata": {},
   "outputs": [],
   "source": [
    "class_names = ['T-shirt/top', 'Trouser', 'Pullover', 'Dress', 'Coat',\n",
    "               'Sandal', 'Shirt', 'Sneaker', 'Bag', 'Ankle boot']"
   ]
  },
  {
   "cell_type": "code",
   "execution_count": 48,
   "id": "4cc50c98",
   "metadata": {},
   "outputs": [
    {
     "data": {
      "text/plain": [
       "(60000, 28, 28)"
      ]
     },
     "execution_count": 48,
     "metadata": {},
     "output_type": "execute_result"
    }
   ],
   "source": [
    "train_images.shape"
   ]
  },
  {
   "cell_type": "code",
   "execution_count": 49,
   "id": "e6159744",
   "metadata": {},
   "outputs": [
    {
     "data": {
      "text/plain": [
       "60000"
      ]
     },
     "execution_count": 49,
     "metadata": {},
     "output_type": "execute_result"
    }
   ],
   "source": [
    "len(train_labels) #6만개"
   ]
  },
  {
   "cell_type": "code",
   "execution_count": 50,
   "id": "5caa14c4",
   "metadata": {},
   "outputs": [
    {
     "data": {
      "text/plain": [
       "array([9, 0, 0, ..., 3, 0, 5], dtype=uint8)"
      ]
     },
     "execution_count": 50,
     "metadata": {},
     "output_type": "execute_result"
    }
   ],
   "source": [
    "# 각 라벨은 0~9 사이의 정수\n",
    "train_labels"
   ]
  },
  {
   "cell_type": "markdown",
   "id": "680a98b1",
   "metadata": {},
   "source": [
    "# 데이터 전처리\n"
   ]
  },
  {
   "cell_type": "code",
   "execution_count": 51,
   "id": "933b5735",
   "metadata": {},
   "outputs": [
    {
     "data": {
      "image/png": "[encoded data removed]",
      "text/plain": [
       "<Figure size 432x288 with 2 Axes>"
      ]
     },
     "metadata": {
      "needs_background": "light"
     },
     "output_type": "display_data"
    }
   ],
   "source": [
    "# 훈련 데이터의 첫번째 이미지\n",
    "plt.figure()\n",
    "plt.imshow(train_images[0])\n",
    "plt.colorbar()\n",
    "plt.grid(False)\n",
    "plt.show()"
   ]
  },
  {
   "cell_type": "code",
   "execution_count": 52,
   "id": "1418b775",
   "metadata": {},
   "outputs": [],
   "source": [
    "# 신경망 모델에 주입하기 전에 값의 범위를 0~1로 조정\n",
    "train_images = train_images / 255.0\n",
    "\n",
    "test_images = test_images / 255.0"
   ]
  },
  {
   "cell_type": "code",
   "execution_count": 53,
   "id": "87f3141e",
   "metadata": {},
   "outputs": [
    {
     "data": {
      "image/png": "[encoded data removed]",
      "text/plain": [
       "<Figure size 720x720 with 25 Axes>"
      ]
     },
     "metadata": {},
     "output_type": "display_data"
    }
   ],
   "source": [
    "plt.figure(figsize=(10,10))\n",
    "for i in range(25):\n",
    "    plt.subplot(5,5,i+1)\n",
    "    plt.xticks([])\n",
    "    plt.yticks([])\n",
    "    plt.grid(False)\n",
    "    plt.imshow(train_images[i], cmap=plt.cm.binary)\n",
    "    plt.xlabel(class_names[train_labels[i]])\n",
    "plt.show()"
   ]
  },
  {
   "cell_type": "markdown",
   "id": "9786a0de",
   "metadata": {},
   "source": [
    "# 모델 구성"
   ]
  },
  {
   "cell_type": "code",
   "execution_count": 54,
   "id": "2e49f36e",
   "metadata": {},
   "outputs": [],
   "source": [
    "model = keras.Sequential([\n",
    "    keras.layers.Flatten(input_shape=(28, 28)), # Flatten: 행렬 -> 벡터로 바꿔줌\n",
    "    keras.layers.Dense(128, activation='relu'),\n",
    "    keras.layers.Dense(10, activation='softmax')\n",
    "])"
   ]
  },
  {
   "cell_type": "code",
   "execution_count": 55,
   "id": "d805beb8",
   "metadata": {},
   "outputs": [
    {
     "name": "stdout",
     "output_type": "stream",
     "text": [
      "Model: \"sequential_2\"\n",
      "_________________________________________________________________\n",
      " Layer (type)                Output Shape              Param #   \n",
      "=================================================================\n",
      " flatten (Flatten)           (None, 784)               0         \n",
      "                                                                 \n",
      " dense_3 (Dense)             (None, 128)               100480    \n",
      "                                                                 \n",
      " dense_4 (Dense)             (None, 10)                1290      \n",
      "                                                                 \n",
      "=================================================================\n",
      "Total params: 101,770\n",
      "Trainable params: 101,770\n",
      "Non-trainable params: 0\n",
      "_________________________________________________________________\n"
     ]
    }
   ],
   "source": [
    "model.summary()"
   ]
  },
  {
   "cell_type": "code",
   "execution_count": 58,
   "id": "d88bb4cf",
   "metadata": {},
   "outputs": [
    {
     "name": "stdout",
     "output_type": "stream",
     "text": [
      "Requirement already satisfied: pydot in c:\\users\\user\\anaconda3\\lib\\site-packages (1.4.2)\n",
      "Requirement already satisfied: pyparsing>=2.1.4 in c:\\users\\user\\anaconda3\\lib\\site-packages (from pydot) (3.0.4)\n",
      "Note: you may need to restart the kernel to use updated packages.\n"
     ]
    }
   ],
   "source": [
    "%pip install pydot"
   ]
  },
  {
   "cell_type": "code",
   "execution_count": 59,
   "id": "917818a2",
   "metadata": {},
   "outputs": [
    {
     "name": "stdout",
     "output_type": "stream",
     "text": [
      "Requirement already satisfied: graphviz in c:\\users\\user\\anaconda3\\lib\\site-packages (0.20.1)\n",
      "Note: you may need to restart the kernel to use updated packages.\n"
     ]
    }
   ],
   "source": [
    "%pip install graphviz"
   ]
  },
  {
   "cell_type": "code",
   "execution_count": 60,
   "id": "677e6a36",
   "metadata": {},
   "outputs": [
    {
     "name": "stdout",
     "output_type": "stream",
     "text": [
      "You must install pydot (`pip install pydot`) and install graphviz (see instructions at https://graphviz.gitlab.io/download/) for plot_model/model_to_dot to work.\n"
     ]
    }
   ],
   "source": [
    "keras.utils.plot_model(model, show_shapes=True)"
   ]
  },
  {
   "cell_type": "code",
   "execution_count": 61,
   "id": "e2bd0dc8",
   "metadata": {},
   "outputs": [],
   "source": [
    "model.compile(optimizer='adam', # SGD, SGD + momentum 등등. adam이 주로 사용됨. \n",
    "              loss='sparse_categorical_crossentropy', #sparse_categorical_crossentropy: 예측값이 특정한 정수 값으로 나올 때 사용\n",
    "              metrics=['accuracy']) # 정확도"
   ]
  },
  {
   "cell_type": "code",
   "execution_count": 62,
   "id": "2723b627",
   "metadata": {},
   "outputs": [
    {
     "name": "stdout",
     "output_type": "stream",
     "text": [
      "Epoch 1/5\n",
      "1875/1875 [==============================] - 2s 970us/step - loss: 0.5063 - accuracy: 0.8207\n",
      "Epoch 2/5\n",
      "1875/1875 [==============================] - 2s 944us/step - loss: 0.3781 - accuracy: 0.8637\n",
      "Epoch 3/5\n",
      "1875/1875 [==============================] - 2s 935us/step - loss: 0.3380 - accuracy: 0.8768\n",
      "Epoch 4/5\n",
      "1875/1875 [==============================] - 2s 948us/step - loss: 0.3137 - accuracy: 0.8851\n",
      "Epoch 5/5\n",
      "1875/1875 [==============================] - 2s 960us/step - loss: 0.2948 - accuracy: 0.8909\n"
     ]
    },
    {
     "data": {
      "text/plain": [
       "<keras.callbacks.History at 0x21b87b75f40>"
      ]
     },
     "execution_count": 62,
     "metadata": {},
     "output_type": "execute_result"
    }
   ],
   "source": [
    "model.fit(train_images, train_labels, epochs=5) #5번 반복 -> 정확도는 올라가고 오차는 줄어듦"
   ]
  },
  {
   "cell_type": "code",
   "execution_count": 59,
   "id": "96b52e8a",
   "metadata": {},
   "outputs": [
    {
     "name": "stdout",
     "output_type": "stream",
     "text": [
      "313/313 - 0s - loss: 0.3473 - accuracy: 0.8734 - 351ms/epoch - 1ms/step\n",
      "Test loss: 0.34726282954216003\n",
      "Test accuracy: 0.8733999729156494\n"
     ]
    }
   ],
   "source": [
    "test_loss, test_acc = model.evaluate(test_images,  test_labels, verbose=2)\n",
    "\n",
    "print(\"Test loss:\", test_loss)\n",
    "print(\"Test accuracy:\", test_acc) # 반복수를 늘리면 더 올라감"
   ]
  },
  {
   "cell_type": "code",
   "execution_count": 60,
   "id": "19dd0983",
   "metadata": {},
   "outputs": [
    {
     "name": "stdout",
     "output_type": "stream",
     "text": [
      "313/313 [==============================] - 0s 713us/step\n"
     ]
    }
   ],
   "source": [
    "# 훈련된 모델을 사용하여 이미지에 대한 예측 만들기\n",
    "predictions = model.predict(test_images)"
   ]
  },
  {
   "cell_type": "code",
   "execution_count": 61,
   "id": "c9b6a053",
   "metadata": {},
   "outputs": [
    {
     "data": {
      "text/plain": [
       "array([5.8762572e-07, 7.8301243e-10, 1.2174176e-07, 1.0637965e-07,\n",
       "       1.3732607e-08, 2.6076509e-02, 7.3629252e-07, 1.3046078e-02,\n",
       "       4.7958447e-06, 9.6087104e-01], dtype=float32)"
      ]
     },
     "execution_count": 61,
     "metadata": {},
     "output_type": "execute_result"
    }
   ],
   "source": [
    "# 테스트 세트에 있는 각 이미지에 대한 예측을 진행한 후, 첫번째 예측 값\n",
    "# 10개의 옷 품목에 상응하는 모델의 신뢰도(confidence)를 나타냄\n",
    "predictions[0]"
   ]
  },
  {
   "cell_type": "code",
   "execution_count": 62,
   "id": "a16fb105",
   "metadata": {},
   "outputs": [
    {
     "data": {
      "text/plain": [
       "9"
      ]
     },
     "execution_count": 62,
     "metadata": {},
     "output_type": "execute_result"
    }
   ],
   "source": [
    "# 가장 높은 신뢰도를 가진 레이블 출력\n",
    "np.argmax(predictions[0])"
   ]
  },
  {
   "cell_type": "code",
   "execution_count": 63,
   "id": "1334aa15",
   "metadata": {},
   "outputs": [
    {
     "data": {
      "text/plain": [
       "9"
      ]
     },
     "execution_count": 63,
     "metadata": {},
     "output_type": "execute_result"
    }
   ],
   "source": [
    "# 실제 테스트 데이터의 0번째 값\n",
    "test_labels[0]"
   ]
  },
  {
   "cell_type": "code",
   "execution_count": 64,
   "id": "de6f9573",
   "metadata": {},
   "outputs": [],
   "source": [
    "# 10개의 클래스에 대한 예측을 모두 그래프로 표현\n",
    "# 올바르게 예측된 레이블은 파란색으로, 잘못 예측된 레이블은 빨강색으로 표현\n",
    "# 숫자는 예측 레이블의 신뢰도 퍼센트\n",
    "\n",
    "def plot_image(i, predictions_array, true_label, img):\n",
    "  predictions_array, true_label, img = predictions_array[i], true_label[i], img[i]\n",
    "  plt.grid(False)\n",
    "  plt.xticks([])\n",
    "  plt.yticks([])\n",
    "\n",
    "  plt.imshow(img, cmap=plt.cm.binary)\n",
    "\n",
    "  predicted_label = np.argmax(predictions_array)\n",
    "  if predicted_label == true_label:\n",
    "    color = 'blue'\n",
    "  else:\n",
    "    color = 'red'\n",
    "\n",
    "  plt.xlabel(\"{} {:2.0f}% ({})\".format(class_names[predicted_label],\n",
    "                                100*np.max(predictions_array),\n",
    "                                class_names[true_label]),\n",
    "                                color=color)\n",
    "\n",
    "def plot_value_array(i, predictions_array, true_label):\n",
    "  predictions_array, true_label = predictions_array[i], true_label[i]\n",
    "  plt.grid(False)\n",
    "  plt.xticks([])\n",
    "  plt.yticks([])\n",
    "  thisplot = plt.bar(range(10), predictions_array, color=\"#777777\")\n",
    "  plt.ylim([0, 1])\n",
    "  predicted_label = np.argmax(predictions_array)\n",
    "\n",
    "  thisplot[predicted_label].set_color('red')\n",
    "  thisplot[true_label].set_color('blue')"
   ]
  },
  {
   "cell_type": "code",
   "execution_count": 65,
   "id": "141c847c",
   "metadata": {},
   "outputs": [
    {
     "data": {
      "image/png": "[encoded data removed]",
      "text/plain": [
       "<Figure size 432x216 with 2 Axes>"
      ]
     },
     "metadata": {},
     "output_type": "display_data"
    }
   ],
   "source": [
    "# 0번째 원소의 이미지, 예측, 신뢰도 점수 배열\n",
    "i = 0\n",
    "plt.figure(figsize=(6,3))\n",
    "plt.subplot(1,2,1)\n",
    "plot_image(i, predictions, test_labels, test_images)\n",
    "plt.subplot(1,2,2)\n",
    "plot_value_array(i, predictions,  test_labels)\n",
    "plt.show()"
   ]
  },
  {
   "cell_type": "code",
   "execution_count": 66,
   "id": "e03010a6",
   "metadata": {},
   "outputs": [
    {
     "data": {
      "image/png": "[encoded data removed]",
      "text/plain": [
       "<Figure size 432x216 with 2 Axes>"
      ]
     },
     "metadata": {},
     "output_type": "display_data"
    }
   ],
   "source": [
    "i = 12\n",
    "plt.figure(figsize=(6,3))\n",
    "plt.subplot(1,2,1)\n",
    "plot_image(i, predictions, test_labels, test_images)\n",
    "plt.subplot(1,2,2)\n",
    "plot_value_array(i, predictions,  test_labels)\n",
    "plt.show()"
   ]
  },
  {
   "cell_type": "code",
   "execution_count": 67,
   "id": "c0ca0ecf",
   "metadata": {},
   "outputs": [
    {
     "data": {
      "image/png": "[encoded data removed]",
      "text/plain": [
       "<Figure size 864x720 with 30 Axes>"
      ]
     },
     "metadata": {},
     "output_type": "display_data"
    }
   ],
   "source": [
    "# 처음 X 개의 테스트 이미지와 예측 레이블, 진짜 레이블을 출력합니다\n",
    "num_rows = 5\n",
    "num_cols = 3\n",
    "num_images = num_rows*num_cols\n",
    "plt.figure(figsize=(2*2*num_cols, 2*num_rows))\n",
    "for i in range(num_images):\n",
    "  plt.subplot(num_rows, 2*num_cols, 2*i+1)\n",
    "  plot_image(i, predictions, test_labels, test_images)\n",
    "  plt.subplot(num_rows, 2*num_cols, 2*i+2)\n",
    "  plot_value_array(i, predictions, test_labels)\n",
    "plt.show()"
   ]
  },
  {
   "cell_type": "code",
   "execution_count": null,
   "id": "97a6f7ea",
   "metadata": {},
   "outputs": [],
   "source": []
  }
 ],
 "metadata": {
  "kernelspec": {
   "display_name": "Python 3 (ipykernel)",
   "language": "python",
   "name": "python3"
  },
  "language_info": {
   "codemirror_mode": {
    "name": "ipython",
    "version": 3
   },
   "file_extension": ".py",
   "mimetype": "text/x-python",
   "name": "python",
   "nbconvert_exporter": "python",
   "pygments_lexer": "ipython3",
   "version": "3.9.12"
  }
 },
 "nbformat": 4,
 "nbformat_minor": 5
}
