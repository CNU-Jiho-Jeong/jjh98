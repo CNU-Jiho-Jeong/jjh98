{
 "cells": [
  {
   "cell_type": "code",
   "execution_count": 2,
   "id": "6993f596",
   "metadata": {},
   "outputs": [],
   "source": [
    "def solution(scoville, K):\n",
    "    answer = 0\n",
    "    scoville.sort()\n",
    "    \n",
    "    while(True):\n",
    "        \n",
    "        if min(scoville) < K:\n",
    "            a = scoville.pop(0)\n",
    "            b = scoville.pop(0)\n",
    "            scoville.append(a+(b*2))\n",
    "            answer += 1\n",
    "            scoville.sort()\n",
    "            if min(scoville) >= K:\n",
    "                return answer\n",
    "            elif (len(scoville) == 1) and (scoville[0] < K):\n",
    "                return -1\n",
    "        else:\n",
    "            return answer"
   ]
  },
  {
   "cell_type": "markdown",
   "id": "4537f3f8",
   "metadata": {},
   "source": [
    "### 위의 풀이방법은 정확성은 100% 이나, 효율성에서 0%이다. 즉, scoville의 길이가 너무 길면, 시간이 너무 오래걸린다는 뜻이다. 아무래도 min 함수를 쓰다보면 리스트 길이가 길때, 리스트 요소간의 크기 비교에 시간이 너무 투자되는 듯 하다."
   ]
  },
  {
   "cell_type": "code",
   "execution_count": 3,
   "id": "0b2cf9a8",
   "metadata": {},
   "outputs": [],
   "source": [
    "from heapq import * # heapq 에 있는 것을 전부(*) 가져온다. \n",
    "# heapq: 리스트를 최소 힙처럼 다룰수 있도록 하는 모듈. 파이썬의 heapq에서는 최소힙만 제공\n",
    "# 최소 힙: 부모 노드의 키값이 자식 노드의 키값보다 항상 작은 힙 / 루트 노드에 최솟값이 있는 것\n",
    "def solution(scoville, K):\n",
    "    count = 0 \n",
    "    heapify(scoville) # 힙함수 heapify. 인자로 받은 리스트를 즉각적으로 heap으로 변환한다. 여기서 scoville은 최소힙이 되는 것이다. \n",
    "    while scoville[0] < K and len(scoville) > 1:  # 가장 맵지 않은 스코빌 지수가 K보다 작고 스코빌 길이가 1보다 길때 \n",
    "        num1 = heappop(scoville) # 힙함수 heappop. heap에서 가장 작은 원소를 pop & return\n",
    "        num2 = heappop(scoville)\n",
    "        heappush(scoville, num1 + num2 * 2) # heappush(heap, item). item을 heap에 추가\n",
    "        count += 1\n",
    "    return count if scoville[0] >= K else -1 \n",
    "# 반복문 while이 끝난다는 것은 스코빌의 길이가 1이 되거나, 가장 맵지 않은 스코빌 지수가 K 이상이 되었다는 것이다. (둘 중 하나)\n",
    "# 물론 스코빌 길이가 1이면서 가장 맵지 않은 스코빌 지수가 K 이상이 될 수도 있다. (둘 다)\n",
    "# 뭐가 되었든(둘 중 하나만이든 둘 다이든) 가장 맵지 않은 스코빌 지수가 K이상이 되었다면, 성공했다는 뜻이므로 누적된 count를 그대로 반환하면 된다.\n",
    "# 그렇지 않은 경우, 즉 스코빌의 길이가 1이 되었는데 가장 맵지 않은 스코빌 지수가 K보다 작다면, -1을 반환한다.\n",
    "# 리턴문을 위처럼 한 줄로 반환할 수도 있다. "
   ]
  },
  {
   "cell_type": "markdown",
   "id": "954b8e5b",
   "metadata": {},
   "source": [
    "### 1. 힙: 특정한 규칙을 가지는 트리. **최댓값과 최솟값을 찾는 연산을 빠르게 하기 위해** 고안된 완전이진트리를 기본으로 함.\n",
    "### 2. 최소 힙: 부모 노드의 키값이 자식 노드의 키값보다 항상 작은 힙 / **루트 노드에 최솟값이 있는 것**\n"
   ]
  },
  {
   "cell_type": "markdown",
   "id": "dbba06bb",
   "metadata": {},
   "source": [
    "### (중요) 3. 힙의 루트 노드는 0번 인덱스이다. 그렇다면, 최소 힙에서, 0번 인덱스에 최소값이 존재하는 것이다(최대 힙에서는 0번 인덱스에 최댓값이 존재).\n",
    "### (중요) 4. 파이썬에서 heapq는 리스트를 '최소힙'처럼 다룰수 있도록 하는 모듈이다. "
   ]
  },
  {
   "cell_type": "code",
   "execution_count": null,
   "id": "040e11ac",
   "metadata": {},
   "outputs": [],
   "source": []
  }
 ],
 "metadata": {
  "kernelspec": {
   "display_name": "Python 3 (ipykernel)",
   "language": "python",
   "name": "python3"
  },
  "language_info": {
   "codemirror_mode": {
    "name": "ipython",
    "version": 3
   },
   "file_extension": ".py",
   "mimetype": "text/x-python",
   "name": "python",
   "nbconvert_exporter": "python",
   "pygments_lexer": "ipython3",
   "version": "3.9.12"
  }
 },
 "nbformat": 4,
 "nbformat_minor": 5
}
