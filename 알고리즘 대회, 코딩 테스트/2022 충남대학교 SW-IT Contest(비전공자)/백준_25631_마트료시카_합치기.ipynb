{
 "cells": [
  {
   "cell_type": "code",
   "execution_count": null,
   "metadata": {
    "colab": {
     "base_uri": "https://localhost:8080/"
    },
    "id": "4FteqtSS6qVA",
    "outputId": "7ff70946-6c76-4128-c0d1-db36b428cc09"
   },
   "outputs": [
    {
     "name": "stdout",
     "output_type": "stream",
     "text": [
      "3\n",
      "1 2 3\n",
      "1\n"
     ]
    }
   ],
   "source": [
    "N = int(input())\n",
    "li = list(map(int, input().split()))\n",
    "li.sort()\n",
    "i = 0\n",
    "\n",
    "\n",
    "while(1):\n",
    "  if li[i+1] > li[i]:\n",
    "    li.pop(i)\n",
    "    i = 0\n",
    "    if len(li)==1:\n",
    "      print(1)\n",
    "      break\n",
    "  else:\n",
    "    i += 1\n",
    "    if i >= N-1:\n",
    "      print(len(li))\n",
    "      break\n"
   ]
  },
  {
   "cell_type": "markdown",
   "metadata": {
    "id": "Fq89ckAOENqe"
   },
   "source": [
    "### 위 방법대로 했더니, 채점 21%에서 런타임 에러가 발생했다.\n",
    "### 인덱스가 초과되는 문제가 발생한 것이다. \n",
    "### 대회 때도 푸는데 실패하였다."
   ]
  },
  {
   "cell_type": "code",
   "execution_count": 1,
   "metadata": {
    "colab": {
     "base_uri": "https://localhost:8080/"
    },
    "id": "JVcEYUkT6yoT",
    "outputId": "241866a0-4ca5-4bd2-a9be-b66fcf853717"
   },
   "outputs": [
    {
     "name": "stdout",
     "output_type": "stream",
     "text": [
      "3\n",
      "1 2 3\n",
      "1\n"
     ]
    }
   ],
   "source": [
    "N = int(input())\n",
    "li = list(map(int, input().split()))\n",
    "li.sort()\n",
    "\n",
    "li_1 = [0]*N \n",
    "# li와 똑같은 길이인 새로운 리스트를 만들어주었다. \n",
    "# 하나의 마트료시카가 다른 마트료시카에 들어갈 수 있는지, 아닌지를 '고려해주었는가'를 나타낸다.\n",
    "# 인덱스 순서는 li와 동일하다. 그러니까, i번째 마트료시카의 고려여부는 li_1의 i번째 요소에서 알 수 있다.\n",
    "# 0은 고려를 안 해준 것이고, 1은 고려를 해준 것이다.\n",
    "# 이 리스트의 요소들이 전부 1이 되면, 전부다 고려가 된 것이므로 판단을 종료한다.\n",
    "\n",
    "count = 0\n",
    "# count 변수 지정. 들어가지 못하는 마트료시카 개수를 고려해 주기 위한 것이다.\n",
    "\n",
    "for i in range(N):\n",
    "  a = li[0] # a 라는 변수를 임의로 정의해준다. \n",
    "  b = 0 # b 라는 변수를 임의로 정의해준다.\n",
    "  for k in range(N): # 고려되지 못한 마트료시카를 찾아내기 위해서 반복문을 하나 더 써준다.\n",
    "    if li_1[k] == 0: # 고려되지 못한 마트료시카를 찾아내면\n",
    "      a = li[k] # k번째 인덱스의 마트료시카의 크기를 a라는 변수에 저장한다.\n",
    "      b = k # k 번째 인덱스의 마트료시카가 고려되었다는 것을 나타내기 위해 b라는 변수에 k를 넣어주었다.\n",
    "      break # 고려되지 못한 마트료시카를 찾으면 반복문 탈출한다.\n",
    "  li_1[b] = 1 # b번째, 즉 k번째 마트료시카는 이제 고려를 해줄 것이므로 li_1의 k 번째 요소를 1로 만든다.\n",
    "  for j in range(N): # 이제 고려할 마트료시카가 다른 마트료시카에 들어갈 수 있는지 판별하자.\n",
    "    if a < li[j] and li_1[j]==0: # 고려되지 않은 어떤 마트료시카가 고려할 마트료시카보다 더 크다면\n",
    "      li_1[j] = 1 # 고려되지 않은 그 마트료시카를 고려해준 것으로 취급한다.\n",
    "      a = li[j] # 그리고 고려해준 것으로 취급된 마트료시카의 크기를 a에 저장해준다. 그리고 반복문을 돈다. \n",
    "      # 그러면 이제 더 큰(새로운 a) 마트료시카가 다른 고려되지 않은 마트료시카에 들어갈 수 있는지를 판별한다.   \n",
    "  if 0 in li_1: # for j 문을 다 돌았는데도 아직 고려되지 않은 마트료시카가 있다면(마트료시카가 들어가지 못하고 남게 된 것) \n",
    "    count += 1 # count를 하나 추가해준다. 들어가지 못하는 마트료시카 개수가 하나 늘어나게 되는 것이다. \n",
    "\n",
    "print(count+1) # 마지막 남은 마트료시카 한 개 + 최종적으로 들어가지 못하는 마트료시카 갯수\n"
   ]
  },
  {
   "cell_type": "markdown",
   "metadata": {
    "id": "Dafn_-gZe51E"
   },
   "source": [
    "### 다른 사람의 도움을 받아서 푸는데 성공했다. 생각보다 나에게 너무 어려웠다.\n"
   ]
  }
 ],
 "metadata": {
  "colab": {
   "collapsed_sections": [],
   "provenance": []
  },
  "kernelspec": {
   "display_name": "Python 3 (ipykernel)",
   "language": "python",
   "name": "python3"
  },
  "language_info": {
   "codemirror_mode": {
    "name": "ipython",
    "version": 3
   },
   "file_extension": ".py",
   "mimetype": "text/x-python",
   "name": "python",
   "nbconvert_exporter": "python",
   "pygments_lexer": "ipython3",
   "version": "3.9.12"
  }
 },
 "nbformat": 4,
 "nbformat_minor": 1
}
