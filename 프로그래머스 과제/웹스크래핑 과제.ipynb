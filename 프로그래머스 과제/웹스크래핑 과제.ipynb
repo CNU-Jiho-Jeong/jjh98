{
 "cells": [
  {
   "cell_type": "code",
   "execution_count": 2,
   "id": "a38adbb1-101a-490c-8fb2-3d60638e8089",
   "metadata": {},
   "outputs": [],
   "source": [
    "from selenium import webdriver\n",
    "from webdriver_manager.chrome import ChromeDriverManager\n",
    "from selenium.webdriver.chrome.service import Service\n",
    "from selenium.webdriver.common.by import By"
   ]
  },
  {
   "cell_type": "code",
   "execution_count": 26,
   "id": "6fe48f1a-6a66-442b-a472-af21dbdc532a",
   "metadata": {},
   "outputs": [
    {
     "name": "stdout",
     "output_type": "stream",
     "text": [
      "\n",
      "['Introduction\\nLife', 'guidance\\nIntroduction\\nIntroduction\\nGreetings\\nHi,', 'everybody!\\nWe', 'heartily', 'welcome', 'you', 'All', 'becoming', 'members', 'of', 'our', 'dormitory.\\nOur', 'dorm', 'has', 'grown', 'out', 'with', 'your', 'great', 'love', 'and', 'affection', 'and', 'has', 'become', 'a', 'welfare', 'facility', 'worth', 'of', 'its', 'name', 'accommodating', 'around', '5.000', 'students', 'and', 'providing', 'an', 'academic', 'atmosphere', 'with', 'them.\\nFor', 'occupants', 'to', 'live', 'comfortably,', 'all', 'our', 'staff', 'with', 'well', 'prepared', 'work', 'ability', 'has', 'always', 'been', 'trying', 'to', 'offer', 'the', 'best', 'service', 'to', 'them.\\nWe', 'will', 'keep', 'doing', 'our', 'best', 'to', 'double-check', 'all', 'your', 'inconveniences', 'and', 'to', 'rapidly', 'settle', 'down', 'filed', 'complaints.\\nWith', 'our', \"dorm's\", 'rapid', 'growth,', 'more', 'heightened', 'awareness', 'needed', 'in', 'a', 'communal', 'living', 'is', 'required', 'than', 'ever', 'before.\\nEspecially,', 'a', 'strict', 'self-management,', 'rule', 'observance,', 'and', 'attitude', 'caring', 'others', 'are', 'desperately', 'required', 'to', 'make', 'our', 'dorm', 'a', 'pleasant', 'and', 'amicable', 'environment.\\nOnly', 'when', 'occupants', 'understand', 'and', 'respect', 'one', 'another,', 'our', 'dorm', 'will', 'become', 'the', 'place', 'where', 'you', 'can', 'enjoy', 'your', 'own', 'full', 'life,', 'enhance', 'an', 'academic', 'atmosphere,', 'and', 'develop', 'the', 'personality', 'of', 'a', 'social', 'leader', 'through', 'the', 'communal', 'living.\\nAgain,', 'we', 'expect', 'your', 'positive', 'support', 'to', 'make', 'your', 'space', 'more', 'comfortable', 'and', 'stable.\\nHistory\\nCNU', 'Dormitory(3', 'Dong)', 'opened', 'on', 'February', '25,', '1986.', '(Starting', 'on', 'the', 'title', 'of', 'En-Haeng', 'Sah)(3', 'Dong)\\n2', 'Dong', 'opened', 'on', 'March', '1,', '1989.\\n4', 'Dong', 'opened', 'on', 'March', '1,', '1992.\\nCheong-Ryong', 'Gwan', 'opened', 'on', 'March', '1,', '1994.\\nBaek-Hang', 'Sah', 'opened', 'on', 'March', '1,', '2001.\\n1', 'Dong', 'opened', 'on', 'March', '1,', '2002.\\n5', 'Dong', 'and', '6', 'Dong', 'opened', 'on', 'August', '28,', '2005/li>\\nNuri-Gwan', 'opened', 'on', 'August', '20,', '2007\\n7', 'Dong', 'and', '11', 'Dong', 'opened', 'on', 'March', '1,', '2009\\n12', 'Dong,', '13', 'Dong', 'and', 'Baek-Hang', 'Sah', '2', 'Dong', 'opened', 'on', 'March', '1,', '2015\\n\\nMain', 'telephone', 'numbers\\nIntegrated', 'Administration', 'Center(2nd', 'floor', 'of', '3', 'Dong)\\nLife', 'Guidance', 'Team\\n-', 'Occupants', 'selection', 'and', 'recruit,', 'Entering', 'and', 'leaving,', 'Entering', 'and', 'leaving', 'midway,', \"Students'\", 'life', 'guidance,Counselling\\n-', '042-821-6181~6183\\nAdministrative', 'Support', 'Team\\n-', 'Payment', 'and', 'return', 'of', 'dormitory', 'fee,', 'Scholarship\\n-', '042-821-6161,', '6162,', '6165\\nInstallation', 'Support', 'Team\\n-', 'Repair', 'and', 'maintenance\\n-', '042-821-6164\\nComputer', 'Support', 'Team\\n-', 'Management', 'of', 'the', 'Internet', 'and', 'dormitory', 'computer', 'system\\n-', '042-821-6178\\nMaintenance', 'and', 'Cafeteria\\nDirect', 'management', 'building(1~6', 'Dong,', 'Baek-Hang', 'Sah', '1', 'Dong)\\n-', 'Chungnam', 'National', 'University', 'Dormitory\\n-', '042-821-6163~4\\n1st', 'BTL', 'buildings(7~11', 'Dong)\\n-', '(WOORIP&S', 'Ltd.)\\n-', '042-829-4000\\n2nd', 'BTL', 'buildings(12~13', 'Dong,', 'Baek-Hang', 'Sah', '2', 'Dong)\\n-', 'KR', 'Industry\\n-', '042-365-5500\\nRestaurant\\n-', 'SHINSEGAE', 'FOOD', 'CO.,LTD\\n-', '042-829-4026\\nPromotion', 'video\\nIf', 'you', 'click', 'the', 'play', 'button,', 'your', 'movie', 'is', 'renewed.\\nFacility', 'condition\\nBuilding', 'Occupants', 'Maximum\\naccommodations', 'Accommodations\\nper', 'room', 'Total', 'area\\nper', 'room', 'Remarks\\n1', 'Dong', 'Male', 'Students', '401', '2', '13.66m2', '', '\\n2', 'Dong', 'Male', 'students', '264', '2', '19.60m2', '', '\\n3', 'Dong', 'Male', 'students', '230', '2', '19.60m2', '', '\\n4', 'Dong', 'Male', 'students', '194', '2', '13.20m2', '', '\\n5', 'Dong', 'Male', 'students', '48', '3', '22.46m2', '', '\\n5', 'Dong', 'Female', 'students', '90', '2', '13.66m2', '', '\\n6', 'Dong', 'Female', 'students', '282', '2', '13.66m2', '', '\\n7', 'Dong', 'Female', 'students', '852', '2', '20.46m2', '', '\\n8', 'Dong', 'Male', 'students', '824', '2', '20.46m2', '', '\\n9', 'Dong', 'Male', 'students', '419', '2', '20.46m2', '', '\\n10', 'Dong', 'Couple', 'room', '96', 'rooms', 'more', 'than', '2', '30.24m2', '', '\\n11', 'Dong', 'Female', 'students', '391', '2', '20.46m2', '', '\\n12', 'Dong', 'Couple', 'room', '100', 'rooms', 'more', 'than', '2', '28.08m2', '', '\\n13', 'Dong', 'Female', 'students', '449', '2', '19.58m2', '', '\\nBaek', 'Hang', 'Sah', 'Students', '88', '2', '13.66m2', '-', 'medical', 'graduate\\nschool\\n-', 'Nursing', 'College\\n(BTL)\\nBaek', 'Hang', 'Sah', '150', '2', '19.58m2\\nCheong-Ryong', 'Exam', 'preparers', '126', '2', '13.66m2', '', '']\n"
     ]
    }
   ],
   "source": [
    "driver = webdriver.Chrome(service=Service(ChromeDriverManager().install()))\n",
    "driver.get(\"https://dorm.cnu.ac.kr/html/kr/guide/guide_060501.html\")\n",
    "driver.implicitly_wait(1)\n",
    "\n",
    "strings = driver.find_element(By.ID, \"txt\").text\n",
    "\n",
    "print(strings.split(\" \"))\n"
   ]
  },
  {
   "cell_type": "code",
   "execution_count": 27,
   "id": "500e86e7-b4e4-496e-84f4-14483f6ceabb",
   "metadata": {},
   "outputs": [],
   "source": [
    "from collections import Counter"
   ]
  },
  {
   "cell_type": "code",
   "execution_count": 28,
   "id": "022cf8f9-a4ca-4bed-97ab-4846c19406e3",
   "metadata": {},
   "outputs": [
    {
     "data": {
      "text/plain": [
       "[('Dong', 23), ('and', 19), ('2', 18), ('', 16), ('students', 12)]"
      ]
     },
     "execution_count": 28,
     "metadata": {},
     "output_type": "execute_result"
    }
   ],
   "source": [
    "counter = Counter(strings.split(\" \"))\n",
    "counter.most_common(5)"
   ]
  },
  {
   "cell_type": "code",
   "execution_count": 33,
   "id": "34088866-3f6c-4a19-acb5-7a540b03d589",
   "metadata": {},
   "outputs": [
    {
     "data": {
      "text/plain": [
       "<AxesSubplot:title={'center':'Most repeated words'}, xlabel='word', ylabel='repeated times'>"
      ]
     },
     "execution_count": 33,
     "metadata": {},
     "output_type": "execute_result"
    },
    {
     "data": {
      "image/png": "[encoded data removed]",
      "text/plain": [
       "<Figure size 1440x720 with 1 Axes>"
      ]
     },
     "metadata": {
      "needs_background": "light"
     },
     "output_type": "display_data"
    }
   ],
   "source": [
    "import seaborn as sns\n",
    "import matplotlib.pyplot as plt\n",
    "\n",
    "x = [elem[0] for elem in counter.most_common(5)]\n",
    "y = [elem[1] for elem in counter.most_common(5)]\n",
    "plt.figure(figsize=(20,10))\n",
    "plt.title(\"Most repeated words\")\n",
    "plt.xlabel(\"word\")\n",
    "plt.ylabel(\"repeated times\") \n",
    "sns.barplot(x=x,y=y)\n"
   ]
  },
  {
   "cell_type": "code",
   "execution_count": null,
   "id": "e921a4b1-4d19-403d-add3-afb81a70536d",
   "metadata": {},
   "outputs": [],
   "source": []
  }
 ],
 "metadata": {
  "kernelspec": {
   "display_name": "Python 3 (ipykernel)",
   "language": "python",
   "name": "python3"
  },
  "language_info": {
   "codemirror_mode": {
    "name": "ipython",
    "version": 3
   },
   "file_extension": ".py",
   "mimetype": "text/x-python",
   "name": "python",
   "nbconvert_exporter": "python",
   "pygments_lexer": "ipython3",
   "version": "3.9.12"
  }
 },
 "nbformat": 4,
 "nbformat_minor": 5
}
