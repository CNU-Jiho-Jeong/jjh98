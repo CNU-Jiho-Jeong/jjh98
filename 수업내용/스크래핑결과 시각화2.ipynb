{
 "cells": [
  {
   "cell_type": "code",
   "execution_count": 1,
   "id": "f165f6f2-d163-4289-8cec-460e0212f128",
   "metadata": {},
   "outputs": [],
   "source": [
    "# 해시코드 질문 태그의 빈도 확인\n"
   ]
  },
  {
   "cell_type": "code",
   "execution_count": 2,
   "id": "6b2e2ad7-3016-46b7-8585-273b67b1ad05",
   "metadata": {},
   "outputs": [],
   "source": [
    "# User-Agent 추가\n",
    "user_agent = {\"User-Agent\" : \"Mozilla/5.0 (Windows NT 10.0; Win64; x64) AppleWebKit/537.36 (KHTML, like Gecko) Chrome/103.0.0.0 Safari/537.36\"}"
   ]
  },
  {
   "cell_type": "code",
   "execution_count": 7,
   "id": "87791b94-71f8-4e3f-89cf-92214f9f4eb0",
   "metadata": {},
   "outputs": [
    {
     "name": "stdout",
     "output_type": "stream",
     "text": [
      "{'css': 6, 'html': 6, 'java': 35, 'python': 244, 'crawling': 4, 'selenium': 12, 'algorithm': 3, 'list': 14, 'class': 5, 'private': 1, 'openpyxl': 3, 'c#': 4, 'web-crawling': 3, 'javascript': 11, 'python3': 3, 'selenium-webdrive': 2, 'random': 2, 'tuple': 2, 'pyinstaller': 2, 'mysql': 2, 'dataframe': 8, 'pandas': 13, 'function': 5, 'canvas': 1, 'fabric': 1, 'iterator': 1, 'c': 41, 'c++': 26, 'array': 9, 'advertisement': 1, 'node.js': 4, 'regression-analysis': 1, 'logistic-regression': 1, 'statsmodels': 1, 'oop': 1, 'program': 2, 'eclipse': 2, 'runtime-error': 1, 'dump': 1, 'flutter': 2, 'react': 2, 'webview': 1, 'error': 8, 'dev-c++': 1, 'dictionary': 5, 'qt': 2, 'qt-designer': 2, 'typescript': 2, 'environment-variables': 1, 'for': 10, 'preprocessor': 1, 'ai': 3, 'and': 1, 'tkinter': 4, 'socket': 2, 'loops': 5, 'header': 1, 'python3.6.1': 1, 'len': 1, 'linux': 6, 'python-2.7': 2, 'application': 1, 'idle': 1, 'pointer': 2, 'while-loop': 6, 'android-studio': 7, 'server': 2, 'connect': 1, 'tcp': 1, 'csv': 3, 'recursive': 3, 'write': 1, 'developer': 1, 'recyclerview': 2, 'stack': 1, 'tree': 1, 'r': 2, 'abstract-class': 1, 'arduino': 3, 'eoferror': 1, 'file': 2, 'txt': 2, 'macos': 1, 'pyside2': 2, 'firebase': 1, 'datetime': 3, 'date': 1, 'sorting': 1, 'jupyter-notebook': 3, 'konlpy': 1, 'text-mining': 1, 'matrix': 2, 'lambda': 1, 'machine-learning': 2, 'project': 1, 'syntax-error': 1, 'button': 1, 'event': 1, 'matlab': 1, 'time': 1, 'django': 4, 'api': 2, 'google-chrome': 1, 'numpy': 6, 'windows': 1, 'korean': 2, 'timedelta': 1, 'postfix': 1, 'swap': 1, 'opengl': 2, 'matplotlib': 3, 'split': 2, 'android': 10, 'method': 2, 'config': 1, 'parser': 1, 'xml': 1, 'pyqt5': 3, 'mobile': 1, 'index': 1, 'tensorflow': 1, 'format': 1, 'github': 3, 'image': 4, 'upload': 1, 'script': 1, 'recursion': 2, 'mfc': 3, 'jsp': 2, 'servlet': 1, 'web': 1, 'unity': 1, 'coding-test': 1, 'pygame': 1, 'regex': 4, 'figcaption': 1, 'def': 2, 'global-variable': 1, 'bash': 3, 'reference': 1, 'virtual-functions': 1, 'data': 1, 'formatt': 1, 'emulator': 1, 'kotlin': 4, 'android-asynctask': 1, 'opencv': 2, 'casting': 1, 'anaconda': 3, 'json': 2, 'map': 1, 'input': 2, 'jupyter': 2, 'sklearn': 1, 'unicode': 1, 'cpu': 1, '2d-array': 1, 'pyqt': 1, 'visual-studio': 1, 'winapi': 2, 'module': 1, 'primes': 2, 'binary-search': 1, 'rgb': 1, 'permissions': 2, 'coding': 7, 'sqlite3': 2, 'segmentation-fault': 2, 'shell': 3, 'if문': 3, 'programming': 2, 'terminal': 1, 'grep': 2, 'dynamic-allocation': 1, 'replace': 1, 'conditional-statement': 2, 'cv2': 1, 'gui': 2, 'visual': 1, 'object': 1, 'if-else': 1, 'ubuntu': 3, 'binary': 1, 'math': 1, 'stt': 1, 'bluetooth': 1, 'label': 1, 'excel': 1, 'geolocation': 1, 'char': 2, 'scraping': 1, 'turtle': 2, 'flex': 1, 'operator-overloading': 1, 'querying': 1, 'orm': 1, 'sqlite': 1, 'data-structure': 1, 'binary-tree': 1, 'thread': 1, 'vscode': 1, 'raspberry-pi': 1, 'pop': 1, 'push': 2, 'inheritance': 1, 'constructor': 2, 'boolean': 1, 'calculate': 1, '3d': 1, 'php': 4, 'putty': 1, 'file-io': 1, 'pycharm': 1, '용량': 1, 'oracle': 1, 'install': 1, 'code': 1, 'deep-learning': 1, 'scrollbar': 1, 'duplicate': 1, 'string': 1, 'print': 1, 'emoji': 1, 'regexp': 1, 'list-comprehension': 1}\n"
     ]
    }
   ],
   "source": [
    "# 질문의 빈도를 체크하는 딕셔너리를 만든 후, 빈도를 체크해보자. \n",
    "import time\n",
    "\n",
    "frequency = {}\n",
    "\n",
    "import requests\n",
    "from bs4 import BeautifulSoup\n",
    "\n",
    "for i in range(1,11):\n",
    "    res = requests.get(\"https://hashcode.co.kr/?page={}\".format(i), user_agent)\n",
    "    soup = BeautifulSoup(res.text, \"html.parser\") #soup에는 요청을 보낸 것에 대한 정보가 parsing이 되어 저장되어 있음\n",
    "\n",
    "    # ul 태그를 모두 찾고, 1번 안에 있응 li 태그의 text 추출\n",
    "\n",
    "    ul_tags = soup.find_all(\"ul\", \"question-tags\")\n",
    "    for ul in ul_tags:\n",
    "        li_tags = ul.find_all(\"li\")\n",
    "        for li in li_tags:\n",
    "            tag = li.text.strip() # 공백 제거\n",
    "            if tag not in frequency:\n",
    "                frequency[tag] = 1\n",
    "            else:\n",
    "                frequency[tag] += 1\n",
    "    time.sleep(0.5)\n",
    "    \n",
    "print(frequency)"
   ]
  },
  {
   "cell_type": "code",
   "execution_count": 9,
   "id": "0fb2332c-ffb9-4fe4-879c-9cc303adcb8d",
   "metadata": {},
   "outputs": [
    {
     "data": {
      "text/plain": [
       "[('python', 244),\n",
       " ('c', 41),\n",
       " ('java', 35),\n",
       " ('c++', 26),\n",
       " ('list', 14),\n",
       " ('pandas', 13),\n",
       " ('selenium', 12),\n",
       " ('javascript', 11),\n",
       " ('for', 10),\n",
       " ('android', 10)]"
      ]
     },
     "execution_count": 9,
     "metadata": {},
     "output_type": "execute_result"
    }
   ],
   "source": [
    "# Counter를 사용해 가장 빈도가 높은 value들을 추출 넷플릭스 문제에도 활용가능\n",
    "from collections import Counter\n",
    "\n",
    "counter = Counter(frequency)\n",
    "\n",
    "counter.most_common(10)"
   ]
  },
  {
   "cell_type": "code",
   "execution_count": 13,
   "id": "64ead1de-2f6a-489d-ab28-edc3a60f2855",
   "metadata": {},
   "outputs": [
    {
     "data": {
      "text/plain": [
       "<AxesSubplot:>"
      ]
     },
     "execution_count": 13,
     "metadata": {},
     "output_type": "execute_result"
    },
    {
     "data": {
      "image/png": "[encoded data removed]",
      "text/plain": [
       "<Figure size 432x288 with 1 Axes>"
      ]
     },
     "metadata": {
      "needs_background": "light"
     },
     "output_type": "display_data"
    }
   ],
   "source": [
    "import seaborn as sns\n",
    "\n",
    "x = [elem[0] for elem in counter.most_common(10)]\n",
    "y = [elem[1] for elem in counter.most_common(10)]\n",
    "sns.barplot(x=x,y=y)"
   ]
  },
  {
   "cell_type": "code",
   "execution_count": 15,
   "id": "97205e81-ee80-4b88-8b9b-6f4268999241",
   "metadata": {},
   "outputs": [
    {
     "data": {
      "text/plain": [
       "<AxesSubplot:title={'center':'Frequency of question in Hashcode'}, xlabel='Tag', ylabel='Frequency'>"
      ]
     },
     "execution_count": 15,
     "metadata": {},
     "output_type": "execute_result"
    },
    {
     "data": {
      "image/png": "[encoded data removed]",
      "text/plain": [
       "<Figure size 1440x720 with 1 Axes>"
      ]
     },
     "metadata": {
      "needs_background": "light"
     },
     "output_type": "display_data"
    }
   ],
   "source": [
    "import matplotlib.pyplot as plt\n",
    "\n",
    "plt.figure(figsize=(20,10))\n",
    "plt.title(\"Frequency of question in Hashcode\")\n",
    "plt.xlabel(\"Tag\")\n",
    "plt.ylabel(\"Frequency\")\n",
    "\n",
    "sns.barplot(x=x, y=y)"
   ]
  },
  {
   "cell_type": "code",
   "execution_count": null,
   "id": "ada1efa3-3b3d-4cfa-8bea-14ace1e344a9",
   "metadata": {},
   "outputs": [],
   "source": []
  }
 ],
 "metadata": {
  "kernelspec": {
   "display_name": "Python 3 (ipykernel)",
   "language": "python",
   "name": "python3"
  },
  "language_info": {
   "codemirror_mode": {
    "name": "ipython",
    "version": 3
   },
   "file_extension": ".py",
   "mimetype": "text/x-python",
   "name": "python",
   "nbconvert_exporter": "python",
   "pygments_lexer": "ipython3",
   "version": "3.9.12"
  }
 },
 "nbformat": 4,
 "nbformat_minor": 5
}
