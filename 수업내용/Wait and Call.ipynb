{
 "cells": [
  {
   "cell_type": "code",
   "execution_count": 1,
   "id": "a07af35a-d6e9-453d-8acb-8fde124ce111",
   "metadata": {},
   "outputs": [],
   "source": [
    "# Wait을 이용해서 동적 웹 사이트를 스크래핑\n",
    "\n",
    "# Implicit Wait: 암묵적 기다림. 다 로딩이 될 때까지 지정한 시간동안 기다림 (다 로딩이 될 때까지 5초동안 기다려)\n",
    "# Explicit Wait: 명시적 기다림. 특정 요소에 대한 제약을 통한 기다림 (이 태그를 가져올 수 있을 때까지 기다려)"
   ]
  },
  {
   "cell_type": "code",
   "execution_count": 4,
   "id": "689c4197-b4e5-4221-8470-fa127a469679",
   "metadata": {},
   "outputs": [],
   "source": [
    "#스크래핑에 필요한 라이브러리 불러와보기\n",
    "\n",
    "from selenium import webdriver\n",
    "from selenium.webdriver.chrome.service import Service\n",
    "from selenium.webdriver.common.by import By\n",
    "from webdriver_manager.chrome import ChromeDriverManager"
   ]
  },
  {
   "cell_type": "code",
   "execution_count": 5,
   "id": "bfaa7e53-abb7-4f09-be9e-4c1ada454985",
   "metadata": {},
   "outputs": [],
   "source": [
    "# XPath: XML, HTML 문서 등의 요소의 위치를 경로로 표현하는 것을 의미\n"
   ]
  },
  {
   "cell_type": "code",
   "execution_count": 9,
   "id": "adcddb6b-b4fe-41c3-8bb7-ba48dedad986",
   "metadata": {},
   "outputs": [
    {
     "name": "stdout",
     "output_type": "stream",
     "text": [
      "\n"
     ]
    },
    {
     "ename": "NoSuchElementException",
     "evalue": "Message: no such element: Unable to locate element: {\"method\":\"xpath\",\"selector\":\"//*[@id=\"__next\"]/div/main/div[2]/div/div[4]/div[1]/div[1]/div/a/div[2]/p[1]\"}\n  (Session info: chrome=103.0.5060.134)\nStacktrace:\nBacktrace:\n\tOrdinal0 [0x00FB5FD3+2187219]\n\tOrdinal0 [0x00F4E6D1+1763025]\n\tOrdinal0 [0x00E63E78+802424]\n\tOrdinal0 [0x00E91C10+990224]\n\tOrdinal0 [0x00E91EAB+990891]\n\tOrdinal0 [0x00EBEC92+1174674]\n\tOrdinal0 [0x00EACBD4+1100756]\n\tOrdinal0 [0x00EBCFC2+1167298]\n\tOrdinal0 [0x00EAC9A6+1100198]\n\tOrdinal0 [0x00E86F80+946048]\n\tOrdinal0 [0x00E87E76+949878]\n\tGetHandleVerifier [0x012590C2+2721218]\n\tGetHandleVerifier [0x0124AAF0+2662384]\n\tGetHandleVerifier [0x0104137A+526458]\n\tGetHandleVerifier [0x01040416+522518]\n\tOrdinal0 [0x00F54EAB+1789611]\n\tOrdinal0 [0x00F597A8+1808296]\n\tOrdinal0 [0x00F59895+1808533]\n\tOrdinal0 [0x00F626C1+1844929]\n\tBaseThreadInitThunk [0x763BFA29+25]\n\tRtlGetAppContainerNamedObjectPath [0x77B57A9E+286]\n\tRtlGetAppContainerNamedObjectPath [0x77B57A6E+238]\n",
     "output_type": "error",
     "traceback": [
      "\u001b[1;31m---------------------------------------------------------------------------\u001b[0m",
      "\u001b[1;31mNoSuchElementException\u001b[0m                    Traceback (most recent call last)",
      "Input \u001b[1;32mIn [9]\u001b[0m, in \u001b[0;36m<cell line: 6>\u001b[1;34m()\u001b[0m\n\u001b[0;32m      4\u001b[0m driver \u001b[38;5;241m=\u001b[39m webdriver\u001b[38;5;241m.\u001b[39mChrome(service\u001b[38;5;241m=\u001b[39mService(ChromeDriverManager()\u001b[38;5;241m.\u001b[39minstall()))\n\u001b[0;32m      5\u001b[0m driver\u001b[38;5;241m.\u001b[39mget(\u001b[38;5;124m\"\u001b[39m\u001b[38;5;124mhttps://indistreet.com/live?sortOption=startDate\u001b[39m\u001b[38;5;124m%\u001b[39m\u001b[38;5;124m3AASC\u001b[39m\u001b[38;5;124m\"\u001b[39m)\n\u001b[1;32m----> 6\u001b[0m \u001b[43mdriver\u001b[49m\u001b[38;5;241;43m.\u001b[39;49m\u001b[43mfind_element\u001b[49m\u001b[43m(\u001b[49m\u001b[43mBy\u001b[49m\u001b[38;5;241;43m.\u001b[39;49m\u001b[43mXPATH\u001b[49m\u001b[43m,\u001b[49m\u001b[43m \u001b[49m\u001b[38;5;124;43m'\u001b[39;49m\u001b[38;5;124;43m//*[@id=\u001b[39;49m\u001b[38;5;124;43m\"\u001b[39;49m\u001b[38;5;124;43m__next\u001b[39;49m\u001b[38;5;124;43m\"\u001b[39;49m\u001b[38;5;124;43m]/div/main/div[2]/div/div[4]/div[1]/div[1]/div/a/div[2]/p[1]\u001b[39;49m\u001b[38;5;124;43m'\u001b[39;49m\u001b[43m)\u001b[49m\n",
      "File \u001b[1;32m~\\anaconda3\\lib\\site-packages\\selenium\\webdriver\\remote\\webdriver.py:857\u001b[0m, in \u001b[0;36mWebDriver.find_element\u001b[1;34m(self, by, value)\u001b[0m\n\u001b[0;32m    854\u001b[0m     by \u001b[38;5;241m=\u001b[39m By\u001b[38;5;241m.\u001b[39mCSS_SELECTOR\n\u001b[0;32m    855\u001b[0m     value \u001b[38;5;241m=\u001b[39m \u001b[38;5;124m'\u001b[39m\u001b[38;5;124m[name=\u001b[39m\u001b[38;5;124m\"\u001b[39m\u001b[38;5;132;01m%s\u001b[39;00m\u001b[38;5;124m\"\u001b[39m\u001b[38;5;124m]\u001b[39m\u001b[38;5;124m'\u001b[39m \u001b[38;5;241m%\u001b[39m value\n\u001b[1;32m--> 857\u001b[0m \u001b[38;5;28;01mreturn\u001b[39;00m \u001b[38;5;28;43mself\u001b[39;49m\u001b[38;5;241;43m.\u001b[39;49m\u001b[43mexecute\u001b[49m\u001b[43m(\u001b[49m\u001b[43mCommand\u001b[49m\u001b[38;5;241;43m.\u001b[39;49m\u001b[43mFIND_ELEMENT\u001b[49m\u001b[43m,\u001b[49m\u001b[43m \u001b[49m\u001b[43m{\u001b[49m\n\u001b[0;32m    858\u001b[0m \u001b[43m    \u001b[49m\u001b[38;5;124;43m'\u001b[39;49m\u001b[38;5;124;43musing\u001b[39;49m\u001b[38;5;124;43m'\u001b[39;49m\u001b[43m:\u001b[49m\u001b[43m \u001b[49m\u001b[43mby\u001b[49m\u001b[43m,\u001b[49m\n\u001b[0;32m    859\u001b[0m \u001b[43m    \u001b[49m\u001b[38;5;124;43m'\u001b[39;49m\u001b[38;5;124;43mvalue\u001b[39;49m\u001b[38;5;124;43m'\u001b[39;49m\u001b[43m:\u001b[49m\u001b[43m \u001b[49m\u001b[43mvalue\u001b[49m\u001b[43m}\u001b[49m\u001b[43m)\u001b[49m[\u001b[38;5;124m'\u001b[39m\u001b[38;5;124mvalue\u001b[39m\u001b[38;5;124m'\u001b[39m]\n",
      "File \u001b[1;32m~\\anaconda3\\lib\\site-packages\\selenium\\webdriver\\remote\\webdriver.py:435\u001b[0m, in \u001b[0;36mWebDriver.execute\u001b[1;34m(self, driver_command, params)\u001b[0m\n\u001b[0;32m    433\u001b[0m response \u001b[38;5;241m=\u001b[39m \u001b[38;5;28mself\u001b[39m\u001b[38;5;241m.\u001b[39mcommand_executor\u001b[38;5;241m.\u001b[39mexecute(driver_command, params)\n\u001b[0;32m    434\u001b[0m \u001b[38;5;28;01mif\u001b[39;00m response:\n\u001b[1;32m--> 435\u001b[0m     \u001b[38;5;28;43mself\u001b[39;49m\u001b[38;5;241;43m.\u001b[39;49m\u001b[43merror_handler\u001b[49m\u001b[38;5;241;43m.\u001b[39;49m\u001b[43mcheck_response\u001b[49m\u001b[43m(\u001b[49m\u001b[43mresponse\u001b[49m\u001b[43m)\u001b[49m\n\u001b[0;32m    436\u001b[0m     response[\u001b[38;5;124m'\u001b[39m\u001b[38;5;124mvalue\u001b[39m\u001b[38;5;124m'\u001b[39m] \u001b[38;5;241m=\u001b[39m \u001b[38;5;28mself\u001b[39m\u001b[38;5;241m.\u001b[39m_unwrap_value(\n\u001b[0;32m    437\u001b[0m         response\u001b[38;5;241m.\u001b[39mget(\u001b[38;5;124m'\u001b[39m\u001b[38;5;124mvalue\u001b[39m\u001b[38;5;124m'\u001b[39m, \u001b[38;5;28;01mNone\u001b[39;00m))\n\u001b[0;32m    438\u001b[0m     \u001b[38;5;28;01mreturn\u001b[39;00m response\n",
      "File \u001b[1;32m~\\anaconda3\\lib\\site-packages\\selenium\\webdriver\\remote\\errorhandler.py:247\u001b[0m, in \u001b[0;36mErrorHandler.check_response\u001b[1;34m(self, response)\u001b[0m\n\u001b[0;32m    245\u001b[0m         alert_text \u001b[38;5;241m=\u001b[39m value[\u001b[38;5;124m'\u001b[39m\u001b[38;5;124malert\u001b[39m\u001b[38;5;124m'\u001b[39m]\u001b[38;5;241m.\u001b[39mget(\u001b[38;5;124m'\u001b[39m\u001b[38;5;124mtext\u001b[39m\u001b[38;5;124m'\u001b[39m)\n\u001b[0;32m    246\u001b[0m     \u001b[38;5;28;01mraise\u001b[39;00m exception_class(message, screen, stacktrace, alert_text)  \u001b[38;5;66;03m# type: ignore[call-arg]  # mypy is not smart enough here\u001b[39;00m\n\u001b[1;32m--> 247\u001b[0m \u001b[38;5;28;01mraise\u001b[39;00m exception_class(message, screen, stacktrace)\n",
      "\u001b[1;31mNoSuchElementException\u001b[0m: Message: no such element: Unable to locate element: {\"method\":\"xpath\",\"selector\":\"//*[@id=\"__next\"]/div/main/div[2]/div/div[4]/div[1]/div[1]/div/a/div[2]/p[1]\"}\n  (Session info: chrome=103.0.5060.134)\nStacktrace:\nBacktrace:\n\tOrdinal0 [0x00FB5FD3+2187219]\n\tOrdinal0 [0x00F4E6D1+1763025]\n\tOrdinal0 [0x00E63E78+802424]\n\tOrdinal0 [0x00E91C10+990224]\n\tOrdinal0 [0x00E91EAB+990891]\n\tOrdinal0 [0x00EBEC92+1174674]\n\tOrdinal0 [0x00EACBD4+1100756]\n\tOrdinal0 [0x00EBCFC2+1167298]\n\tOrdinal0 [0x00EAC9A6+1100198]\n\tOrdinal0 [0x00E86F80+946048]\n\tOrdinal0 [0x00E87E76+949878]\n\tGetHandleVerifier [0x012590C2+2721218]\n\tGetHandleVerifier [0x0124AAF0+2662384]\n\tGetHandleVerifier [0x0104137A+526458]\n\tGetHandleVerifier [0x01040416+522518]\n\tOrdinal0 [0x00F54EAB+1789611]\n\tOrdinal0 [0x00F597A8+1808296]\n\tOrdinal0 [0x00F59895+1808533]\n\tOrdinal0 [0x00F626C1+1844929]\n\tBaseThreadInitThunk [0x763BFA29+25]\n\tRtlGetAppContainerNamedObjectPath [0x77B57A9E+286]\n\tRtlGetAppContainerNamedObjectPath [0x77B57A6E+238]\n"
     ]
    }
   ],
   "source": [
    "# 예시 사이트에 요청을 진행 후, 예시 사이트의 첫 번째 이벤트 제목 가져와보기\n",
    "# 우리가 원하는 요소의 xpath: //*[@id=\"__next\"]/div/main/div[2]/div/div[4]/div[1]/div[1]/div/a/div[2]/p[1] (copy XPATH 이용)\n",
    "\n",
    "driver = webdriver.Chrome(service=Service(ChromeDriverManager().install()))\n",
    "driver.get(\"https://indistreet.com/live?sortOption=startDate%3AASC\")\n",
    "driver.find_element(By.XPATH, '//*[@id=\"__next\"]/div/main/div[2]/div/div[4]/div[1]/div[1]/div/a/div[2]/p[1]')"
   ]
  },
  {
   "cell_type": "code",
   "execution_count": 10,
   "id": "481b0503-7a78-414e-b422-46e30dd32e28",
   "metadata": {},
   "outputs": [],
   "source": [
    "# 이 웹페이지는 동적 웹페이지이기 때문에 오류가 발생함. 그러므로 성공적인 스크래핑을 위해서는 Wait을 사용해야 함"
   ]
  },
  {
   "cell_type": "code",
   "execution_count": 11,
   "id": "a3dad758-2e87-4685-9901-6569d878ef3a",
   "metadata": {},
   "outputs": [],
   "source": [
    "# Implicit Wait\n",
    "# .implicitly_wait()을 활용해서 암시적 기다림을 적용할 수 있음. \n",
    "# 반드시 해당시간을 기다리는 것이 아니라, 로딩이 다 될때까지의 한계 시간의 의미를 가짐. \n"
   ]
  },
  {
   "cell_type": "code",
   "execution_count": 13,
   "id": "6b402b23-79b0-41c7-9059-5ae81bccc842",
   "metadata": {},
   "outputs": [
    {
     "name": "stdout",
     "output_type": "stream",
     "text": [
      "\n",
      "Sign up\n"
     ]
    }
   ],
   "source": [
    "# 10초간 Implicit Wait을 진행하도록 해서 스크래핑이 잘 이루어지도록 수정해보자.\n",
    "from selenium.webdriver.support.ui import WebDriverWait\n",
    "\n",
    "with webdriver.Chrome(service=Service(ChromeDriverManager().install())) as driver:\n",
    "    driver.get(\"https://indistreet.com/live?sortOption=startDate%3AASC\")\n",
    "    driver.implicitly_wait(10) #무조건 10초를 기다리는 건 아님. 그 전에 렌더링이 끝나면 바로 다음 걸로 넘어감.\n",
    "    print(driver.find_element(By.XPATH, '//*[@id=\"__next\"]/div/main/div[2]/div/div[4]/div[1]/div[1]/div/a/div[2]/p[1]').text)"
   ]
  },
  {
   "cell_type": "code",
   "execution_count": 14,
   "id": "5356e1db-f4fc-4dc1-bca7-f146d4ee288a",
   "metadata": {},
   "outputs": [],
   "source": [
    "# Explicit Wait\n",
    "# WebDriverWait() 과 두 메서드를 활용해서 명시적 기다림을 적용할 수 있음. \n",
    "# untill(): 인자의 조건이 만족될 때까지\n",
    "# untill_not(): 인자의 조건이 만족되지 않을 때까지\n",
    "\n"
   ]
  },
  {
   "cell_type": "code",
   "execution_count": 21,
   "id": "5950eab9-b0aa-4351-8c0e-65d2e6519a72",
   "metadata": {},
   "outputs": [
    {
     "name": "stdout",
     "output_type": "stream",
     "text": [
      "\n",
      "Sign up\n"
     ]
    }
   ],
   "source": [
    "from selenium.webdriver.support import expected_conditions as EC\n",
    "\n",
    "with webdriver.Chrome(service=Service(ChromeDriverManager().install())) as driver:\n",
    "    driver.get(\"https://indistreet.com/live?sortOption=startDate%3AASC\")\n",
    "    element = WebDriverWait(driver,10).until(EC.presence_of_element_located((By.XPATH, '//*[@id=\"__next\"]/div/main/div[2]/div/div[4]/div[1]/div[1]/div/a/div[2]/p[1]'))) # 어떤 element가 존재할 때까지 기다려. 그 위치는 ~ \n",
    "    print(element.text)"
   ]
  },
  {
   "cell_type": "code",
   "execution_count": 25,
   "id": "1a8b4b8b-8645-4456-952e-4336c1849b89",
   "metadata": {},
   "outputs": [
    {
     "name": "stdout",
     "output_type": "stream",
     "text": [
      "\n",
      "Sign up\n",
      "이디어츠 1st EP 발매기념 공연\n",
      "도라페스트 4탄\n",
      "NO PASARAN! Vol.1\n",
      "LIVE in NOV 2019\n",
      "LIVE in DEC 2019\n",
      "오롯한 라이브와 함께\n",
      "LIVE in FEB\n",
      "2020 PUNK Marathon\n",
      "THE LIGHTS\n"
     ]
    }
   ],
   "source": [
    "# 여러 공연 제목 가져오기 (10개의 이름을 스크래핑)\n",
    "with webdriver.Chrome(service=Service(ChromeDriverManager().install())) as driver:\n",
    "    driver.get(\"https://indistreet.com/live?sortOption=startDate%3AASC\")\n",
    "    driver.implicitly_wait(10)\n",
    "    \n",
    "    for i in range(1,11):\n",
    "        element = driver.find_element(By.XPATH, '//*[@id=\"__next\"]/div/main/div[2]/div/div[4]/div[1]/div[{}]/div/a/div[2]/p[1]'.format(i))\n",
    "        print(element.text)"
   ]
  },
  {
   "cell_type": "code",
   "execution_count": null,
   "id": "63e93156-7f74-4456-acc1-71008c68512d",
   "metadata": {},
   "outputs": [],
   "source": []
  }
 ],
 "metadata": {
  "kernelspec": {
   "display_name": "Python 3 (ipykernel)",
   "language": "python",
   "name": "python3"
  },
  "language_info": {
   "codemirror_mode": {
    "name": "ipython",
    "version": 3
   },
   "file_extension": ".py",
   "mimetype": "text/x-python",
   "name": "python",
   "nbconvert_exporter": "python",
   "pygments_lexer": "ipython3",
   "version": "3.9.12"
  }
 },
 "nbformat": 4,
 "nbformat_minor": 5
}
