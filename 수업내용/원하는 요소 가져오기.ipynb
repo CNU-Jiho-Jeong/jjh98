{
 "cells": [
  {
   "cell_type": "code",
   "execution_count": 1,
   "id": "caa9bc7a-cb4d-4a50-b35f-3d51cfadcc68",
   "metadata": {},
   "outputs": [],
   "source": [
    "# 스크래핑에 필요한 라이브러리 불러오기\n",
    "\n",
    "import requests\n",
    "from bs4 import BeautifulSoup"
   ]
  },
  {
   "cell_type": "code",
   "execution_count": 3,
   "id": "cb90c3a1-1adc-4e51-8fe9-78681fd03f82",
   "metadata": {},
   "outputs": [],
   "source": [
    "res = requests.get(\"http://books.toscrape.com/catalogue/category/books/travel_2/index.html\")\n",
    "soup = BeautifulSoup(res.text, \"html.parser\")\n"
   ]
  },
  {
   "cell_type": "code",
   "execution_count": 4,
   "id": "89841c1f-f2af-4d28-bd70-bfa5789705f6",
   "metadata": {},
   "outputs": [
    {
     "data": {
      "text/plain": [
       "<h3><a href=\"../../../its-only-the-himalayas_981/index.html\" title=\"It's Only the Himalayas\">It's Only the Himalayas</a></h3>"
      ]
     },
     "execution_count": 4,
     "metadata": {},
     "output_type": "execute_result"
    }
   ],
   "source": [
    "# h3 태그에 해당하는 요소를 하나 찾기\n",
    "\n",
    "soup.find(\"h3\")"
   ]
  },
  {
   "cell_type": "code",
   "execution_count": 5,
   "id": "a87ba6dc-a78c-4ad5-8347-68d662dc3a72",
   "metadata": {},
   "outputs": [
    {
     "data": {
      "text/plain": [
       "[<h3><a href=\"../../../its-only-the-himalayas_981/index.html\" title=\"It's Only the Himalayas\">It's Only the Himalayas</a></h3>,\n",
       " <h3><a href=\"../../../full-moon-over-noahs-ark-an-odyssey-to-mount-ararat-and-beyond_811/index.html\" title=\"Full Moon over Noahâs Ark: An Odyssey to Mount Ararat and Beyond\">Full Moon over Noahâs ...</a></h3>,\n",
       " <h3><a href=\"../../../see-america-a-celebration-of-our-national-parks-treasured-sites_732/index.html\" title=\"See America: A Celebration of Our National Parks &amp; Treasured Sites\">See America: A Celebration ...</a></h3>,\n",
       " <h3><a href=\"../../../vagabonding-an-uncommon-guide-to-the-art-of-long-term-world-travel_552/index.html\" title=\"Vagabonding: An Uncommon Guide to the Art of Long-Term World Travel\">Vagabonding: An Uncommon Guide ...</a></h3>,\n",
       " <h3><a href=\"../../../under-the-tuscan-sun_504/index.html\" title=\"Under the Tuscan Sun\">Under the Tuscan Sun</a></h3>,\n",
       " <h3><a href=\"../../../a-summer-in-europe_458/index.html\" title=\"A Summer In Europe\">A Summer In Europe</a></h3>,\n",
       " <h3><a href=\"../../../the-great-railway-bazaar_446/index.html\" title=\"The Great Railway Bazaar\">The Great Railway Bazaar</a></h3>,\n",
       " <h3><a href=\"../../../a-year-in-provence-provence-1_421/index.html\" title=\"A Year in Provence (Provence #1)\">A Year in Provence ...</a></h3>,\n",
       " <h3><a href=\"../../../the-road-to-little-dribbling-adventures-of-an-american-in-britain-notes-from-a-small-island-2_277/index.html\" title=\"The Road to Little Dribbling: Adventures of an American in Britain (Notes From a Small Island #2)\">The Road to Little ...</a></h3>,\n",
       " <h3><a href=\"../../../neither-here-nor-there-travels-in-europe_198/index.html\" title=\"Neither Here nor There: Travels in Europe\">Neither Here nor There: ...</a></h3>,\n",
       " <h3><a href=\"../../../1000-places-to-see-before-you-die_1/index.html\" title=\"1,000 Places to See Before You Die\">1,000 Places to See ...</a></h3>]"
      ]
     },
     "execution_count": 5,
     "metadata": {},
     "output_type": "execute_result"
    }
   ],
   "source": [
    "# h3 태그에 해당하는 요소를 모두 찾기\n",
    "soup.find_all(\"h3\")"
   ]
  },
  {
   "cell_type": "code",
   "execution_count": 7,
   "id": "d10b225b-e45f-4bef-807e-9cf5b3c2adbc",
   "metadata": {},
   "outputs": [
    {
     "data": {
      "text/plain": [
       "<h3><a href=\"../../../its-only-the-himalayas_981/index.html\" title=\"It's Only the Himalayas\">It's Only the Himalayas</a></h3>"
      ]
     },
     "execution_count": 7,
     "metadata": {},
     "output_type": "execute_result"
    }
   ],
   "source": [
    "#4번 셀과 동일\n",
    "result = soup.find_all(\"h3\")\n",
    "result[0]"
   ]
  },
  {
   "cell_type": "code",
   "execution_count": 9,
   "id": "23ce7982-848b-453a-ad4f-503515c68123",
   "metadata": {},
   "outputs": [],
   "source": [
    "book = soup.find(\"h3\")"
   ]
  },
  {
   "cell_type": "code",
   "execution_count": 10,
   "id": "dbb47c95-d9ea-4f23-af7f-7017bb29f9e7",
   "metadata": {},
   "outputs": [
    {
     "data": {
      "text/plain": [
       "<a href=\"../../../its-only-the-himalayas_981/index.html\" title=\"It's Only the Himalayas\">It's Only the Himalayas</a>"
      ]
     },
     "execution_count": 10,
     "metadata": {},
     "output_type": "execute_result"
    }
   ],
   "source": [
    "# h3에 있는 a태그 활용 가능\n",
    "book.a"
   ]
  },
  {
   "cell_type": "code",
   "execution_count": 11,
   "id": "5f1aa421-2011-4173-9431-3fad56128b02",
   "metadata": {},
   "outputs": [
    {
     "data": {
      "text/plain": [
       "\"It's Only the Himalayas\""
      ]
     },
     "execution_count": 11,
     "metadata": {},
     "output_type": "execute_result"
    }
   ],
   "source": [
    "# a 태그 안의 텍스트. 여기선 책 제목\n",
    "book.a.text"
   ]
  },
  {
   "cell_type": "code",
   "execution_count": 12,
   "id": "c0c89dea-39e9-463e-adc2-aec253b69ee4",
   "metadata": {},
   "outputs": [
    {
     "name": "stdout",
     "output_type": "stream",
     "text": [
      "It's Only the Himalayas\n",
      "Full Moon over Noahâs ...\n",
      "See America: A Celebration ...\n",
      "Vagabonding: An Uncommon Guide ...\n",
      "Under the Tuscan Sun\n",
      "A Summer In Europe\n",
      "The Great Railway Bazaar\n",
      "A Year in Provence ...\n",
      "The Road to Little ...\n",
      "Neither Here nor There: ...\n",
      "1,000 Places to See ...\n"
     ]
    }
   ],
   "source": [
    "for book in result:\n",
    "    print(book.a.text)"
   ]
  },
  {
   "cell_type": "code",
   "execution_count": 13,
   "id": "f94bb44f-3470-4d61-bf7c-a7dd8d6a385b",
   "metadata": {},
   "outputs": [
    {
     "name": "stdout",
     "output_type": "stream",
     "text": [
      "It's Only the Himalayas\n",
      "Full Moon over Noahâs Ark: An Odyssey to Mount Ararat and Beyond\n",
      "See America: A Celebration of Our National Parks & Treasured Sites\n",
      "Vagabonding: An Uncommon Guide to the Art of Long-Term World Travel\n",
      "Under the Tuscan Sun\n",
      "A Summer In Europe\n",
      "The Great Railway Bazaar\n",
      "A Year in Provence (Provence #1)\n",
      "The Road to Little Dribbling: Adventures of an American in Britain (Notes From a Small Island #2)\n",
      "Neither Here nor There: Travels in Europe\n",
      "1,000 Places to See Before You Die\n"
     ]
    }
   ],
   "source": [
    "# 제목 안 짤리게\n",
    "for book in result:\n",
    "    print(book.a[\"title\"])"
   ]
  },
  {
   "cell_type": "code",
   "execution_count": null,
   "id": "e7711d81-843c-4bd3-8396-7553ac3902cb",
   "metadata": {},
   "outputs": [],
   "source": []
  }
 ],
 "metadata": {
  "kernelspec": {
   "display_name": "Python 3 (ipykernel)",
   "language": "python",
   "name": "python3"
  },
  "language_info": {
   "codemirror_mode": {
    "name": "ipython",
    "version": 3
   },
   "file_extension": ".py",
   "mimetype": "text/x-python",
   "name": "python",
   "nbconvert_exporter": "python",
   "pygments_lexer": "ipython3",
   "version": "3.9.12"
  }
 },
 "nbformat": 4,
 "nbformat_minor": 5
}
