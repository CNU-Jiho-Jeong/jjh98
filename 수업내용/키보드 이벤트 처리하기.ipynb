{
 "cells": [
  {
   "cell_type": "code",
   "execution_count": 1,
   "id": "2ac2e70d-4d1b-46c0-9d7e-f7590eb57f06",
   "metadata": {},
   "outputs": [
    {
     "data": {
      "text/plain": [
       "'\\n키보드로 일어날 수 있는 대표적인 이벤트\\n - 키보드 누르기\\n - 키보드 떼기 등등\\n\\n키보드 입력은 다음과 같은 과정을 거친다.\\n 1. 입력하고자 하는 대상 요소를 찾는다. (find_element() 이용)\\n 2. 입력하고자 하는 내용을 send_keys_to_element를 통해 전달한다.\\n 3. .perform() 을 통해 동작한다.\\n '"
      ]
     },
     "execution_count": 1,
     "metadata": {},
     "output_type": "execute_result"
    }
   ],
   "source": [
    "'''\n",
    "키보드로 일어날 수 있는 대표적인 이벤트\n",
    " - 키보드 누르기\n",
    " - 키보드 떼기 등등\n",
    "\n",
    "키보드 입력은 다음과 같은 과정을 거친다.\n",
    " 1. 입력하고자 하는 대상 요소를 찾는다. (find_element() 이용)\n",
    " 2. 입력하고자 하는 내용을 send_keys_to_element를 통해 전달한다.\n",
    " 3. .perform() 을 통해 동작한다.\n",
    " '''\n"
   ]
  },
  {
   "cell_type": "code",
   "execution_count": 3,
   "id": "8e692638-1eb3-42f4-81e5-1b1de09a87c0",
   "metadata": {},
   "outputs": [],
   "source": [
    "# 스크래핑에 필요한 라이브러리 불러오기\n",
    "\n",
    "from selenium import webdriver\n",
    "from selenium.webdriver import ActionChains  #action들을 연쇄적으로 수행할 수 있게하는 객체\n",
    "from selenium.webdriver.chrome.service import Service\n",
    "from selenium.webdriver.common.by import By\n",
    "from webdriver_manager.chrome import ChromeDriverManager\n",
    "from selenium.webdriver.common.actions.action_builder import ActionBuilder\n",
    "from selenium.webdriver import Keys, ActionChains"
   ]
  },
  {
   "cell_type": "code",
   "execution_count": 5,
   "id": "6d85da49-e278-43ce-814b-964e11df4e2a",
   "metadata": {},
   "outputs": [
    {
     "name": "stdout",
     "output_type": "stream",
     "text": [
      "\n"
     ]
    },
    {
     "ename": "NoSuchElementException",
     "evalue": "Message: no such element: Unable to locate element: {\"method\":\"css selector\",\"selector\":\"[id=\"user_email\"]\"}\n  (Session info: chrome=103.0.5060.134)\nStacktrace:\nBacktrace:\n\tOrdinal0 [0x00FB5FD3+2187219]\n\tOrdinal0 [0x00F4E6D1+1763025]\n\tOrdinal0 [0x00E63E78+802424]\n\tOrdinal0 [0x00E91C10+990224]\n\tOrdinal0 [0x00E91EAB+990891]\n\tOrdinal0 [0x00EBEC92+1174674]\n\tOrdinal0 [0x00EACBD4+1100756]\n\tOrdinal0 [0x00EBCFC2+1167298]\n\tOrdinal0 [0x00EAC9A6+1100198]\n\tOrdinal0 [0x00E86F80+946048]\n\tOrdinal0 [0x00E87E76+949878]\n\tGetHandleVerifier [0x012590C2+2721218]\n\tGetHandleVerifier [0x0124AAF0+2662384]\n\tGetHandleVerifier [0x0104137A+526458]\n\tGetHandleVerifier [0x01040416+522518]\n\tOrdinal0 [0x00F54EAB+1789611]\n\tOrdinal0 [0x00F597A8+1808296]\n\tOrdinal0 [0x00F59895+1808533]\n\tOrdinal0 [0x00F626C1+1844929]\n\tBaseThreadInitThunk [0x763BFA29+25]\n\tRtlGetAppContainerNamedObjectPath [0x77B57A9E+286]\n\tRtlGetAppContainerNamedObjectPath [0x77B57A6E+238]\n",
     "output_type": "error",
     "traceback": [
      "\u001b[1;31m---------------------------------------------------------------------------\u001b[0m",
      "\u001b[1;31mNoSuchElementException\u001b[0m                    Traceback (most recent call last)",
      "Input \u001b[1;32mIn [5]\u001b[0m, in \u001b[0;36m<cell line: 10>\u001b[1;34m()\u001b[0m\n\u001b[0;32m      8\u001b[0m time\u001b[38;5;241m.\u001b[39msleep(\u001b[38;5;241m1\u001b[39m)\n\u001b[0;32m      9\u001b[0m \u001b[38;5;66;03m# 아이디 input 요소에 아이디 입력\u001b[39;00m\n\u001b[1;32m---> 10\u001b[0m id_input \u001b[38;5;241m=\u001b[39m \u001b[43mdriver\u001b[49m\u001b[38;5;241;43m.\u001b[39;49m\u001b[43mfind_element\u001b[49m\u001b[43m(\u001b[49m\u001b[43mBy\u001b[49m\u001b[38;5;241;43m.\u001b[39;49m\u001b[43mID\u001b[49m\u001b[43m,\u001b[49m\u001b[43m \u001b[49m\u001b[38;5;124;43m\"\u001b[39;49m\u001b[38;5;124;43muser_email\u001b[39;49m\u001b[38;5;124;43m\"\u001b[39;49m\u001b[43m)\u001b[49m\n\u001b[0;32m     11\u001b[0m ActionChains(driver)\u001b[38;5;241m.\u001b[39msend_keys_to_element(id_input, \u001b[38;5;124m\"\u001b[39m\u001b[38;5;124mcraftjung@naver.com\u001b[39m\u001b[38;5;124m\"\u001b[39m)\u001b[38;5;241m.\u001b[39mperform()\n\u001b[0;32m     12\u001b[0m time\u001b[38;5;241m.\u001b[39msleep(\u001b[38;5;241m1\u001b[39m)\n",
      "File \u001b[1;32m~\\anaconda3\\lib\\site-packages\\selenium\\webdriver\\remote\\webdriver.py:857\u001b[0m, in \u001b[0;36mWebDriver.find_element\u001b[1;34m(self, by, value)\u001b[0m\n\u001b[0;32m    854\u001b[0m     by \u001b[38;5;241m=\u001b[39m By\u001b[38;5;241m.\u001b[39mCSS_SELECTOR\n\u001b[0;32m    855\u001b[0m     value \u001b[38;5;241m=\u001b[39m \u001b[38;5;124m'\u001b[39m\u001b[38;5;124m[name=\u001b[39m\u001b[38;5;124m\"\u001b[39m\u001b[38;5;132;01m%s\u001b[39;00m\u001b[38;5;124m\"\u001b[39m\u001b[38;5;124m]\u001b[39m\u001b[38;5;124m'\u001b[39m \u001b[38;5;241m%\u001b[39m value\n\u001b[1;32m--> 857\u001b[0m \u001b[38;5;28;01mreturn\u001b[39;00m \u001b[38;5;28;43mself\u001b[39;49m\u001b[38;5;241;43m.\u001b[39;49m\u001b[43mexecute\u001b[49m\u001b[43m(\u001b[49m\u001b[43mCommand\u001b[49m\u001b[38;5;241;43m.\u001b[39;49m\u001b[43mFIND_ELEMENT\u001b[49m\u001b[43m,\u001b[49m\u001b[43m \u001b[49m\u001b[43m{\u001b[49m\n\u001b[0;32m    858\u001b[0m \u001b[43m    \u001b[49m\u001b[38;5;124;43m'\u001b[39;49m\u001b[38;5;124;43musing\u001b[39;49m\u001b[38;5;124;43m'\u001b[39;49m\u001b[43m:\u001b[49m\u001b[43m \u001b[49m\u001b[43mby\u001b[49m\u001b[43m,\u001b[49m\n\u001b[0;32m    859\u001b[0m \u001b[43m    \u001b[49m\u001b[38;5;124;43m'\u001b[39;49m\u001b[38;5;124;43mvalue\u001b[39;49m\u001b[38;5;124;43m'\u001b[39;49m\u001b[43m:\u001b[49m\u001b[43m \u001b[49m\u001b[43mvalue\u001b[49m\u001b[43m}\u001b[49m\u001b[43m)\u001b[49m[\u001b[38;5;124m'\u001b[39m\u001b[38;5;124mvalue\u001b[39m\u001b[38;5;124m'\u001b[39m]\n",
      "File \u001b[1;32m~\\anaconda3\\lib\\site-packages\\selenium\\webdriver\\remote\\webdriver.py:435\u001b[0m, in \u001b[0;36mWebDriver.execute\u001b[1;34m(self, driver_command, params)\u001b[0m\n\u001b[0;32m    433\u001b[0m response \u001b[38;5;241m=\u001b[39m \u001b[38;5;28mself\u001b[39m\u001b[38;5;241m.\u001b[39mcommand_executor\u001b[38;5;241m.\u001b[39mexecute(driver_command, params)\n\u001b[0;32m    434\u001b[0m \u001b[38;5;28;01mif\u001b[39;00m response:\n\u001b[1;32m--> 435\u001b[0m     \u001b[38;5;28;43mself\u001b[39;49m\u001b[38;5;241;43m.\u001b[39;49m\u001b[43merror_handler\u001b[49m\u001b[38;5;241;43m.\u001b[39;49m\u001b[43mcheck_response\u001b[49m\u001b[43m(\u001b[49m\u001b[43mresponse\u001b[49m\u001b[43m)\u001b[49m\n\u001b[0;32m    436\u001b[0m     response[\u001b[38;5;124m'\u001b[39m\u001b[38;5;124mvalue\u001b[39m\u001b[38;5;124m'\u001b[39m] \u001b[38;5;241m=\u001b[39m \u001b[38;5;28mself\u001b[39m\u001b[38;5;241m.\u001b[39m_unwrap_value(\n\u001b[0;32m    437\u001b[0m         response\u001b[38;5;241m.\u001b[39mget(\u001b[38;5;124m'\u001b[39m\u001b[38;5;124mvalue\u001b[39m\u001b[38;5;124m'\u001b[39m, \u001b[38;5;28;01mNone\u001b[39;00m))\n\u001b[0;32m    438\u001b[0m     \u001b[38;5;28;01mreturn\u001b[39;00m response\n",
      "File \u001b[1;32m~\\anaconda3\\lib\\site-packages\\selenium\\webdriver\\remote\\errorhandler.py:247\u001b[0m, in \u001b[0;36mErrorHandler.check_response\u001b[1;34m(self, response)\u001b[0m\n\u001b[0;32m    245\u001b[0m         alert_text \u001b[38;5;241m=\u001b[39m value[\u001b[38;5;124m'\u001b[39m\u001b[38;5;124malert\u001b[39m\u001b[38;5;124m'\u001b[39m]\u001b[38;5;241m.\u001b[39mget(\u001b[38;5;124m'\u001b[39m\u001b[38;5;124mtext\u001b[39m\u001b[38;5;124m'\u001b[39m)\n\u001b[0;32m    246\u001b[0m     \u001b[38;5;28;01mraise\u001b[39;00m exception_class(message, screen, stacktrace, alert_text)  \u001b[38;5;66;03m# type: ignore[call-arg]  # mypy is not smart enough here\u001b[39;00m\n\u001b[1;32m--> 247\u001b[0m \u001b[38;5;28;01mraise\u001b[39;00m exception_class(message, screen, stacktrace)\n",
      "\u001b[1;31mNoSuchElementException\u001b[0m: Message: no such element: Unable to locate element: {\"method\":\"css selector\",\"selector\":\"[id=\"user_email\"]\"}\n  (Session info: chrome=103.0.5060.134)\nStacktrace:\nBacktrace:\n\tOrdinal0 [0x00FB5FD3+2187219]\n\tOrdinal0 [0x00F4E6D1+1763025]\n\tOrdinal0 [0x00E63E78+802424]\n\tOrdinal0 [0x00E91C10+990224]\n\tOrdinal0 [0x00E91EAB+990891]\n\tOrdinal0 [0x00EBEC92+1174674]\n\tOrdinal0 [0x00EACBD4+1100756]\n\tOrdinal0 [0x00EBCFC2+1167298]\n\tOrdinal0 [0x00EAC9A6+1100198]\n\tOrdinal0 [0x00E86F80+946048]\n\tOrdinal0 [0x00E87E76+949878]\n\tGetHandleVerifier [0x012590C2+2721218]\n\tGetHandleVerifier [0x0124AAF0+2662384]\n\tGetHandleVerifier [0x0104137A+526458]\n\tGetHandleVerifier [0x01040416+522518]\n\tOrdinal0 [0x00F54EAB+1789611]\n\tOrdinal0 [0x00F597A8+1808296]\n\tOrdinal0 [0x00F59895+1808533]\n\tOrdinal0 [0x00F626C1+1844929]\n\tBaseThreadInitThunk [0x763BFA29+25]\n\tRtlGetAppContainerNamedObjectPath [0x77B57A9E+286]\n\tRtlGetAppContainerNamedObjectPath [0x77B57A6E+238]\n"
     ]
    }
   ],
   "source": [
    "import time\n",
    "driver = webdriver.Chrome(service=Service(ChromeDriverManager().install()))\n",
    "driver.get(\"https://hashcode.co.kr/\")\n",
    "time.sleep(1)\n",
    "\n",
    "button = driver.find_element(By.CLASS_NAME, \"nav-link.nav-signin\") # \"nav-link.nav-signin\" 에 해당하는 class이름을 가진 요소를 찾는다. \n",
    "ActionChains(driver).click(button).perform() # 그 다음 그 요소를 누른다. \n",
    "time.sleep(1)\n",
    "# 아이디 input 요소에 아이디 입력\n",
    "id_input = driver.find_element(By.ID, \"user_email\")\n",
    "ActionChains(driver).send_keys_to_element(id_input, \"craftjung@naver.com\").perform()\n",
    "time.sleep(1)\n",
    "# 패스워드 input 요소에 비밀번호 입력\n",
    "pw_input = driver.find_element(By.ID,\"user_password\")\n",
    "ActionChains(driver).send_keys_to_element(pw_input, \"fjdksla#1\").perform()\n",
    "time.sleep(1)\n",
    "# 로그인 버튼을 눌러서 로그인\n",
    "login_button = driver.find_element(By.ID, \"btn-sign-in\") # \"nav-link.nav-signin\" 에 해당하는 class이름을 가진 요소를 찾는다. \n",
    "ActionChains(driver).click(button).perform() # 그 다음 그 요소를 누른다. \n",
    "time.sleep(1)"
   ]
  },
  {
   "cell_type": "code",
   "execution_count": null,
   "id": "f93d427b-06c1-428d-8d80-0e95ecdebf82",
   "metadata": {},
   "outputs": [],
   "source": []
  }
 ],
 "metadata": {
  "kernelspec": {
   "display_name": "Python 3 (ipykernel)",
   "language": "python",
   "name": "python3"
  },
  "language_info": {
   "codemirror_mode": {
    "name": "ipython",
    "version": 3
   },
   "file_extension": ".py",
   "mimetype": "text/x-python",
   "name": "python",
   "nbconvert_exporter": "python",
   "pygments_lexer": "ipython3",
   "version": "3.9.12"
  }
 },
 "nbformat": 4,
 "nbformat_minor": 5
}
