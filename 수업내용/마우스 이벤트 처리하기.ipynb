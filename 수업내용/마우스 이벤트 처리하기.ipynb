{
 "cells": [
  {
   "cell_type": "code",
   "execution_count": 1,
   "id": "dca9bc0a-f170-4e76-ba03-63ce453f109b",
   "metadata": {},
   "outputs": [],
   "source": [
    "# Selenium을 이용해서 마우스 Event를 동작해보기. \n",
    "# 로그인 과정을 자동화하는 것이 목표\n"
   ]
  },
  {
   "cell_type": "code",
   "execution_count": 2,
   "id": "2e0fd90d-a0da-406a-86a5-2fd6740fa628",
   "metadata": {},
   "outputs": [],
   "source": [
    "# 웹 페이지에서 일어나는 일들을 Event라 함.\n",
    "# 마우스로 일어날 수 있는 이벤트로는 move, press down, press up 등등..."
   ]
  },
  {
   "cell_type": "code",
   "execution_count": 3,
   "id": "99ec40e2-4377-4418-9aa5-4fe46be3c9fc",
   "metadata": {},
   "outputs": [],
   "source": [
    "# 마우스 입력은 다음 과정을 거침\n",
    "# 1. 입력하고자 하는 대상 요소 찾음 (find_element()이용)\n",
    "# 2. 입력하고자 하는 내용을 click을 통해 전달함.\n",
    "# 3. .perform()을 통해 동작한다."
   ]
  },
  {
   "cell_type": "code",
   "execution_count": 5,
   "id": "a8c116b3-1e1a-4050-abfc-c31e93967677",
   "metadata": {},
   "outputs": [],
   "source": [
    "#스크래핑에 필요한 라이브러리 불러오기\n",
    "from selenium import webdriver\n",
    "from selenium.webdriver import ActionChains  #action들을 연쇄적으로 수행할 수 있게하는 객체\n",
    "from selenium.webdriver.chrome.service import Service\n",
    "from selenium.webdriver.common.by import By\n",
    "from webdriver_manager.chrome import ChromeDriverManager"
   ]
  },
  {
   "cell_type": "code",
   "execution_count": 8,
   "id": "895d826d-9294-43cd-a7ff-7f594270fca4",
   "metadata": {},
   "outputs": [
    {
     "name": "stdout",
     "output_type": "stream",
     "text": [
      "\n"
     ]
    }
   ],
   "source": [
    "# 주어진 웹사이트를 누른 후, 우리가 원하는 버튼 요소를 찾은 후 마우스 이벤트 실행시켜보기\n",
    "\n",
    "driver = webdriver.Chrome(service=Service(ChromeDriverManager().install())) # 크롬 브라우저 키기\n",
    "driver.get(\"https://hashcode.co.kr/\") # 사이트 접속하기\n",
    "driver.implicitly_wait(0.5) # 잠시 대기\n",
    "\n",
    "button = driver.find_element(By.CLASS_NAME, \"nav-link.nav-signin\") # \"nav-link.nav-signin\" 에 해당하는 class이름을 가진 요소를 찾는다. \n",
    "ActionChains(driver).click(button).perform() # 그 다음 그 요소를 누른다. "
   ]
  },
  {
   "cell_type": "code",
   "execution_count": null,
   "id": "d4a46659-5e3e-4eec-bd54-3a7adbd8995c",
   "metadata": {},
   "outputs": [],
   "source": []
  }
 ],
 "metadata": {
  "kernelspec": {
   "display_name": "Python 3 (ipykernel)",
   "language": "python",
   "name": "python3"
  },
  "language_info": {
   "codemirror_mode": {
    "name": "ipython",
    "version": 3
   },
   "file_extension": ".py",
   "mimetype": "text/x-python",
   "name": "python",
   "nbconvert_exporter": "python",
   "pygments_lexer": "ipython3",
   "version": "3.9.12"
  }
 },
 "nbformat": 4,
 "nbformat_minor": 5
}
