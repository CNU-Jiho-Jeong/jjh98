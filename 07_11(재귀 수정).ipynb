{
 "cells": [
  {
   "cell_type": "code",
   "execution_count": 2,
   "id": "08ffd166",
   "metadata": {},
   "outputs": [
    {
     "data": {
      "text/plain": [
       "210"
      ]
     },
     "execution_count": 2,
     "metadata": {},
     "output_type": "execute_result"
    }
   ],
   "source": [
    "# 1 부터 n 까지의 합\n",
    "\n",
    "def sum(n):\n",
    "    if n<=1:\n",
    "        return n\n",
    "    else:\n",
    "        return n + sum(n-1)\n",
    "\n",
    "    \n",
    "sum(20)"
   ]
  },
  {
   "cell_type": "code",
   "execution_count": 7,
   "id": "3b01a5bc",
   "metadata": {},
   "outputs": [
    {
     "data": {
      "text/plain": [
       "3"
      ]
     },
     "execution_count": 7,
     "metadata": {},
     "output_type": "execute_result"
    }
   ],
   "source": [
    "# 피보나치 수열 재귀함수 방식\n",
    "\n",
    "def Fibo(n):\n",
    "    if n==0:\n",
    "        return 0\n",
    "    elif n==1:\n",
    "        return 1\n",
    "    else:\n",
    "        return Fibo(n-1) + Fibo(n-2)\n",
    "\n",
    "Fibo(4)\n",
    "        \n",
    "\n",
    "\n",
    "    \n",
    "    "
   ]
  },
  {
   "cell_type": "code",
   "execution_count": 10,
   "id": "3d61d914",
   "metadata": {},
   "outputs": [
    {
     "data": {
      "text/plain": [
       "1"
      ]
     },
     "execution_count": 10,
     "metadata": {},
     "output_type": "execute_result"
    }
   ],
   "source": [
    "# 피보나치 수열 iterative 방식 \n",
    "\n",
    "def fibo():\n",
    "    a, b = 0, 1\n",
    "    while True:\n",
    "        a, b = b, a + b\n",
    "        yield a\n",
    "        \n",
    "f = fibo()\n",
    "next(f)\n",
    "\n",
    "    \n",
    "    "
   ]
  },
  {
   "cell_type": "code",
   "execution_count": 35,
   "id": "52526f96",
   "metadata": {},
   "outputs": [
    {
     "data": {
      "text/plain": [
       "55"
      ]
     },
     "execution_count": 35,
     "metadata": {},
     "output_type": "execute_result"
    }
   ],
   "source": [
    "# 피보나치 수열 if + for\n",
    "\n",
    "def fibo(n):\n",
    "    \n",
    "    a = 0\n",
    "    b = 1\n",
    "    if n <0:\n",
    "        return -1\n",
    "    elif n == 0: \n",
    "        return 0\n",
    "    elif n == 1:\n",
    "        return 1\n",
    "    else:\n",
    "        for i in range(1, n):\n",
    "            a, b = b, b + a\n",
    "    \n",
    "    return b\n",
    "    \n",
    "fibo(10)\n",
    "\n",
    "    "
   ]
  },
  {
   "cell_type": "code",
   "execution_count": 5,
   "id": "0f08bb94",
   "metadata": {},
   "outputs": [
    {
     "data": {
      "text/plain": [
       "-1"
      ]
     },
     "execution_count": 5,
     "metadata": {},
     "output_type": "execute_result"
    }
   ],
   "source": [
    "# 재귀 + 이진 탐색 (실행 시 kenel이 꺼져버림....)\n",
    "\n",
    "def binsearch(L,x,lower,upper):\n",
    "    if x not in L[lower:upper]:\n",
    "        return -1\n",
    "    mid = (lower+upper)//2\n",
    "    if x == L[mid]:\n",
    "        return mid\n",
    "    elif x<L[mid]:\n",
    "        return binsearch(L,x,0,mid)\n",
    "    else:\n",
    "        return binsearch(L,x,mid,-1)\n",
    "    \n",
    "L = [1,2,3,4]\n",
    "\n",
    "binsearch(L,5,0,len(L)-1)"
   ]
  },
  {
   "cell_type": "code",
   "execution_count": 7,
   "id": "350af2eb",
   "metadata": {},
   "outputs": [
    {
     "name": "stdout",
     "output_type": "stream",
     "text": [
      "n=1\n",
      "1 -> 3\n",
      "n=2\n",
      "1 -> 2\n",
      "1 -> 3\n",
      "2 -> 3\n",
      "n=3\n",
      "1 -> 3\n",
      "1 -> 2\n",
      "3 -> 2\n",
      "1 -> 3\n",
      "2 -> 1\n",
      "2 -> 3\n",
      "1 -> 3\n"
     ]
    }
   ],
   "source": [
    "# 하노이의 탑( 추후에 더 자세히 이해해야 함. )\n",
    "\n",
    "def hanoi(n, from_pos, to_pos, aux_pos):\n",
    "    if n==1:\n",
    "        print(from_pos, \"->\", to_pos)\n",
    "        return\n",
    "    \n",
    "    hanoi(n-1, from_pos, aux_pos, to_pos)\n",
    "    print(from_pos, \"->\", to_pos)\n",
    "    hanoi(n-1, aux_pos, to_pos, from_pos)\n",
    "    \n",
    "print(\"n=1\")\n",
    "hanoi(1,1,3,2)\n",
    "\n",
    "print(\"n=2\")\n",
    "hanoi(2,1,3,2)\n",
    "\n",
    "print(\"n=3\")\n",
    "hanoi(3,1,3,2)"
   ]
  },
  {
   "cell_type": "code",
   "execution_count": null,
   "id": "4fb6177c",
   "metadata": {},
   "outputs": [],
   "source": []
  }
 ],
 "metadata": {
  "kernelspec": {
   "display_name": "Python 3 (ipykernel)",
   "language": "python",
   "name": "python3"
  },
  "language_info": {
   "codemirror_mode": {
    "name": "ipython",
    "version": 3
   },
   "file_extension": ".py",
   "mimetype": "text/x-python",
   "name": "python",
   "nbconvert_exporter": "python",
   "pygments_lexer": "ipython3",
   "version": "3.9.12"
  }
 },
 "nbformat": 4,
 "nbformat_minor": 5
}
